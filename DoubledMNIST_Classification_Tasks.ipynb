{
  "nbformat": 4,
  "nbformat_minor": 0,
  "metadata": {
    "colab": {
      "name": "DoubledMNIST_Classification_Tasks.ipynb",
      "version": "0.3.2",
      "provenance": [],
      "collapsed_sections": [
        "ZR630WA6ApNE",
        "Q1Fhwb90AwHV"
      ],
      "toc_visible": true,
      "include_colab_link": true
    },
    "kernelspec": {
      "name": "python3",
      "display_name": "Python 3"
    },
    "accelerator": "GPU"
  },
  "cells": [
    {
      "cell_type": "markdown",
      "metadata": {
        "id": "view-in-github",
        "colab_type": "text"
      },
      "source": [
        "<a href=\"https://colab.research.google.com/github/MilanCugur/DoubledMNIST/blob/master/DoubledMNIST_Classification_Tasks.ipynb\" target=\"_parent\"><img src=\"https://colab.research.google.com/assets/colab-badge.svg\" alt=\"Open In Colab\"/></a>"
      ]
    },
    {
      "cell_type": "code",
      "metadata": {
        "id": "97wTa6g0zpLk",
        "colab_type": "code",
        "outputId": "a20fccf6-58de-4cb6-8557-21cd9da3218d",
        "colab": {
          "base_uri": "https://localhost:8080/",
          "height": 122
        }
      },
      "source": [
        "from google.colab import drive\n",
        "drive.mount('/content/drive')"
      ],
      "execution_count": 1,
      "outputs": [
        {
          "output_type": "stream",
          "text": [
            "Go to this URL in a browser: https://accounts.google.com/o/oauth2/auth?client_id=947318989803-6bn6qk8qdgf4n4g3pfee6491hc0brc4i.apps.googleusercontent.com&redirect_uri=urn%3Aietf%3Awg%3Aoauth%3A2.0%3Aoob&scope=email%20https%3A%2F%2Fwww.googleapis.com%2Fauth%2Fdocs.test%20https%3A%2F%2Fwww.googleapis.com%2Fauth%2Fdrive%20https%3A%2F%2Fwww.googleapis.com%2Fauth%2Fdrive.photos.readonly%20https%3A%2F%2Fwww.googleapis.com%2Fauth%2Fpeopleapi.readonly&response_type=code\n",
            "\n",
            "Enter your authorization code:\n",
            "··········\n",
            "Mounted at /content/drive\n"
          ],
          "name": "stdout"
        }
      ]
    },
    {
      "cell_type": "code",
      "metadata": {
        "id": "Y2p1ENVF1vc3",
        "colab_type": "code",
        "colab": {
          "base_uri": "https://localhost:8080/",
          "height": 34
        },
        "outputId": "8743aa27-0835-4f84-a5c5-bb9d0af3a533"
      },
      "source": [
        "# General tools\n",
        "import matplotlib.pyplot as plt\n",
        "import numpy as np\n",
        "import pandas as pd\n",
        "import seaborn as sns\n",
        "from tqdm import tqdm\n",
        "\n",
        "# Metrics and Evaluation\n",
        "from sklearn.metrics import accuracy_score\n",
        "from sklearn.model_selection import train_test_split, GridSearchCV\n",
        "from sklearn.metrics import classification_report\n",
        "from sklearn.metrics import confusion_matrix\n",
        "from sklearn import metrics\n",
        "import sklearn.metrics as met\n",
        "\n",
        "# KNearest Neighbours\n",
        "from sklearn.cluster import KMeans\n",
        "from sklearn.neighbors import KNeighborsClassifier  \n",
        "\n",
        "# SVC\n",
        "from sklearn.svm import  SVC\n",
        "from sklearn.model_selection import validation_curve\n",
        "from sklearn.model_selection import KFold\n",
        "from sklearn.model_selection import cross_val_score\n",
        "from sklearn.model_selection import GridSearchCV\n",
        "\n",
        "# Decision Tree\n",
        "from sklearn import tree\n",
        "from sklearn.tree import  DecisionTreeClassifier, export_graphviz\n",
        "import subprocess\n",
        "from sklearn.ensemble import RandomForestClassifier\n",
        "\n",
        "# Deep Neural Network\n",
        "from keras.models import Model\n",
        "from keras.layers import Input, Conv2D, MaxPool2D, Flatten, Concatenate, Dense, Dropout, BatchNormalization\n",
        "from keras.optimizers import Adam  # First, naive approach\n",
        "from keras.losses import categorical_crossentropy\n",
        "from keras.callbacks import ModelCheckpoint, EarlyStopping, ReduceLROnPlateau, CSVLogger  # Add callbacks to model\n",
        "from keras.models import load_model  # Save model params\n",
        "from keras.layers import LeakyReLU, concatenate\n",
        "from keras.layers.advanced_activations import PReLU\n",
        "from keras.initializers import glorot_normal\n",
        "from keras.utils import to_categorical\n",
        "from keras.utils import Sequence\n",
        "from sklearn.utils import shuffle\n",
        "import keras.backend as K"
      ],
      "execution_count": 2,
      "outputs": [
        {
          "output_type": "stream",
          "text": [
            "Using TensorFlow backend.\n"
          ],
          "name": "stderr"
        }
      ]
    },
    {
      "cell_type": "markdown",
      "metadata": {
        "id": "Fk8sIaPez8hm",
        "colab_type": "text"
      },
      "source": [
        "# Load data"
      ]
    },
    {
      "cell_type": "code",
      "metadata": {
        "id": "3nqZx6Bxzwtm",
        "colab_type": "code",
        "colab": {}
      },
      "source": [
        "def extract_dataset(path):\n",
        "  \"\"\"\n",
        "  extract DoubledMNIST dataset\n",
        "  Argument: path to .zip file with the dataset\n",
        "  Return value: x_train, y_train, x_test, y_test lists of numpy arrays \n",
        "  \n",
        "  (DoubledMNIST dataset: train size 120k images 56x56, test size 20k images 56x56)\n",
        "  \"\"\"\n",
        "  # import libraries\n",
        "  import os                     # for basic os operations\n",
        "  from zipfile import ZipFile \n",
        "  from skimage import io\n",
        "  import numpy as np\n",
        "  import shutil\n",
        "  \n",
        "  if not path.endswith('.zip'):\n",
        "    raise ValueError(\"Error: path is not '.zip' file\")\n",
        "  \n",
        "  archive = ZipFile(path, 'r')  # extract\n",
        "  archive.extractall('./DoubledMNIST')\n",
        "  archive.close()\n",
        "  del archive\n",
        "  \n",
        "  x_train = []\n",
        "  y_train = []\n",
        "  x_test = []\n",
        "  y_test = []\n",
        "  \n",
        "  for file in os.listdir('./DoubledMNIST/train'):\n",
        "    img = io.imread(os.path.join('./DoubledMNIST/train', file))\n",
        "    x_train.append(np.array(img))\n",
        "    y_train.append(int(file.split('_')[1]))\n",
        "  \n",
        "  for file in os.listdir('./DoubledMNIST/test'):\n",
        "    img = io.imread(os.path.join('./DoubledMNIST/test', file))\n",
        "    x_test.append(np.array(img))\n",
        "    y_test.append(int(file.split('_')[1]))\n",
        "    \n",
        "  shutil.rmtree('./DoubledMNIST')\n",
        "  return x_train, y_train, x_test, y_test"
      ],
      "execution_count": 0,
      "outputs": []
    },
    {
      "cell_type": "code",
      "metadata": {
        "id": "5yQ4cceG0B76",
        "colab_type": "code",
        "outputId": "bf2966a7-1887-4faf-8852-15c9f5c5f3fa",
        "colab": {
          "base_uri": "https://localhost:8080/",
          "height": 51
        }
      },
      "source": [
        "%%time\n",
        "x_train, y_train, x_test, y_test = extract_dataset('./drive/My Drive/dm_sem/DoubledMNIST.zip')"
      ],
      "execution_count": 4,
      "outputs": [
        {
          "output_type": "stream",
          "text": [
            "CPU times: user 54.6 s, sys: 13.4 s, total: 1min 8s\n",
            "Wall time: 1min 11s\n"
          ],
          "name": "stdout"
        }
      ]
    },
    {
      "cell_type": "code",
      "metadata": {
        "id": "DpSqzljL0gCD",
        "colab_type": "code",
        "outputId": "8bd8c4c9-c953-4cd7-ed00-a3de7fbe52fc",
        "colab": {
          "base_uri": "https://localhost:8080/",
          "height": 85
        }
      },
      "source": [
        "print('No of train images: ', len(x_train))  # size check\n",
        "print('No of train labels: ', len(y_train))\n",
        "print('No of test images: ', len(x_test))\n",
        "print('No of test labels: ', len(y_test))"
      ],
      "execution_count": 5,
      "outputs": [
        {
          "output_type": "stream",
          "text": [
            "No of train images:  120000\n",
            "No of train labels:  120000\n",
            "No of test images:  20000\n",
            "No of test labels:  20000\n"
          ],
          "name": "stdout"
        }
      ]
    },
    {
      "cell_type": "code",
      "metadata": {
        "id": "Qg0QmzMZ0kFJ",
        "colab_type": "code",
        "outputId": "24b54fff-1502-4aca-bbe0-b4b985d43119",
        "colab": {
          "base_uri": "https://localhost:8080/",
          "height": 136
        }
      },
      "source": [
        "x_train[0]  # image check; its saved as 8bit grayscale image"
      ],
      "execution_count": 6,
      "outputs": [
        {
          "output_type": "execute_result",
          "data": {
            "text/plain": [
              "array([[255, 255, 255, ..., 255, 254, 255],\n",
              "       [255, 255, 255, ..., 255, 254, 255],\n",
              "       [255, 255, 255, ..., 255, 254, 255],\n",
              "       ...,\n",
              "       [255, 255, 255, ..., 255, 254, 255],\n",
              "       [254, 254, 254, ..., 254, 254, 254],\n",
              "       [255, 255, 255, ..., 255, 254, 255]], dtype=uint8)"
            ]
          },
          "metadata": {
            "tags": []
          },
          "execution_count": 6
        }
      ]
    },
    {
      "cell_type": "code",
      "metadata": {
        "id": "ab4yiqY60mSj",
        "colab_type": "code",
        "outputId": "b0da5efb-35b0-4125-c697-0d8b861a7422",
        "colab": {
          "base_uri": "https://localhost:8080/",
          "height": 536
        }
      },
      "source": [
        "# Plot some examples from datbase\n",
        "print('Slucajni uzorak baze podataka: ')\n",
        "fig, ax = plt.subplots(nrows=4, ncols=10)\n",
        "fig.set_figheight(9)\n",
        "fig.set_figwidth(18)\n",
        "for row in ax:\n",
        "    for col in row:\n",
        "      i = np.random.randint(len(x_train))\n",
        "      col.imshow(x_train[i], cmap='gray')\n",
        "      \n",
        "plt.show()"
      ],
      "execution_count": 57,
      "outputs": [
        {
          "output_type": "stream",
          "text": [
            "Slucajni uzorak baze podataka: \n"
          ],
          "name": "stdout"
        },
        {
          "output_type": "display_data",
          "data": {
            "image/png": "[encoded data removed]",
            "text/plain": [
              "<Figure size 1296x648 with 40 Axes>"
            ]
          },
          "metadata": {
            "tags": []
          }
        }
      ]
    },
    {
      "cell_type": "code",
      "metadata": {
        "id": "WDWj0zlO0rxl",
        "colab_type": "code",
        "outputId": "1fa1c2b6-65f8-402c-906d-0a9339c1f168",
        "colab": {
          "base_uri": "https://localhost:8080/",
          "height": 34
        }
      },
      "source": [
        "x_train[0].shape  # check image shape"
      ],
      "execution_count": 38,
      "outputs": [
        {
          "output_type": "execute_result",
          "data": {
            "text/plain": [
              "(56, 56)"
            ]
          },
          "metadata": {
            "tags": []
          },
          "execution_count": 38
        }
      ]
    },
    {
      "cell_type": "code",
      "metadata": {
        "id": "r6NA-HjB0_-z",
        "colab_type": "code",
        "outputId": "d49c553d-1881-4a94-9b6c-b70a7cc8d42c",
        "colab": {
          "base_uri": "https://localhost:8080/",
          "height": 34
        }
      },
      "source": [
        "type(x_train[0])  # check image type"
      ],
      "execution_count": 39,
      "outputs": [
        {
          "output_type": "execute_result",
          "data": {
            "text/plain": [
              "numpy.ndarray"
            ]
          },
          "metadata": {
            "tags": []
          },
          "execution_count": 39
        }
      ]
    },
    {
      "cell_type": "markdown",
      "metadata": {
        "id": "HvIEB8RT69RN",
        "colab_type": "text"
      },
      "source": [
        "# Data for Choosing Parameters / Final Train"
      ]
    },
    {
      "cell_type": "code",
      "metadata": {
        "id": "romqGE8R2db4",
        "colab_type": "code",
        "colab": {}
      },
      "source": [
        "# Data for evaluation\n",
        "x_train_full = np.array([img.flatten()/255.0 for img in x_train])  # image preprocessiong, convert it to [0, 1] and flatten for knn; knn dont requests normalize data?\n",
        "y_train_full = np.array(y_train)\n",
        "\n",
        "x_test_full = np.array([img.flatten()/255.0 for img in x_test])\n",
        "y_test_full = np.array(y_test)"
      ],
      "execution_count": 0,
      "outputs": []
    },
    {
      "cell_type": "code",
      "metadata": {
        "id": "IX3F_6HX4oEN",
        "colab_type": "code",
        "colab": {}
      },
      "source": [
        "# Data for parameter choosing (knn, svm, dt)\n",
        "x_train_choose = np.array([img.flatten()/255.0 for img in x_train[:1000]])  \n",
        "y_train_choose = np.array(y_train[:1000])\n",
        "x_test_choose = np.array([img.flatten()/255.0 for img in x_train[1000:2000]])  \n",
        "y_test_choose = np.array(y_train[1000:2000])"
      ],
      "execution_count": 0,
      "outputs": []
    },
    {
      "cell_type": "code",
      "metadata": {
        "id": "Ce3dZCxw768T",
        "colab_type": "code",
        "colab": {
          "base_uri": "https://localhost:8080/",
          "height": 599
        },
        "outputId": "79265bd0-5c3c-4f3a-87e1-e1f56bb7600a"
      },
      "source": [
        "plt.figure(figsize=(10,10))\n",
        "print('Raspodela labela na celom skupu podataka')\n",
        "plt.pie([sum(y_train_full==y) for y in range(10)], shadow=True, startangle=90, labels = ['0','1','2','3','4','5','6','7','8','9'], autopct='%1.1f%%')\n",
        "plt.legend()\n",
        "plt.show()"
      ],
      "execution_count": 55,
      "outputs": [
        {
          "output_type": "stream",
          "text": [
            "Raspodela labela na celom skupu podataka\n"
          ],
          "name": "stdout"
        },
        {
          "output_type": "display_data",
          "data": {
            "image/png": "[encoded data removed]",
            "text/plain": [
              "<Figure size 720x720 with 1 Axes>"
            ]
          },
          "metadata": {
            "tags": []
          }
        }
      ]
    },
    {
      "cell_type": "code",
      "metadata": {
        "id": "580FW-ju6uLV",
        "colab_type": "code",
        "colab": {
          "base_uri": "https://localhost:8080/",
          "height": 599
        },
        "outputId": "bcf6489a-c7c4-4c08-ebc7-41a15d28dbcc"
      },
      "source": [
        "plt.figure(figsize=(10,10))\n",
        "print('Raspodela labela na skupu za izbor parametara')\n",
        "plt.pie([sum(y_train_choose==y) for y in range(10)], shadow=True, startangle=90, labels = ['0','1','2','3','4','5','6','7','8','9'], autopct='%1.1f%%')\n",
        "plt.legend()\n",
        "plt.show()"
      ],
      "execution_count": 56,
      "outputs": [
        {
          "output_type": "stream",
          "text": [
            "Raspodela labela na skupu za izbor parametara\n"
          ],
          "name": "stdout"
        },
        {
          "output_type": "display_data",
          "data": {
            "image/png": "[encoded data removed]",
            "text/plain": [
              "<Figure size 720x720 with 1 Axes>"
            ]
          },
          "metadata": {
            "tags": []
          }
        }
      ]
    },
    {
      "cell_type": "code",
      "metadata": {
        "id": "tHdX8m2vFA6a",
        "colab_type": "code",
        "colab": {}
      },
      "source": [
        "labels = ['0', '1', '2', '3', '4', '5', '6', '7', '8', '9']"
      ],
      "execution_count": 0,
      "outputs": []
    },
    {
      "cell_type": "markdown",
      "metadata": {
        "id": "E3DgR_Fr1E4d",
        "colab_type": "text"
      },
      "source": [
        "# KNearest Neighbours"
      ]
    },
    {
      "cell_type": "markdown",
      "metadata": {
        "id": "VRi4nYT74lAf",
        "colab_type": "text"
      },
      "source": [
        "## Choose parameters"
      ]
    },
    {
      "cell_type": "code",
      "metadata": {
        "id": "tiOKtoIW3UG_",
        "colab_type": "code",
        "outputId": "6e5dbe66-fc91-4aa4-9290-3c89dc8994fa",
        "colab": {
          "base_uri": "https://localhost:8080/",
          "height": 799
        }
      },
      "source": [
        "%%time\n",
        "\n",
        "ks = [1,2,3,4,5,6,7,8,9,10,30]  # choose appropriate k\n",
        "ps = [1, 2]\n",
        "ws = ['uniform', 'distance']\n",
        "\n",
        "max_params = {'k':0, 'p':0, 'w':0}\n",
        "max_score = 0\n",
        "for k in ks:\n",
        "  for p in ps:\n",
        "    for w in ws:\n",
        "      knn = KNeighborsClassifier(n_neighbors=k, p=p, weights=w)  # approx ~ 1nn\n",
        "      knn.fit(x_train_choose, y_train_choose)\n",
        "  \n",
        "      score = accuracy_score(y_test_choose, knn.predict(x_test_choose))  # check acc score\n",
        "      print(f\"knn(k={k}, p={p}, weights={w}) : {score}\")\n",
        "      if score>max_score:  # Okamov zilet\n",
        "        max_params['k'] = k\n",
        "        max_params['p'] = p\n",
        "        max_params['w'] = w\n",
        "        max_score = score\n",
        "      del knn"
      ],
      "execution_count": 69,
      "outputs": [
        {
          "output_type": "stream",
          "text": [
            "knn(k=1, p=1, weights=uniform) : 0.886\n",
            "knn(k=1, p=1, weights=distance) : 0.886\n",
            "knn(k=1, p=2, weights=uniform) : 0.904\n",
            "knn(k=1, p=2, weights=distance) : 0.904\n",
            "knn(k=2, p=1, weights=uniform) : 0.853\n",
            "knn(k=2, p=1, weights=distance) : 0.886\n",
            "knn(k=2, p=2, weights=uniform) : 0.87\n",
            "knn(k=2, p=2, weights=distance) : 0.904\n",
            "knn(k=3, p=1, weights=uniform) : 0.874\n",
            "knn(k=3, p=1, weights=distance) : 0.886\n",
            "knn(k=3, p=2, weights=uniform) : 0.897\n",
            "knn(k=3, p=2, weights=distance) : 0.904\n",
            "knn(k=4, p=1, weights=uniform) : 0.866\n",
            "knn(k=4, p=1, weights=distance) : 0.889\n",
            "knn(k=4, p=2, weights=uniform) : 0.891\n",
            "knn(k=4, p=2, weights=distance) : 0.904\n",
            "knn(k=5, p=1, weights=uniform) : 0.873\n",
            "knn(k=5, p=1, weights=distance) : 0.89\n",
            "knn(k=5, p=2, weights=uniform) : 0.893\n",
            "knn(k=5, p=2, weights=distance) : 0.898\n",
            "knn(k=6, p=1, weights=uniform) : 0.872\n",
            "knn(k=6, p=1, weights=distance) : 0.883\n",
            "knn(k=6, p=2, weights=uniform) : 0.887\n",
            "knn(k=6, p=2, weights=distance) : 0.898\n",
            "knn(k=7, p=1, weights=uniform) : 0.873\n",
            "knn(k=7, p=1, weights=distance) : 0.882\n",
            "knn(k=7, p=2, weights=uniform) : 0.883\n",
            "knn(k=7, p=2, weights=distance) : 0.891\n",
            "knn(k=8, p=1, weights=uniform) : 0.873\n",
            "knn(k=8, p=1, weights=distance) : 0.885\n",
            "knn(k=8, p=2, weights=uniform) : 0.884\n",
            "knn(k=8, p=2, weights=distance) : 0.893\n",
            "knn(k=9, p=1, weights=uniform) : 0.87\n",
            "knn(k=9, p=1, weights=distance) : 0.881\n",
            "knn(k=9, p=2, weights=uniform) : 0.886\n",
            "knn(k=9, p=2, weights=distance) : 0.892\n",
            "knn(k=10, p=1, weights=uniform) : 0.867\n",
            "knn(k=10, p=1, weights=distance) : 0.876\n",
            "knn(k=10, p=2, weights=uniform) : 0.883\n",
            "knn(k=10, p=2, weights=distance) : 0.894\n",
            "knn(k=30, p=1, weights=uniform) : 0.796\n",
            "knn(k=30, p=1, weights=distance) : 0.81\n",
            "knn(k=30, p=2, weights=uniform) : 0.822\n",
            "knn(k=30, p=2, weights=distance) : 0.837\n",
            "CPU times: user 5min 6s, sys: 111 ms, total: 5min 6s\n",
            "Wall time: 5min 7s\n"
          ],
          "name": "stdout"
        }
      ]
    },
    {
      "cell_type": "code",
      "metadata": {
        "id": "M9WrmEUC6VdC",
        "colab_type": "code",
        "outputId": "29f42b4a-7be1-46c6-98f6-bfebdca27524",
        "colab": {
          "base_uri": "https://localhost:8080/",
          "height": 51
        }
      },
      "source": [
        "print(max_params)\n",
        "print(max_score)"
      ],
      "execution_count": 70,
      "outputs": [
        {
          "output_type": "stream",
          "text": [
            "{'k': 1, 'p': 2, 'w': 'uniform'}\n",
            "0.904\n"
          ],
          "name": "stdout"
        }
      ]
    },
    {
      "cell_type": "markdown",
      "metadata": {
        "id": "iT34BibX6kO6",
        "colab_type": "text"
      },
      "source": [
        "## Evaluate on best params"
      ]
    },
    {
      "cell_type": "code",
      "metadata": {
        "id": "vbBEVhf87Q2U",
        "colab_type": "code",
        "colab": {}
      },
      "source": [
        "k = max_params['k']\n",
        "p = max_params['p']\n",
        "w = max_params['w']"
      ],
      "execution_count": 0,
      "outputs": []
    },
    {
      "cell_type": "code",
      "metadata": {
        "id": "F3mFWwgT1Y2m",
        "colab_type": "code",
        "outputId": "029b283f-ad74-4bf6-f7b6-e9a801ac9399",
        "colab": {
          "base_uri": "https://localhost:8080/",
          "height": 51
        }
      },
      "source": [
        "%%time\n",
        "\n",
        "knn = KNeighborsClassifier(n_neighbors=k, p=p, weights=w)  # approx ~ 1nn\n",
        "knn.fit(x_train_full, y_train_full)  "
      ],
      "execution_count": 100,
      "outputs": [
        {
          "output_type": "stream",
          "text": [
            "CPU times: user 58.6 s, sys: 123 ms, total: 58.8 s\n",
            "Wall time: 58.6 s\n"
          ],
          "name": "stdout"
        }
      ]
    },
    {
      "cell_type": "code",
      "metadata": {
        "id": "D1iCT3Px4anO",
        "colab_type": "code",
        "outputId": "8a69a8ca-ea01-4b2c-b53b-e6c3bc95b94d",
        "colab": {
          "base_uri": "https://localhost:8080/",
          "height": 34
        }
      },
      "source": [
        "%%time\n",
        "\n",
        "Mconfusion = np.zeros((10, 10))  # [true, predicted]\n",
        "y_predicted = []\n",
        "\n",
        "for i in tqdm(range(len(y_test_full))):\n",
        "  prediction = knn.predict([x_test_full[i]])[0]\n",
        "  y_predicted.append(prediction)\n",
        "  Mconfusion[y_test_full[i], prediction] += 1"
      ],
      "execution_count": 0,
      "outputs": [
        {
          "output_type": "stream",
          "text": [
            " 21%|██        | 4206/20000 [41:45<3:00:28,  1.46it/s]"
          ],
          "name": "stderr"
        }
      ]
    },
    {
      "cell_type": "code",
      "metadata": {
        "id": "vOBjxemYEt3Q",
        "colab_type": "code",
        "colab": {}
      },
      "source": [
        "_all = np.sum(np.sum(Mconfusion))\n",
        "_true = np.sum([Mconfusion[i][i] for i in range(10)])\n",
        "\n",
        "print('KNN accuracy: ', _true/_all)"
      ],
      "execution_count": 0,
      "outputs": []
    },
    {
      "cell_type": "code",
      "metadata": {
        "id": "qTGDTIZTHGtN",
        "colab_type": "code",
        "colab": {}
      },
      "source": [
        "report = classification_report(y_test_full, y_predicted)\n",
        "print(report)"
      ],
      "execution_count": 0,
      "outputs": []
    },
    {
      "cell_type": "code",
      "metadata": {
        "id": "oYpkQdrcEtsy",
        "colab_type": "code",
        "colab": {}
      },
      "source": [
        "fig, ax = plt.subplots(figsize=(8,8))\n",
        "sns.heatmap(Mconfusion, annot=False, ax = ax)\n",
        "\n",
        "# By definition a confusion matrix C is such that Cij is equal to the number of observations known to be in group i but predicted to be in group j.\n",
        "ax.set_xlabel('Predicted labels')\n",
        "ax.set_ylabel('True labels')\n",
        "ax.set_title('Confusion Matrix');\n",
        "ax.xaxis.set_ticklabels(labels)\n",
        "ax.yaxis.set_ticklabels(labels)\n",
        "\n",
        "fig.savefig('KNN_confusion_matrix.png')\n",
        "plt.show()"
      ],
      "execution_count": 0,
      "outputs": []
    },
    {
      "cell_type": "markdown",
      "metadata": {
        "id": "ZR630WA6ApNE",
        "colab_type": "text"
      },
      "source": [
        "# Support Vector Machine (SVC)"
      ]
    },
    {
      "cell_type": "code",
      "metadata": {
        "id": "ZwmYHLyR8prf",
        "colab_type": "code",
        "outputId": "9ebe4440-a464-4e9b-9c20-8d31e34891c1",
        "colab": {
          "base_uri": "https://localhost:8080/",
          "height": 85
        }
      },
      "source": [
        "print(x_train_choose.shape)\n",
        "print(y_train_choose.shape)\n",
        "print(x_test_choose.shape)\n",
        "print(y_test_choose.shape)"
      ],
      "execution_count": 0,
      "outputs": [
        {
          "output_type": "stream",
          "text": [
            "(1000, 3136)\n",
            "(1000,)\n",
            "(100, 3136)\n",
            "(100,)\n"
          ],
          "name": "stdout"
        }
      ]
    },
    {
      "cell_type": "code",
      "metadata": {
        "id": "Gof372OW8uvi",
        "colab_type": "code",
        "outputId": "19c22fdd-37d1-4702-c7ef-de788b7add46",
        "colab": {
          "base_uri": "https://localhost:8080/",
          "height": 989
        }
      },
      "source": [
        "for i in range(56):  # print values of image!\n",
        "  for j in range(56):\n",
        "    print(\"%.2f \" % x_train_choose[0][56*i+j], end='')\n",
        "  print()"
      ],
      "execution_count": 0,
      "outputs": [
        {
          "output_type": "stream",
          "text": [
            "1.00 1.00 1.00 1.00 1.00 1.00 1.00 1.00 1.00 1.00 1.00 1.00 1.00 1.00 1.00 1.00 1.00 1.00 1.00 1.00 1.00 1.00 1.00 0.99 0.99 0.98 0.98 0.97 0.96 0.94 0.91 0.89 0.86 0.82 0.80 0.78 0.77 0.79 0.81 0.84 0.89 0.92 0.95 0.97 0.98 0.99 1.00 1.00 1.00 1.00 1.00 1.00 1.00 1.00 1.00 1.00 \n",
            "1.00 1.00 1.00 1.00 1.00 1.00 1.00 1.00 1.00 1.00 1.00 1.00 1.00 1.00 1.00 1.00 1.00 1.00 1.00 1.00 1.00 0.99 0.99 0.98 0.98 0.98 0.96 0.95 0.94 0.92 0.88 0.85 0.82 0.77 0.75 0.73 0.72 0.74 0.76 0.81 0.86 0.89 0.93 0.96 0.97 0.98 1.00 1.00 1.00 1.00 1.00 1.00 1.00 1.00 1.00 1.00 \n",
            "1.00 1.00 1.00 1.00 1.00 1.00 1.00 1.00 1.00 1.00 1.00 1.00 1.00 1.00 1.00 1.00 1.00 1.00 1.00 1.00 0.99 0.99 0.98 0.98 0.97 0.96 0.95 0.93 0.91 0.89 0.84 0.81 0.77 0.71 0.69 0.67 0.66 0.68 0.71 0.76 0.83 0.87 0.91 0.95 0.96 0.98 1.00 1.00 1.00 1.00 1.00 1.00 1.00 1.00 1.00 1.00 \n",
            "1.00 1.00 1.00 1.00 1.00 1.00 1.00 1.00 1.00 1.00 1.00 1.00 1.00 1.00 1.00 1.00 1.00 1.00 1.00 0.99 0.99 0.98 0.97 0.95 0.94 0.92 0.90 0.87 0.84 0.80 0.74 0.70 0.65 0.58 0.55 0.53 0.53 0.56 0.60 0.67 0.75 0.80 0.86 0.92 0.94 0.96 1.00 1.00 1.00 1.00 1.00 1.00 1.00 1.00 1.00 1.00 \n",
            "1.00 1.00 1.00 1.00 1.00 1.00 1.00 1.00 1.00 1.00 1.00 1.00 1.00 1.00 1.00 1.00 1.00 1.00 0.99 0.99 0.98 0.96 0.95 0.91 0.89 0.87 0.82 0.78 0.75 0.70 0.64 0.58 0.53 0.46 0.43 0.41 0.41 0.45 0.49 0.58 0.67 0.74 0.81 0.88 0.90 0.93 1.00 1.00 1.00 1.00 1.00 1.00 1.00 1.00 1.00 1.00 \n",
            "1.00 1.00 1.00 1.00 1.00 1.00 1.00 1.00 1.00 1.00 1.00 1.00 1.00 1.00 1.00 1.00 1.00 1.00 0.99 0.98 0.96 0.95 0.93 0.88 0.84 0.81 0.76 0.71 0.67 0.62 0.54 0.49 0.44 0.36 0.34 0.32 0.33 0.37 0.42 0.50 0.61 0.68 0.76 0.84 0.87 0.89 1.00 1.00 1.00 1.00 1.00 1.00 1.00 1.00 1.00 1.00 \n",
            "1.00 1.00 1.00 1.00 1.00 1.00 1.00 1.00 1.00 1.00 1.00 1.00 1.00 1.00 1.00 1.00 1.00 0.99 0.98 0.98 0.95 0.92 0.89 0.82 0.76 0.72 0.65 0.59 0.55 0.49 0.41 0.36 0.31 0.25 0.23 0.21 0.22 0.27 0.32 0.41 0.52 0.60 0.68 0.77 0.80 0.84 1.00 1.00 1.00 1.00 1.00 1.00 1.00 1.00 1.00 1.00 \n",
            "1.00 1.00 1.00 1.00 1.00 1.00 1.00 1.00 1.00 1.00 1.00 1.00 1.00 1.00 1.00 1.00 1.00 0.99 0.98 0.96 0.92 0.88 0.84 0.73 0.66 0.60 0.51 0.45 0.40 0.35 0.28 0.24 0.20 0.15 0.14 0.13 0.14 0.18 0.23 0.31 0.42 0.50 0.58 0.68 0.72 0.76 1.00 1.00 1.00 1.00 1.00 1.00 1.00 1.00 1.00 1.00 \n",
            "1.00 1.00 1.00 1.00 1.00 1.00 1.00 1.00 1.00 1.00 1.00 1.00 1.00 1.00 1.00 1.00 0.99 0.98 0.97 0.95 0.90 0.85 0.80 0.67 0.60 0.53 0.43 0.36 0.32 0.26 0.21 0.18 0.15 0.11 0.09 0.09 0.10 0.14 0.18 0.26 0.36 0.43 0.52 0.62 0.66 0.71 1.00 1.00 1.00 1.00 1.00 1.00 1.00 1.00 1.00 1.00 \n",
            "1.00 1.00 1.00 1.00 1.00 1.00 1.00 1.00 1.00 1.00 1.00 1.00 1.00 1.00 1.00 1.00 0.99 0.98 0.97 0.95 0.88 0.82 0.76 0.62 0.53 0.44 0.34 0.27 0.23 0.18 0.14 0.11 0.09 0.06 0.05 0.05 0.07 0.10 0.13 0.20 0.29 0.36 0.45 0.56 0.60 0.65 1.00 1.00 1.00 1.00 1.00 1.00 1.00 1.00 1.00 1.00 \n",
            "1.00 1.00 1.00 1.00 1.00 1.00 1.00 1.00 1.00 1.00 1.00 1.00 1.00 1.00 1.00 1.00 0.99 0.98 0.96 0.93 0.85 0.78 0.71 0.54 0.44 0.35 0.24 0.18 0.14 0.10 0.07 0.06 0.05 0.03 0.03 0.03 0.04 0.06 0.09 0.14 0.22 0.29 0.37 0.48 0.53 0.60 1.00 1.00 1.00 1.00 1.00 1.00 1.00 1.00 1.00 1.00 \n",
            "1.00 1.00 1.00 1.00 1.00 1.00 1.00 1.00 1.00 1.00 1.00 1.00 1.00 1.00 1.00 1.00 0.99 0.98 0.96 0.93 0.85 0.77 0.69 0.52 0.42 0.33 0.21 0.15 0.11 0.08 0.06 0.05 0.04 0.03 0.02 0.02 0.03 0.05 0.07 0.12 0.20 0.26 0.35 0.47 0.52 0.58 1.00 1.00 1.00 1.00 1.00 1.00 1.00 1.00 1.00 1.00 \n",
            "1.00 1.00 1.00 1.00 1.00 1.00 1.00 1.00 1.00 1.00 1.00 1.00 1.00 1.00 1.00 1.00 0.99 0.98 0.96 0.93 0.84 0.76 0.68 0.50 0.40 0.30 0.19 0.13 0.09 0.06 0.05 0.04 0.04 0.03 0.02 0.02 0.02 0.04 0.06 0.10 0.18 0.24 0.33 0.45 0.51 0.58 1.00 1.00 1.00 1.00 1.00 1.00 1.00 1.00 1.00 1.00 \n",
            "1.00 1.00 1.00 1.00 1.00 1.00 1.00 1.00 1.00 1.00 1.00 1.00 1.00 1.00 1.00 1.00 0.99 0.98 0.96 0.93 0.84 0.76 0.68 0.50 0.40 0.30 0.18 0.13 0.09 0.07 0.06 0.05 0.05 0.04 0.04 0.03 0.02 0.04 0.05 0.10 0.18 0.25 0.34 0.47 0.53 0.60 1.00 1.00 1.00 1.00 1.00 1.00 1.00 1.00 1.00 1.00 \n",
            "1.00 1.00 1.00 1.00 1.00 1.00 1.00 1.00 1.00 1.00 1.00 1.00 1.00 1.00 1.00 1.00 0.99 0.98 0.96 0.93 0.85 0.78 0.70 0.52 0.42 0.32 0.21 0.15 0.12 0.10 0.09 0.09 0.08 0.06 0.05 0.04 0.03 0.04 0.06 0.11 0.19 0.27 0.36 0.50 0.56 0.64 1.00 1.00 1.00 1.00 1.00 1.00 1.00 1.00 1.00 1.00 \n",
            "1.00 1.00 1.00 1.00 1.00 1.00 1.00 1.00 1.00 1.00 1.00 1.00 1.00 1.00 1.00 1.00 0.99 0.98 0.96 0.93 0.86 0.79 0.71 0.54 0.44 0.35 0.24 0.18 0.15 0.13 0.12 0.11 0.11 0.08 0.07 0.05 0.04 0.05 0.07 0.12 0.21 0.29 0.38 0.53 0.59 0.66 1.00 1.00 1.00 1.00 1.00 1.00 1.00 1.00 1.00 1.00 \n",
            "1.00 1.00 1.00 1.00 1.00 1.00 1.00 1.00 1.00 1.00 1.00 1.00 1.00 1.00 1.00 1.00 0.99 0.98 0.96 0.94 0.87 0.81 0.74 0.58 0.48 0.40 0.29 0.24 0.22 0.20 0.18 0.17 0.15 0.11 0.09 0.07 0.05 0.06 0.09 0.14 0.24 0.32 0.43 0.58 0.64 0.71 1.00 1.00 1.00 1.00 1.00 1.00 1.00 1.00 1.00 1.00 \n",
            "1.00 1.00 1.00 1.00 1.00 1.00 1.00 1.00 1.00 1.00 1.00 1.00 1.00 1.00 1.00 1.00 0.99 0.98 0.97 0.95 0.89 0.83 0.76 0.62 0.54 0.46 0.37 0.33 0.30 0.28 0.25 0.23 0.20 0.14 0.11 0.09 0.06 0.08 0.11 0.16 0.27 0.36 0.47 0.62 0.68 0.75 1.00 1.00 1.00 1.00 1.00 1.00 1.00 1.00 1.00 1.00 \n",
            "1.00 1.00 1.00 1.00 1.00 1.00 1.00 1.00 1.00 1.00 1.00 1.00 1.00 1.00 1.00 1.00 0.99 0.98 0.97 0.95 0.90 0.85 0.79 0.67 0.59 0.52 0.44 0.40 0.37 0.35 0.31 0.27 0.24 0.16 0.13 0.09 0.07 0.09 0.12 0.18 0.30 0.39 0.51 0.65 0.71 0.77 1.00 1.00 1.00 1.00 1.00 1.00 1.00 1.00 1.00 1.00 \n",
            "1.00 1.00 1.00 1.00 1.00 1.00 1.00 1.00 1.00 1.00 1.00 1.00 1.00 1.00 1.00 1.00 1.00 0.99 0.98 0.96 0.91 0.87 0.82 0.72 0.65 0.60 0.53 0.49 0.46 0.43 0.37 0.33 0.27 0.18 0.14 0.10 0.08 0.10 0.13 0.21 0.33 0.43 0.54 0.69 0.75 0.81 1.00 1.00 1.00 1.00 1.00 1.00 1.00 1.00 1.00 1.00 \n",
            "1.00 1.00 1.00 1.00 1.00 1.00 1.00 1.00 1.00 1.00 1.00 1.00 1.00 1.00 1.00 1.00 1.00 0.99 0.98 0.97 0.94 0.90 0.87 0.80 0.75 0.71 0.66 0.62 0.58 0.53 0.45 0.38 0.31 0.19 0.15 0.11 0.08 0.11 0.15 0.24 0.37 0.47 0.58 0.73 0.78 0.84 1.00 1.00 1.00 1.00 1.00 1.00 1.00 1.00 1.00 1.00 \n",
            "1.00 1.00 1.00 1.00 1.00 1.00 1.00 1.00 1.00 1.00 1.00 1.00 1.00 1.00 1.00 1.00 1.00 0.99 0.98 0.98 0.95 0.93 0.90 0.84 0.81 0.77 0.73 0.68 0.64 0.58 0.48 0.40 0.32 0.19 0.15 0.11 0.09 0.12 0.16 0.25 0.38 0.49 0.60 0.75 0.80 0.85 1.00 1.00 1.00 1.00 1.00 1.00 1.00 1.00 1.00 1.00 \n",
            "1.00 1.00 1.00 1.00 1.00 1.00 1.00 1.00 1.00 1.00 1.00 1.00 1.00 1.00 1.00 1.00 1.00 0.99 0.99 0.98 0.96 0.95 0.93 0.89 0.86 0.83 0.79 0.75 0.70 0.62 0.50 0.42 0.33 0.19 0.14 0.10 0.09 0.12 0.17 0.26 0.40 0.51 0.62 0.76 0.82 0.87 1.00 1.00 1.00 1.00 1.00 1.00 1.00 1.00 1.00 1.00 \n",
            "1.00 1.00 1.00 1.00 1.00 1.00 1.00 1.00 1.00 1.00 1.00 1.00 1.00 1.00 1.00 1.00 1.00 1.00 0.99 0.99 0.98 0.97 0.96 0.94 0.92 0.90 0.86 0.80 0.75 0.65 0.51 0.42 0.31 0.18 0.13 0.09 0.09 0.13 0.18 0.28 0.42 0.53 0.65 0.79 0.84 0.89 1.00 1.00 1.00 1.00 1.00 1.00 1.00 1.00 1.00 1.00 \n",
            "1.00 1.00 1.00 1.00 1.00 1.00 1.00 1.00 1.00 1.00 1.00 1.00 1.00 1.00 1.00 1.00 1.00 1.00 1.00 0.99 0.99 0.98 0.97 0.96 0.94 0.92 0.88 0.82 0.75 0.65 0.51 0.40 0.30 0.17 0.13 0.09 0.09 0.14 0.19 0.30 0.44 0.55 0.67 0.80 0.85 0.90 1.00 1.00 1.00 1.00 1.00 1.00 1.00 1.00 1.00 1.00 \n",
            "1.00 1.00 1.00 1.00 1.00 1.00 1.00 1.00 1.00 1.00 1.00 1.00 1.00 1.00 1.00 1.00 1.00 1.00 1.00 1.00 0.99 0.99 0.98 0.97 0.96 0.94 0.90 0.83 0.76 0.65 0.49 0.39 0.29 0.16 0.12 0.09 0.09 0.15 0.21 0.32 0.46 0.57 0.69 0.82 0.86 0.91 1.00 1.00 1.00 1.00 1.00 1.00 1.00 1.00 1.00 1.00 \n",
            "1.00 1.00 1.00 1.00 1.00 1.00 1.00 1.00 1.00 1.00 1.00 1.00 1.00 1.00 1.00 1.00 1.00 1.00 1.00 1.00 1.00 0.99 0.99 0.98 0.97 0.95 0.91 0.83 0.75 0.64 0.48 0.38 0.27 0.15 0.11 0.09 0.11 0.17 0.24 0.35 0.50 0.60 0.72 0.84 0.88 0.92 1.00 1.00 1.00 1.00 1.00 1.00 1.00 1.00 1.00 1.00 \n",
            "1.00 1.00 1.00 1.00 1.00 1.00 1.00 1.00 1.00 1.00 1.00 1.00 1.00 1.00 1.00 1.00 1.00 1.00 1.00 1.00 1.00 1.00 0.99 0.98 0.97 0.95 0.91 0.83 0.75 0.64 0.47 0.37 0.27 0.15 0.12 0.10 0.12 0.19 0.26 0.38 0.53 0.64 0.75 0.86 0.90 0.93 1.00 1.00 1.00 1.00 1.00 1.00 1.00 1.00 1.00 1.00 \n",
            "1.00 1.00 1.00 1.00 1.00 1.00 1.00 1.00 1.00 1.00 1.00 1.00 1.00 1.00 1.00 1.00 1.00 1.00 1.00 1.00 1.00 1.00 1.00 0.99 0.97 0.96 0.91 0.83 0.76 0.64 0.47 0.37 0.27 0.15 0.12 0.11 0.13 0.21 0.28 0.41 0.56 0.66 0.76 0.87 0.91 0.94 1.00 1.00 1.00 1.00 1.00 1.00 1.00 1.00 1.00 1.00 \n",
            "1.00 1.00 1.00 1.00 1.00 1.00 1.00 1.00 1.00 1.00 1.00 1.00 1.00 1.00 1.00 1.00 1.00 1.00 1.00 1.00 1.00 1.00 1.00 0.99 0.98 0.96 0.91 0.84 0.76 0.65 0.49 0.38 0.28 0.16 0.13 0.12 0.15 0.23 0.31 0.44 0.59 0.69 0.79 0.89 0.92 0.95 1.00 1.00 1.00 1.00 1.00 1.00 1.00 1.00 1.00 1.00 \n",
            "1.00 1.00 1.00 1.00 1.00 1.00 1.00 1.00 1.00 1.00 1.00 1.00 1.00 1.00 1.00 1.00 1.00 1.00 1.00 1.00 1.00 1.00 1.00 0.99 0.98 0.96 0.92 0.85 0.78 0.68 0.52 0.42 0.31 0.19 0.16 0.14 0.17 0.25 0.33 0.46 0.61 0.70 0.80 0.90 0.93 0.96 1.00 1.00 1.00 1.00 1.00 1.00 1.00 1.00 1.00 1.00 \n",
            "1.00 1.00 1.00 1.00 1.00 1.00 1.00 1.00 1.00 1.00 1.00 1.00 1.00 1.00 1.00 1.00 1.00 1.00 1.00 1.00 1.00 1.00 1.00 0.99 0.98 0.97 0.93 0.87 0.80 0.70 0.55 0.45 0.35 0.21 0.18 0.15 0.18 0.25 0.33 0.46 0.61 0.70 0.80 0.90 0.93 0.96 1.00 1.00 1.00 1.00 1.00 1.00 1.00 1.00 1.00 1.00 \n",
            "1.00 1.00 1.00 1.00 1.00 1.00 1.00 1.00 1.00 1.00 1.00 1.00 1.00 1.00 1.00 1.00 1.00 1.00 1.00 1.00 1.00 1.00 1.00 0.99 0.98 0.97 0.94 0.88 0.82 0.73 0.58 0.49 0.38 0.24 0.20 0.16 0.18 0.25 0.33 0.45 0.60 0.70 0.80 0.89 0.93 0.95 1.00 1.00 1.00 1.00 1.00 1.00 1.00 1.00 1.00 1.00 \n",
            "1.00 1.00 1.00 1.00 1.00 1.00 1.00 1.00 1.00 1.00 1.00 1.00 1.00 1.00 1.00 1.00 1.00 1.00 1.00 1.00 1.00 1.00 1.00 0.99 0.99 0.98 0.96 0.91 0.86 0.78 0.65 0.55 0.44 0.29 0.23 0.18 0.18 0.24 0.31 0.42 0.57 0.67 0.77 0.87 0.91 0.94 1.00 1.00 1.00 1.00 1.00 1.00 1.00 1.00 1.00 1.00 \n",
            "1.00 1.00 1.00 1.00 1.00 1.00 1.00 1.00 1.00 1.00 1.00 1.00 1.00 1.00 1.00 1.00 1.00 1.00 1.00 1.00 1.00 1.00 1.00 1.00 0.99 0.98 0.96 0.92 0.88 0.80 0.68 0.58 0.47 0.31 0.25 0.20 0.18 0.22 0.28 0.40 0.54 0.64 0.75 0.86 0.89 0.93 1.00 1.00 1.00 1.00 1.00 1.00 1.00 1.00 1.00 1.00 \n",
            "1.00 1.00 1.00 1.00 1.00 1.00 1.00 1.00 1.00 1.00 1.00 1.00 1.00 1.00 1.00 1.00 1.00 1.00 1.00 1.00 1.00 1.00 1.00 1.00 0.99 0.98 0.97 0.93 0.89 0.83 0.71 0.61 0.50 0.33 0.26 0.20 0.17 0.21 0.26 0.37 0.51 0.61 0.72 0.84 0.88 0.92 1.00 1.00 1.00 1.00 1.00 1.00 1.00 1.00 1.00 1.00 \n",
            "1.00 1.00 1.00 1.00 1.00 1.00 1.00 1.00 1.00 1.00 1.00 1.00 1.00 1.00 1.00 1.00 1.00 1.00 1.00 1.00 1.00 1.00 1.00 0.99 0.99 0.98 0.97 0.94 0.91 0.85 0.73 0.64 0.54 0.36 0.28 0.21 0.16 0.18 0.23 0.32 0.46 0.56 0.68 0.81 0.86 0.90 1.00 1.00 1.00 1.00 1.00 1.00 1.00 1.00 1.00 1.00 \n",
            "1.00 1.00 1.00 1.00 1.00 1.00 1.00 1.00 1.00 1.00 1.00 1.00 1.00 1.00 1.00 1.00 1.00 1.00 1.00 0.99 0.99 0.99 0.99 0.99 0.98 0.98 0.96 0.94 0.90 0.85 0.73 0.64 0.54 0.36 0.28 0.21 0.15 0.17 0.20 0.29 0.43 0.53 0.65 0.79 0.84 0.89 1.00 1.00 1.00 1.00 1.00 1.00 1.00 1.00 1.00 1.00 \n",
            "1.00 1.00 1.00 1.00 1.00 1.00 1.00 1.00 1.00 1.00 1.00 1.00 1.00 1.00 1.00 1.00 1.00 0.99 0.99 0.99 0.98 0.98 0.98 0.98 0.97 0.96 0.95 0.92 0.89 0.83 0.73 0.64 0.53 0.36 0.27 0.20 0.14 0.16 0.19 0.27 0.41 0.52 0.64 0.78 0.84 0.88 1.00 1.00 1.00 1.00 1.00 1.00 1.00 1.00 1.00 1.00 \n",
            "1.00 1.00 1.00 1.00 1.00 1.00 1.00 1.00 1.00 1.00 1.00 1.00 1.00 1.00 1.00 0.99 0.99 0.98 0.98 0.98 0.97 0.97 0.96 0.96 0.95 0.94 0.92 0.89 0.85 0.80 0.69 0.60 0.51 0.34 0.26 0.19 0.13 0.15 0.18 0.26 0.40 0.50 0.62 0.77 0.82 0.87 1.00 1.00 1.00 1.00 1.00 1.00 1.00 1.00 1.00 1.00 \n",
            "1.00 1.00 1.00 1.00 1.00 1.00 1.00 1.00 1.00 1.00 1.00 1.00 1.00 0.99 0.99 0.98 0.98 0.97 0.96 0.95 0.93 0.93 0.92 0.90 0.89 0.88 0.85 0.82 0.78 0.72 0.62 0.54 0.45 0.29 0.23 0.16 0.12 0.14 0.17 0.25 0.39 0.50 0.62 0.77 0.82 0.87 1.00 1.00 1.00 1.00 1.00 1.00 1.00 1.00 1.00 1.00 \n",
            "1.00 1.00 1.00 1.00 1.00 1.00 1.00 1.00 1.00 1.00 1.00 1.00 0.99 0.99 0.98 0.97 0.96 0.95 0.93 0.91 0.89 0.88 0.87 0.85 0.83 0.82 0.78 0.74 0.71 0.65 0.55 0.47 0.39 0.26 0.20 0.15 0.11 0.13 0.17 0.26 0.40 0.50 0.63 0.77 0.83 0.88 1.00 1.00 1.00 1.00 1.00 1.00 1.00 1.00 1.00 1.00 \n",
            "1.00 1.00 1.00 1.00 1.00 1.00 1.00 1.00 1.00 1.00 1.00 0.99 0.99 0.98 0.97 0.96 0.94 0.91 0.89 0.86 0.83 0.82 0.80 0.77 0.75 0.73 0.69 0.65 0.61 0.55 0.46 0.40 0.33 0.21 0.16 0.13 0.10 0.13 0.18 0.27 0.41 0.51 0.64 0.78 0.84 0.88 1.00 1.00 1.00 1.00 1.00 1.00 1.00 1.00 1.00 1.00 \n",
            "1.00 1.00 1.00 1.00 1.00 1.00 1.00 1.00 1.00 1.00 0.99 0.98 0.98 0.96 0.94 0.91 0.87 0.83 0.79 0.75 0.70 0.67 0.65 0.61 0.59 0.56 0.53 0.48 0.45 0.39 0.32 0.27 0.22 0.15 0.12 0.09 0.09 0.14 0.19 0.30 0.44 0.55 0.67 0.80 0.85 0.90 1.00 1.00 1.00 1.00 1.00 1.00 1.00 1.00 1.00 1.00 \n",
            "1.00 1.00 1.00 1.00 1.00 1.00 1.00 1.00 1.00 1.00 0.99 0.98 0.97 0.94 0.91 0.87 0.82 0.76 0.71 0.66 0.60 0.57 0.54 0.50 0.48 0.46 0.42 0.38 0.35 0.31 0.25 0.21 0.17 0.11 0.09 0.08 0.10 0.15 0.21 0.32 0.47 0.57 0.69 0.82 0.87 0.91 1.00 1.00 1.00 1.00 1.00 1.00 1.00 1.00 1.00 1.00 \n",
            "1.00 1.00 1.00 1.00 1.00 1.00 1.00 1.00 1.00 1.00 0.98 0.97 0.96 0.92 0.88 0.84 0.76 0.69 0.64 0.57 0.50 0.47 0.44 0.40 0.37 0.35 0.32 0.28 0.25 0.22 0.17 0.15 0.12 0.08 0.07 0.07 0.10 0.16 0.23 0.34 0.49 0.59 0.71 0.84 0.88 0.92 1.00 1.00 1.00 1.00 1.00 1.00 1.00 1.00 1.00 1.00 \n",
            "1.00 1.00 1.00 1.00 1.00 1.00 1.00 1.00 1.00 1.00 0.97 0.95 0.93 0.87 0.81 0.75 0.65 0.56 0.49 0.42 0.34 0.30 0.27 0.24 0.22 0.20 0.18 0.15 0.14 0.11 0.09 0.07 0.06 0.05 0.06 0.07 0.12 0.19 0.27 0.39 0.54 0.64 0.75 0.86 0.90 0.93 1.00 1.00 1.00 1.00 1.00 1.00 1.00 1.00 1.00 1.00 \n",
            "1.00 1.00 1.00 1.00 1.00 1.00 1.00 1.00 1.00 1.00 0.96 0.94 0.91 0.84 0.77 0.70 0.59 0.48 0.41 0.33 0.26 0.23 0.20 0.16 0.15 0.14 0.12 0.11 0.09 0.08 0.07 0.06 0.05 0.05 0.07 0.09 0.15 0.22 0.30 0.43 0.57 0.67 0.77 0.88 0.91 0.95 1.00 1.00 1.00 1.00 1.00 1.00 1.00 1.00 1.00 1.00 \n",
            "1.00 1.00 1.00 1.00 1.00 1.00 1.00 1.00 1.00 1.00 0.95 0.93 0.89 0.81 0.73 0.65 0.53 0.42 0.35 0.27 0.20 0.17 0.14 0.11 0.11 0.09 0.08 0.07 0.07 0.06 0.05 0.05 0.05 0.06 0.09 0.11 0.18 0.26 0.34 0.47 0.61 0.70 0.80 0.89 0.93 0.95 1.00 1.00 1.00 1.00 1.00 1.00 1.00 1.00 1.00 1.00 \n",
            "1.00 1.00 1.00 1.00 1.00 1.00 1.00 1.00 1.00 1.00 0.93 0.90 0.87 0.78 0.69 0.60 0.47 0.36 0.29 0.21 0.15 0.12 0.10 0.08 0.07 0.07 0.06 0.06 0.06 0.05 0.06 0.07 0.07 0.10 0.13 0.16 0.24 0.33 0.41 0.53 0.66 0.75 0.84 0.91 0.94 0.96 1.00 1.00 1.00 1.00 1.00 1.00 1.00 1.00 1.00 1.00 \n",
            "1.00 1.00 1.00 1.00 1.00 1.00 1.00 1.00 1.00 1.00 0.92 0.89 0.85 0.75 0.66 0.58 0.45 0.35 0.28 0.21 0.15 0.13 0.11 0.10 0.10 0.09 0.09 0.09 0.09 0.09 0.11 0.12 0.13 0.17 0.21 0.25 0.33 0.42 0.49 0.61 0.72 0.79 0.87 0.93 0.95 0.97 1.00 1.00 1.00 1.00 1.00 1.00 1.00 1.00 1.00 1.00 \n",
            "1.00 1.00 1.00 1.00 1.00 1.00 1.00 1.00 1.00 1.00 0.91 0.87 0.84 0.74 0.65 0.57 0.45 0.36 0.29 0.23 0.18 0.16 0.15 0.13 0.13 0.13 0.13 0.13 0.13 0.14 0.15 0.17 0.19 0.24 0.28 0.32 0.41 0.49 0.56 0.67 0.77 0.83 0.89 0.95 0.96 0.98 1.00 1.00 1.00 1.00 1.00 1.00 1.00 1.00 1.00 1.00 \n",
            "1.00 1.00 1.00 1.00 1.00 1.00 1.00 1.00 1.00 1.00 0.90 0.87 0.83 0.74 0.65 0.58 0.47 0.38 0.33 0.27 0.23 0.21 0.20 0.19 0.19 0.19 0.19 0.19 0.20 0.21 0.23 0.25 0.27 0.33 0.38 0.42 0.51 0.59 0.65 0.74 0.82 0.87 0.92 0.96 0.97 0.98 1.00 1.00 1.00 1.00 1.00 1.00 1.00 1.00 1.00 1.00 \n",
            "1.00 1.00 1.00 1.00 1.00 1.00 1.00 1.00 1.00 1.00 0.89 0.86 0.83 0.74 0.67 0.60 0.51 0.44 0.40 0.35 0.31 0.30 0.29 0.29 0.28 0.28 0.29 0.29 0.29 0.31 0.34 0.36 0.39 0.46 0.51 0.55 0.64 0.70 0.75 0.82 0.88 0.91 0.95 0.98 0.98 0.99 1.00 1.00 1.00 1.00 1.00 1.00 1.00 1.00 1.00 1.00 \n",
            "1.00 1.00 1.00 1.00 1.00 1.00 1.00 1.00 1.00 1.00 0.89 0.86 0.83 0.75 0.68 0.62 0.53 0.47 0.43 0.39 0.36 0.35 0.34 0.33 0.33 0.33 0.33 0.34 0.35 0.36 0.39 0.42 0.45 0.52 0.56 0.61 0.69 0.75 0.80 0.85 0.91 0.93 0.96 0.98 0.99 0.99 1.00 1.00 1.00 1.00 1.00 1.00 1.00 1.00 1.00 1.00 \n",
            "1.00 1.00 1.00 1.00 1.00 1.00 1.00 1.00 1.00 1.00 0.89 0.86 0.83 0.75 0.69 0.63 0.56 0.50 0.46 0.43 0.40 0.39 0.38 0.38 0.38 0.38 0.38 0.38 0.39 0.40 0.44 0.47 0.50 0.57 0.62 0.67 0.74 0.79 0.84 0.89 0.93 0.95 0.97 0.98 0.99 0.99 1.00 1.00 1.00 1.00 1.00 1.00 1.00 1.00 1.00 1.00 \n"
          ],
          "name": "stdout"
        }
      ]
    },
    {
      "cell_type": "code",
      "metadata": {
        "id": "bY7YZJ369EX2",
        "colab_type": "code",
        "outputId": "9454ec0d-5434-4674-c9c1-59404c7c0aa8",
        "colab": {
          "base_uri": "https://localhost:8080/",
          "height": 346
        }
      },
      "source": [
        "# print basic statistics for any of the 56x56 pixels\n",
        "data = pd.DataFrame(np.array(x_train_choose).reshape(len(x_train_choose), -1))\n",
        "data.describe()"
      ],
      "execution_count": 0,
      "outputs": [
        {
          "output_type": "execute_result",
          "data": {
            "text/html": [
              "<div>\n",
              "<style scoped>\n",
              "    .dataframe tbody tr th:only-of-type {\n",
              "        vertical-align: middle;\n",
              "    }\n",
              "\n",
              "    .dataframe tbody tr th {\n",
              "        vertical-align: top;\n",
              "    }\n",
              "\n",
              "    .dataframe thead th {\n",
              "        text-align: right;\n",
              "    }\n",
              "</style>\n",
              "<table border=\"1\" class=\"dataframe\">\n",
              "  <thead>\n",
              "    <tr style=\"text-align: right;\">\n",
              "      <th></th>\n",
              "      <th>0</th>\n",
              "      <th>1</th>\n",
              "      <th>2</th>\n",
              "      <th>3</th>\n",
              "      <th>4</th>\n",
              "      <th>5</th>\n",
              "      <th>6</th>\n",
              "      <th>7</th>\n",
              "      <th>8</th>\n",
              "      <th>9</th>\n",
              "      <th>10</th>\n",
              "      <th>11</th>\n",
              "      <th>12</th>\n",
              "      <th>13</th>\n",
              "      <th>14</th>\n",
              "      <th>15</th>\n",
              "      <th>16</th>\n",
              "      <th>17</th>\n",
              "      <th>18</th>\n",
              "      <th>19</th>\n",
              "      <th>20</th>\n",
              "      <th>21</th>\n",
              "      <th>22</th>\n",
              "      <th>23</th>\n",
              "      <th>24</th>\n",
              "      <th>25</th>\n",
              "      <th>26</th>\n",
              "      <th>27</th>\n",
              "      <th>28</th>\n",
              "      <th>29</th>\n",
              "      <th>30</th>\n",
              "      <th>31</th>\n",
              "      <th>32</th>\n",
              "      <th>33</th>\n",
              "      <th>34</th>\n",
              "      <th>35</th>\n",
              "      <th>36</th>\n",
              "      <th>37</th>\n",
              "      <th>38</th>\n",
              "      <th>39</th>\n",
              "      <th>...</th>\n",
              "      <th>3096</th>\n",
              "      <th>3097</th>\n",
              "      <th>3098</th>\n",
              "      <th>3099</th>\n",
              "      <th>3100</th>\n",
              "      <th>3101</th>\n",
              "      <th>3102</th>\n",
              "      <th>3103</th>\n",
              "      <th>3104</th>\n",
              "      <th>3105</th>\n",
              "      <th>3106</th>\n",
              "      <th>3107</th>\n",
              "      <th>3108</th>\n",
              "      <th>3109</th>\n",
              "      <th>3110</th>\n",
              "      <th>3111</th>\n",
              "      <th>3112</th>\n",
              "      <th>3113</th>\n",
              "      <th>3114</th>\n",
              "      <th>3115</th>\n",
              "      <th>3116</th>\n",
              "      <th>3117</th>\n",
              "      <th>3118</th>\n",
              "      <th>3119</th>\n",
              "      <th>3120</th>\n",
              "      <th>3121</th>\n",
              "      <th>3122</th>\n",
              "      <th>3123</th>\n",
              "      <th>3124</th>\n",
              "      <th>3125</th>\n",
              "      <th>3126</th>\n",
              "      <th>3127</th>\n",
              "      <th>3128</th>\n",
              "      <th>3129</th>\n",
              "      <th>3130</th>\n",
              "      <th>3131</th>\n",
              "      <th>3132</th>\n",
              "      <th>3133</th>\n",
              "      <th>3134</th>\n",
              "      <th>3135</th>\n",
              "    </tr>\n",
              "  </thead>\n",
              "  <tbody>\n",
              "    <tr>\n",
              "      <th>count</th>\n",
              "      <td>1000.000000</td>\n",
              "      <td>1000.000000</td>\n",
              "      <td>1000.000000</td>\n",
              "      <td>1000.000000</td>\n",
              "      <td>1000.000000</td>\n",
              "      <td>1000.000000</td>\n",
              "      <td>1000.000000</td>\n",
              "      <td>1000.000000</td>\n",
              "      <td>1000.000000</td>\n",
              "      <td>1000.000000</td>\n",
              "      <td>1000.000000</td>\n",
              "      <td>1000.000000</td>\n",
              "      <td>1000.000000</td>\n",
              "      <td>1000.000000</td>\n",
              "      <td>1000.000000</td>\n",
              "      <td>1000.000000</td>\n",
              "      <td>1000.000000</td>\n",
              "      <td>1000.000000</td>\n",
              "      <td>1000.000000</td>\n",
              "      <td>1000.000000</td>\n",
              "      <td>1000.000000</td>\n",
              "      <td>1000.000000</td>\n",
              "      <td>1000.000000</td>\n",
              "      <td>1000.000000</td>\n",
              "      <td>1000.000000</td>\n",
              "      <td>1000.000000</td>\n",
              "      <td>1000.000000</td>\n",
              "      <td>1000.000000</td>\n",
              "      <td>1000.000000</td>\n",
              "      <td>1000.000000</td>\n",
              "      <td>1000.000000</td>\n",
              "      <td>1000.000000</td>\n",
              "      <td>1000.000000</td>\n",
              "      <td>1000.000000</td>\n",
              "      <td>1000.000000</td>\n",
              "      <td>1000.000000</td>\n",
              "      <td>1000.000000</td>\n",
              "      <td>1000.000000</td>\n",
              "      <td>1000.000000</td>\n",
              "      <td>1000.000000</td>\n",
              "      <td>...</td>\n",
              "      <td>1000.000000</td>\n",
              "      <td>1000.000000</td>\n",
              "      <td>1000.000000</td>\n",
              "      <td>1000.000000</td>\n",
              "      <td>1000.000000</td>\n",
              "      <td>1000.000000</td>\n",
              "      <td>1000.000000</td>\n",
              "      <td>1000.000000</td>\n",
              "      <td>1000.000000</td>\n",
              "      <td>1000.000000</td>\n",
              "      <td>1000.000000</td>\n",
              "      <td>1000.000000</td>\n",
              "      <td>1000.000000</td>\n",
              "      <td>1000.000000</td>\n",
              "      <td>1000.000000</td>\n",
              "      <td>1000.000000</td>\n",
              "      <td>1000.000000</td>\n",
              "      <td>1000.000000</td>\n",
              "      <td>1000.000000</td>\n",
              "      <td>1000.000000</td>\n",
              "      <td>1000.000000</td>\n",
              "      <td>1000.000000</td>\n",
              "      <td>1000.000000</td>\n",
              "      <td>1000.000000</td>\n",
              "      <td>1000.000000</td>\n",
              "      <td>1000.000000</td>\n",
              "      <td>1000.000000</td>\n",
              "      <td>1000.000000</td>\n",
              "      <td>1000.000000</td>\n",
              "      <td>1000.000000</td>\n",
              "      <td>1000.000000</td>\n",
              "      <td>1000.000000</td>\n",
              "      <td>1000.000000</td>\n",
              "      <td>1000.000000</td>\n",
              "      <td>1000.000000</td>\n",
              "      <td>1000.000000</td>\n",
              "      <td>1000.000000</td>\n",
              "      <td>1000.000000</td>\n",
              "      <td>1000.000000</td>\n",
              "      <td>1000.000000</td>\n",
              "    </tr>\n",
              "    <tr>\n",
              "      <th>mean</th>\n",
              "      <td>0.999376</td>\n",
              "      <td>0.999169</td>\n",
              "      <td>0.998580</td>\n",
              "      <td>0.998075</td>\n",
              "      <td>0.997259</td>\n",
              "      <td>0.996467</td>\n",
              "      <td>0.995267</td>\n",
              "      <td>0.994145</td>\n",
              "      <td>0.991922</td>\n",
              "      <td>0.990333</td>\n",
              "      <td>0.987639</td>\n",
              "      <td>0.984620</td>\n",
              "      <td>0.981094</td>\n",
              "      <td>0.977376</td>\n",
              "      <td>0.973631</td>\n",
              "      <td>0.969839</td>\n",
              "      <td>0.965729</td>\n",
              "      <td>0.961635</td>\n",
              "      <td>0.957235</td>\n",
              "      <td>0.953125</td>\n",
              "      <td>0.948424</td>\n",
              "      <td>0.943788</td>\n",
              "      <td>0.938584</td>\n",
              "      <td>0.933533</td>\n",
              "      <td>0.928286</td>\n",
              "      <td>0.922714</td>\n",
              "      <td>0.917247</td>\n",
              "      <td>0.912000</td>\n",
              "      <td>0.905792</td>\n",
              "      <td>0.900392</td>\n",
              "      <td>0.895349</td>\n",
              "      <td>0.891537</td>\n",
              "      <td>0.888992</td>\n",
              "      <td>0.888086</td>\n",
              "      <td>0.888776</td>\n",
              "      <td>0.891078</td>\n",
              "      <td>0.894518</td>\n",
              "      <td>0.898847</td>\n",
              "      <td>0.903420</td>\n",
              "      <td>0.908761</td>\n",
              "      <td>...</td>\n",
              "      <td>0.835969</td>\n",
              "      <td>0.821420</td>\n",
              "      <td>0.809133</td>\n",
              "      <td>0.798859</td>\n",
              "      <td>0.789945</td>\n",
              "      <td>0.783776</td>\n",
              "      <td>0.779988</td>\n",
              "      <td>0.779604</td>\n",
              "      <td>0.782318</td>\n",
              "      <td>0.787455</td>\n",
              "      <td>0.796035</td>\n",
              "      <td>0.806271</td>\n",
              "      <td>0.818702</td>\n",
              "      <td>0.831451</td>\n",
              "      <td>0.844608</td>\n",
              "      <td>0.857820</td>\n",
              "      <td>0.870537</td>\n",
              "      <td>0.882698</td>\n",
              "      <td>0.894576</td>\n",
              "      <td>0.905788</td>\n",
              "      <td>0.916439</td>\n",
              "      <td>0.926984</td>\n",
              "      <td>0.936675</td>\n",
              "      <td>0.945165</td>\n",
              "      <td>0.953180</td>\n",
              "      <td>0.960153</td>\n",
              "      <td>0.965427</td>\n",
              "      <td>0.970529</td>\n",
              "      <td>0.974980</td>\n",
              "      <td>0.979737</td>\n",
              "      <td>0.983412</td>\n",
              "      <td>0.986306</td>\n",
              "      <td>0.988702</td>\n",
              "      <td>0.991278</td>\n",
              "      <td>0.992431</td>\n",
              "      <td>0.994655</td>\n",
              "      <td>0.995996</td>\n",
              "      <td>0.996816</td>\n",
              "      <td>0.997761</td>\n",
              "      <td>0.998965</td>\n",
              "    </tr>\n",
              "    <tr>\n",
              "      <th>std</th>\n",
              "      <td>0.002654</td>\n",
              "      <td>0.004151</td>\n",
              "      <td>0.006436</td>\n",
              "      <td>0.009676</td>\n",
              "      <td>0.012753</td>\n",
              "      <td>0.015853</td>\n",
              "      <td>0.019160</td>\n",
              "      <td>0.022327</td>\n",
              "      <td>0.026049</td>\n",
              "      <td>0.030777</td>\n",
              "      <td>0.036937</td>\n",
              "      <td>0.043460</td>\n",
              "      <td>0.049943</td>\n",
              "      <td>0.055745</td>\n",
              "      <td>0.060815</td>\n",
              "      <td>0.065382</td>\n",
              "      <td>0.069829</td>\n",
              "      <td>0.074276</td>\n",
              "      <td>0.078356</td>\n",
              "      <td>0.082360</td>\n",
              "      <td>0.085790</td>\n",
              "      <td>0.089262</td>\n",
              "      <td>0.092270</td>\n",
              "      <td>0.095483</td>\n",
              "      <td>0.098363</td>\n",
              "      <td>0.100605</td>\n",
              "      <td>0.102426</td>\n",
              "      <td>0.103938</td>\n",
              "      <td>0.106017</td>\n",
              "      <td>0.108379</td>\n",
              "      <td>0.110813</td>\n",
              "      <td>0.112841</td>\n",
              "      <td>0.113832</td>\n",
              "      <td>0.113726</td>\n",
              "      <td>0.113071</td>\n",
              "      <td>0.111922</td>\n",
              "      <td>0.110174</td>\n",
              "      <td>0.108393</td>\n",
              "      <td>0.106229</td>\n",
              "      <td>0.103851</td>\n",
              "      <td>...</td>\n",
              "      <td>0.202651</td>\n",
              "      <td>0.208225</td>\n",
              "      <td>0.212142</td>\n",
              "      <td>0.215377</td>\n",
              "      <td>0.216909</td>\n",
              "      <td>0.218725</td>\n",
              "      <td>0.219961</td>\n",
              "      <td>0.221028</td>\n",
              "      <td>0.220659</td>\n",
              "      <td>0.219284</td>\n",
              "      <td>0.216524</td>\n",
              "      <td>0.213465</td>\n",
              "      <td>0.209751</td>\n",
              "      <td>0.205084</td>\n",
              "      <td>0.199199</td>\n",
              "      <td>0.191288</td>\n",
              "      <td>0.182025</td>\n",
              "      <td>0.172565</td>\n",
              "      <td>0.163845</td>\n",
              "      <td>0.155492</td>\n",
              "      <td>0.146701</td>\n",
              "      <td>0.137887</td>\n",
              "      <td>0.128685</td>\n",
              "      <td>0.120203</td>\n",
              "      <td>0.110807</td>\n",
              "      <td>0.102824</td>\n",
              "      <td>0.095613</td>\n",
              "      <td>0.088725</td>\n",
              "      <td>0.081877</td>\n",
              "      <td>0.074318</td>\n",
              "      <td>0.066255</td>\n",
              "      <td>0.060821</td>\n",
              "      <td>0.054244</td>\n",
              "      <td>0.045852</td>\n",
              "      <td>0.037778</td>\n",
              "      <td>0.030639</td>\n",
              "      <td>0.024719</td>\n",
              "      <td>0.019305</td>\n",
              "      <td>0.014441</td>\n",
              "      <td>0.013194</td>\n",
              "    </tr>\n",
              "    <tr>\n",
              "      <th>min</th>\n",
              "      <td>0.933333</td>\n",
              "      <td>0.894118</td>\n",
              "      <td>0.835294</td>\n",
              "      <td>0.768627</td>\n",
              "      <td>0.717647</td>\n",
              "      <td>0.698039</td>\n",
              "      <td>0.709804</td>\n",
              "      <td>0.749020</td>\n",
              "      <td>0.760784</td>\n",
              "      <td>0.733333</td>\n",
              "      <td>0.713725</td>\n",
              "      <td>0.682353</td>\n",
              "      <td>0.666667</td>\n",
              "      <td>0.666667</td>\n",
              "      <td>0.674510</td>\n",
              "      <td>0.670588</td>\n",
              "      <td>0.670588</td>\n",
              "      <td>0.670588</td>\n",
              "      <td>0.670588</td>\n",
              "      <td>0.666667</td>\n",
              "      <td>0.662745</td>\n",
              "      <td>0.658824</td>\n",
              "      <td>0.658824</td>\n",
              "      <td>0.654902</td>\n",
              "      <td>0.658824</td>\n",
              "      <td>0.658824</td>\n",
              "      <td>0.658824</td>\n",
              "      <td>0.658824</td>\n",
              "      <td>0.662745</td>\n",
              "      <td>0.658824</td>\n",
              "      <td>0.654902</td>\n",
              "      <td>0.654902</td>\n",
              "      <td>0.654902</td>\n",
              "      <td>0.650980</td>\n",
              "      <td>0.643137</td>\n",
              "      <td>0.643137</td>\n",
              "      <td>0.650980</td>\n",
              "      <td>0.654902</td>\n",
              "      <td>0.654902</td>\n",
              "      <td>0.650980</td>\n",
              "      <td>...</td>\n",
              "      <td>0.372549</td>\n",
              "      <td>0.372549</td>\n",
              "      <td>0.368627</td>\n",
              "      <td>0.356863</td>\n",
              "      <td>0.356863</td>\n",
              "      <td>0.352941</td>\n",
              "      <td>0.352941</td>\n",
              "      <td>0.352941</td>\n",
              "      <td>0.356863</td>\n",
              "      <td>0.356863</td>\n",
              "      <td>0.356863</td>\n",
              "      <td>0.356863</td>\n",
              "      <td>0.356863</td>\n",
              "      <td>0.356863</td>\n",
              "      <td>0.356863</td>\n",
              "      <td>0.356863</td>\n",
              "      <td>0.356863</td>\n",
              "      <td>0.356863</td>\n",
              "      <td>0.360784</td>\n",
              "      <td>0.372549</td>\n",
              "      <td>0.372549</td>\n",
              "      <td>0.372549</td>\n",
              "      <td>0.372549</td>\n",
              "      <td>0.372549</td>\n",
              "      <td>0.372549</td>\n",
              "      <td>0.376471</td>\n",
              "      <td>0.380392</td>\n",
              "      <td>0.392157</td>\n",
              "      <td>0.407843</td>\n",
              "      <td>0.392157</td>\n",
              "      <td>0.392157</td>\n",
              "      <td>0.403922</td>\n",
              "      <td>0.419608</td>\n",
              "      <td>0.474510</td>\n",
              "      <td>0.525490</td>\n",
              "      <td>0.552941</td>\n",
              "      <td>0.572549</td>\n",
              "      <td>0.584314</td>\n",
              "      <td>0.615686</td>\n",
              "      <td>0.619608</td>\n",
              "    </tr>\n",
              "    <tr>\n",
              "      <th>25%</th>\n",
              "      <td>1.000000</td>\n",
              "      <td>1.000000</td>\n",
              "      <td>1.000000</td>\n",
              "      <td>0.999020</td>\n",
              "      <td>0.996078</td>\n",
              "      <td>0.996078</td>\n",
              "      <td>0.996078</td>\n",
              "      <td>0.996078</td>\n",
              "      <td>0.996078</td>\n",
              "      <td>0.996078</td>\n",
              "      <td>0.996078</td>\n",
              "      <td>0.996078</td>\n",
              "      <td>0.996078</td>\n",
              "      <td>0.996078</td>\n",
              "      <td>0.992157</td>\n",
              "      <td>0.988235</td>\n",
              "      <td>0.980392</td>\n",
              "      <td>0.972549</td>\n",
              "      <td>0.956863</td>\n",
              "      <td>0.949020</td>\n",
              "      <td>0.937255</td>\n",
              "      <td>0.925490</td>\n",
              "      <td>0.912745</td>\n",
              "      <td>0.894118</td>\n",
              "      <td>0.874510</td>\n",
              "      <td>0.866667</td>\n",
              "      <td>0.857843</td>\n",
              "      <td>0.847059</td>\n",
              "      <td>0.831373</td>\n",
              "      <td>0.815686</td>\n",
              "      <td>0.803922</td>\n",
              "      <td>0.792157</td>\n",
              "      <td>0.796078</td>\n",
              "      <td>0.791176</td>\n",
              "      <td>0.792157</td>\n",
              "      <td>0.792157</td>\n",
              "      <td>0.803922</td>\n",
              "      <td>0.815686</td>\n",
              "      <td>0.827451</td>\n",
              "      <td>0.839216</td>\n",
              "      <td>...</td>\n",
              "      <td>0.677451</td>\n",
              "      <td>0.647059</td>\n",
              "      <td>0.627451</td>\n",
              "      <td>0.603922</td>\n",
              "      <td>0.596078</td>\n",
              "      <td>0.584314</td>\n",
              "      <td>0.580392</td>\n",
              "      <td>0.584314</td>\n",
              "      <td>0.584314</td>\n",
              "      <td>0.596078</td>\n",
              "      <td>0.606863</td>\n",
              "      <td>0.635294</td>\n",
              "      <td>0.658824</td>\n",
              "      <td>0.686275</td>\n",
              "      <td>0.709804</td>\n",
              "      <td>0.743137</td>\n",
              "      <td>0.771569</td>\n",
              "      <td>0.800000</td>\n",
              "      <td>0.843137</td>\n",
              "      <td>0.878431</td>\n",
              "      <td>0.909804</td>\n",
              "      <td>0.928431</td>\n",
              "      <td>0.952941</td>\n",
              "      <td>0.968627</td>\n",
              "      <td>0.980392</td>\n",
              "      <td>0.988235</td>\n",
              "      <td>0.996078</td>\n",
              "      <td>0.996078</td>\n",
              "      <td>0.996078</td>\n",
              "      <td>0.996078</td>\n",
              "      <td>0.996078</td>\n",
              "      <td>0.996078</td>\n",
              "      <td>0.996078</td>\n",
              "      <td>0.996078</td>\n",
              "      <td>0.996078</td>\n",
              "      <td>0.996078</td>\n",
              "      <td>0.996078</td>\n",
              "      <td>0.996078</td>\n",
              "      <td>0.996078</td>\n",
              "      <td>1.000000</td>\n",
              "    </tr>\n",
              "    <tr>\n",
              "      <th>50%</th>\n",
              "      <td>1.000000</td>\n",
              "      <td>1.000000</td>\n",
              "      <td>1.000000</td>\n",
              "      <td>1.000000</td>\n",
              "      <td>1.000000</td>\n",
              "      <td>1.000000</td>\n",
              "      <td>1.000000</td>\n",
              "      <td>1.000000</td>\n",
              "      <td>0.996078</td>\n",
              "      <td>1.000000</td>\n",
              "      <td>0.996078</td>\n",
              "      <td>0.996078</td>\n",
              "      <td>0.996078</td>\n",
              "      <td>0.996078</td>\n",
              "      <td>0.996078</td>\n",
              "      <td>0.996078</td>\n",
              "      <td>0.996078</td>\n",
              "      <td>0.996078</td>\n",
              "      <td>0.996078</td>\n",
              "      <td>0.996078</td>\n",
              "      <td>0.996078</td>\n",
              "      <td>0.996078</td>\n",
              "      <td>0.992157</td>\n",
              "      <td>0.992157</td>\n",
              "      <td>0.984314</td>\n",
              "      <td>0.980392</td>\n",
              "      <td>0.976471</td>\n",
              "      <td>0.964706</td>\n",
              "      <td>0.956863</td>\n",
              "      <td>0.949020</td>\n",
              "      <td>0.939216</td>\n",
              "      <td>0.933333</td>\n",
              "      <td>0.933333</td>\n",
              "      <td>0.929412</td>\n",
              "      <td>0.925490</td>\n",
              "      <td>0.933333</td>\n",
              "      <td>0.941176</td>\n",
              "      <td>0.949020</td>\n",
              "      <td>0.949020</td>\n",
              "      <td>0.956863</td>\n",
              "      <td>...</td>\n",
              "      <td>0.960784</td>\n",
              "      <td>0.941176</td>\n",
              "      <td>0.921569</td>\n",
              "      <td>0.896078</td>\n",
              "      <td>0.864706</td>\n",
              "      <td>0.843137</td>\n",
              "      <td>0.837255</td>\n",
              "      <td>0.854902</td>\n",
              "      <td>0.854902</td>\n",
              "      <td>0.868627</td>\n",
              "      <td>0.884314</td>\n",
              "      <td>0.903922</td>\n",
              "      <td>0.925490</td>\n",
              "      <td>0.945098</td>\n",
              "      <td>0.960784</td>\n",
              "      <td>0.972549</td>\n",
              "      <td>0.984314</td>\n",
              "      <td>0.992157</td>\n",
              "      <td>0.992157</td>\n",
              "      <td>0.996078</td>\n",
              "      <td>0.996078</td>\n",
              "      <td>0.996078</td>\n",
              "      <td>0.996078</td>\n",
              "      <td>0.996078</td>\n",
              "      <td>0.996078</td>\n",
              "      <td>0.996078</td>\n",
              "      <td>0.996078</td>\n",
              "      <td>0.996078</td>\n",
              "      <td>0.996078</td>\n",
              "      <td>1.000000</td>\n",
              "      <td>1.000000</td>\n",
              "      <td>1.000000</td>\n",
              "      <td>1.000000</td>\n",
              "      <td>1.000000</td>\n",
              "      <td>0.996078</td>\n",
              "      <td>1.000000</td>\n",
              "      <td>1.000000</td>\n",
              "      <td>1.000000</td>\n",
              "      <td>1.000000</td>\n",
              "      <td>1.000000</td>\n",
              "    </tr>\n",
              "    <tr>\n",
              "      <th>75%</th>\n",
              "      <td>1.000000</td>\n",
              "      <td>1.000000</td>\n",
              "      <td>1.000000</td>\n",
              "      <td>1.000000</td>\n",
              "      <td>1.000000</td>\n",
              "      <td>1.000000</td>\n",
              "      <td>1.000000</td>\n",
              "      <td>1.000000</td>\n",
              "      <td>1.000000</td>\n",
              "      <td>1.000000</td>\n",
              "      <td>1.000000</td>\n",
              "      <td>1.000000</td>\n",
              "      <td>1.000000</td>\n",
              "      <td>1.000000</td>\n",
              "      <td>1.000000</td>\n",
              "      <td>1.000000</td>\n",
              "      <td>1.000000</td>\n",
              "      <td>1.000000</td>\n",
              "      <td>0.996078</td>\n",
              "      <td>1.000000</td>\n",
              "      <td>0.996078</td>\n",
              "      <td>0.996078</td>\n",
              "      <td>0.996078</td>\n",
              "      <td>0.996078</td>\n",
              "      <td>0.996078</td>\n",
              "      <td>0.996078</td>\n",
              "      <td>0.996078</td>\n",
              "      <td>0.996078</td>\n",
              "      <td>0.996078</td>\n",
              "      <td>0.996078</td>\n",
              "      <td>0.996078</td>\n",
              "      <td>0.996078</td>\n",
              "      <td>0.996078</td>\n",
              "      <td>0.996078</td>\n",
              "      <td>0.996078</td>\n",
              "      <td>0.996078</td>\n",
              "      <td>0.996078</td>\n",
              "      <td>0.996078</td>\n",
              "      <td>0.996078</td>\n",
              "      <td>0.996078</td>\n",
              "      <td>...</td>\n",
              "      <td>1.000000</td>\n",
              "      <td>1.000000</td>\n",
              "      <td>0.996078</td>\n",
              "      <td>0.996078</td>\n",
              "      <td>0.996078</td>\n",
              "      <td>0.996078</td>\n",
              "      <td>0.996078</td>\n",
              "      <td>0.996078</td>\n",
              "      <td>0.996078</td>\n",
              "      <td>0.996078</td>\n",
              "      <td>0.996078</td>\n",
              "      <td>0.996078</td>\n",
              "      <td>0.996078</td>\n",
              "      <td>0.996078</td>\n",
              "      <td>0.996078</td>\n",
              "      <td>0.996078</td>\n",
              "      <td>0.996078</td>\n",
              "      <td>0.996078</td>\n",
              "      <td>0.996078</td>\n",
              "      <td>1.000000</td>\n",
              "      <td>0.996078</td>\n",
              "      <td>1.000000</td>\n",
              "      <td>1.000000</td>\n",
              "      <td>1.000000</td>\n",
              "      <td>1.000000</td>\n",
              "      <td>1.000000</td>\n",
              "      <td>1.000000</td>\n",
              "      <td>1.000000</td>\n",
              "      <td>1.000000</td>\n",
              "      <td>1.000000</td>\n",
              "      <td>1.000000</td>\n",
              "      <td>1.000000</td>\n",
              "      <td>1.000000</td>\n",
              "      <td>1.000000</td>\n",
              "      <td>1.000000</td>\n",
              "      <td>1.000000</td>\n",
              "      <td>1.000000</td>\n",
              "      <td>1.000000</td>\n",
              "      <td>1.000000</td>\n",
              "      <td>1.000000</td>\n",
              "    </tr>\n",
              "    <tr>\n",
              "      <th>max</th>\n",
              "      <td>1.000000</td>\n",
              "      <td>1.000000</td>\n",
              "      <td>1.000000</td>\n",
              "      <td>1.000000</td>\n",
              "      <td>1.000000</td>\n",
              "      <td>1.000000</td>\n",
              "      <td>1.000000</td>\n",
              "      <td>1.000000</td>\n",
              "      <td>1.000000</td>\n",
              "      <td>1.000000</td>\n",
              "      <td>1.000000</td>\n",
              "      <td>1.000000</td>\n",
              "      <td>1.000000</td>\n",
              "      <td>1.000000</td>\n",
              "      <td>1.000000</td>\n",
              "      <td>1.000000</td>\n",
              "      <td>1.000000</td>\n",
              "      <td>1.000000</td>\n",
              "      <td>1.000000</td>\n",
              "      <td>1.000000</td>\n",
              "      <td>1.000000</td>\n",
              "      <td>1.000000</td>\n",
              "      <td>1.000000</td>\n",
              "      <td>1.000000</td>\n",
              "      <td>1.000000</td>\n",
              "      <td>1.000000</td>\n",
              "      <td>1.000000</td>\n",
              "      <td>1.000000</td>\n",
              "      <td>1.000000</td>\n",
              "      <td>1.000000</td>\n",
              "      <td>1.000000</td>\n",
              "      <td>1.000000</td>\n",
              "      <td>1.000000</td>\n",
              "      <td>1.000000</td>\n",
              "      <td>1.000000</td>\n",
              "      <td>1.000000</td>\n",
              "      <td>1.000000</td>\n",
              "      <td>1.000000</td>\n",
              "      <td>1.000000</td>\n",
              "      <td>1.000000</td>\n",
              "      <td>...</td>\n",
              "      <td>1.000000</td>\n",
              "      <td>1.000000</td>\n",
              "      <td>1.000000</td>\n",
              "      <td>1.000000</td>\n",
              "      <td>1.000000</td>\n",
              "      <td>1.000000</td>\n",
              "      <td>1.000000</td>\n",
              "      <td>1.000000</td>\n",
              "      <td>1.000000</td>\n",
              "      <td>1.000000</td>\n",
              "      <td>1.000000</td>\n",
              "      <td>1.000000</td>\n",
              "      <td>1.000000</td>\n",
              "      <td>1.000000</td>\n",
              "      <td>1.000000</td>\n",
              "      <td>1.000000</td>\n",
              "      <td>1.000000</td>\n",
              "      <td>1.000000</td>\n",
              "      <td>1.000000</td>\n",
              "      <td>1.000000</td>\n",
              "      <td>1.000000</td>\n",
              "      <td>1.000000</td>\n",
              "      <td>1.000000</td>\n",
              "      <td>1.000000</td>\n",
              "      <td>1.000000</td>\n",
              "      <td>1.000000</td>\n",
              "      <td>1.000000</td>\n",
              "      <td>1.000000</td>\n",
              "      <td>1.000000</td>\n",
              "      <td>1.000000</td>\n",
              "      <td>1.000000</td>\n",
              "      <td>1.000000</td>\n",
              "      <td>1.000000</td>\n",
              "      <td>1.000000</td>\n",
              "      <td>1.000000</td>\n",
              "      <td>1.000000</td>\n",
              "      <td>1.000000</td>\n",
              "      <td>1.000000</td>\n",
              "      <td>1.000000</td>\n",
              "      <td>1.000000</td>\n",
              "    </tr>\n",
              "  </tbody>\n",
              "</table>\n",
              "<p>8 rows × 3136 columns</p>\n",
              "</div>"
            ],
            "text/plain": [
              "              0            1     ...         3134         3135\n",
              "count  1000.000000  1000.000000  ...  1000.000000  1000.000000\n",
              "mean      0.999376     0.999169  ...     0.997761     0.998965\n",
              "std       0.002654     0.004151  ...     0.014441     0.013194\n",
              "min       0.933333     0.894118  ...     0.615686     0.619608\n",
              "25%       1.000000     1.000000  ...     0.996078     1.000000\n",
              "50%       1.000000     1.000000  ...     1.000000     1.000000\n",
              "75%       1.000000     1.000000  ...     1.000000     1.000000\n",
              "max       1.000000     1.000000  ...     1.000000     1.000000\n",
              "\n",
              "[8 rows x 3136 columns]"
            ]
          },
          "metadata": {
            "tags": []
          },
          "execution_count": 18
        }
      ]
    },
    {
      "cell_type": "code",
      "metadata": {
        "id": "7hoE53Z59Fdd",
        "colab_type": "code",
        "outputId": "b11aa68c-0e42-4d4e-e92d-380b65591743",
        "colab": {
          "base_uri": "https://localhost:8080/",
          "height": 286
        }
      },
      "source": [
        "# print concrete sample for parameter choosing\n",
        "sns.countplot(y_train_choose)"
      ],
      "execution_count": 0,
      "outputs": [
        {
          "output_type": "execute_result",
          "data": {
            "text/plain": [
              "<matplotlib.axes._subplots.AxesSubplot at 0x7f1fb14df518>"
            ]
          },
          "metadata": {
            "tags": []
          },
          "execution_count": 19
        },
        {
          "output_type": "display_data",
          "data": {
            "image/png": "[encoded data removed]",
            "text/plain": [
              "<Figure size 432x288 with 1 Axes>"
            ]
          },
          "metadata": {
            "tags": []
          }
        }
      ]
    },
    {
      "cell_type": "code",
      "metadata": {
        "id": "qgTD2PJSvG7A",
        "colab_type": "code",
        "outputId": "d4787330-23cc-4ef1-e4f7-b31db7d492f4",
        "colab": {
          "base_uri": "https://localhost:8080/",
          "height": 85
        }
      },
      "source": [
        "# linear SVC\n",
        "model_linear = SVC(kernel='linear')\n",
        "model_linear.fit(x_train_choose, y_train_choose)"
      ],
      "execution_count": 0,
      "outputs": [
        {
          "output_type": "execute_result",
          "data": {
            "text/plain": [
              "SVC(C=1.0, cache_size=200, class_weight=None, coef0=0.0,\n",
              "    decision_function_shape='ovr', degree=3, gamma='auto_deprecated',\n",
              "    kernel='linear', max_iter=-1, probability=False, random_state=None,\n",
              "    shrinking=True, tol=0.001, verbose=False)"
            ]
          },
          "metadata": {
            "tags": []
          },
          "execution_count": 20
        }
      ]
    },
    {
      "cell_type": "code",
      "metadata": {
        "id": "JWGIL3anvG2H",
        "colab_type": "code",
        "colab": {}
      },
      "source": [
        "y_pred_choose = model_linear.predict(x_test_choose)"
      ],
      "execution_count": 0,
      "outputs": []
    },
    {
      "cell_type": "code",
      "metadata": {
        "id": "Wh6g8gMvvGvD",
        "colab_type": "code",
        "outputId": "e1399c9e-b5ac-4328-dd30-b8977148c435",
        "colab": {
          "base_uri": "https://localhost:8080/",
          "height": 221
        }
      },
      "source": [
        "print(\"accuracy:\", metrics.accuracy_score(y_true=y_test_choose, y_pred=y_pred_choose), \"\\n\")\n",
        "print(metrics.confusion_matrix(y_true=y_test_choose, y_pred=y_pred_choose))"
      ],
      "execution_count": 0,
      "outputs": [
        {
          "output_type": "stream",
          "text": [
            "accuracy: 0.91 \n",
            "\n",
            "[[ 9  0  0  0  0  0  0  0  0  0]\n",
            " [ 0  9  0  0  0  0  0  0  0  0]\n",
            " [ 0  0  5  0  0  1  0  0  0  0]\n",
            " [ 2  0  0 10  0  0  0  0  0  0]\n",
            " [ 0  0  0  0  9  0  1  0  0  0]\n",
            " [ 0  2  0  0  0 12  0  0  0  0]\n",
            " [ 0  0  0  0  0  1 12  0  0  0]\n",
            " [ 0  0  0  0  0  0  0  6  0  1]\n",
            " [ 0  1  0  0  0  0  0  0  8  0]\n",
            " [ 0  0  0  0  0  0  0  0  0 11]]\n"
          ],
          "name": "stdout"
        }
      ]
    },
    {
      "cell_type": "code",
      "metadata": {
        "id": "4OXpirPi4Kox",
        "colab_type": "code",
        "outputId": "bd137a90-855a-4d8b-938c-f85fa3bdf28a",
        "colab": {
          "base_uri": "https://localhost:8080/",
          "height": 71
        }
      },
      "source": [
        "# non-linear model\n",
        "# using rbf kernel, C=1, default value of gamma\n",
        "non_linear_model = SVC(kernel='rbf')\n",
        "non_linear_model.fit(x_train_choose, y_train_choose)\n",
        "y_pred_choose = non_linear_model.predict(x_test_choose)"
      ],
      "execution_count": 0,
      "outputs": [
        {
          "output_type": "stream",
          "text": [
            "/usr/local/lib/python3.6/dist-packages/sklearn/svm/base.py:193: FutureWarning: The default value of gamma will change from 'auto' to 'scale' in version 0.22 to account better for unscaled features. Set gamma explicitly to 'auto' or 'scale' to avoid this warning.\n",
            "  \"avoid this warning.\", FutureWarning)\n"
          ],
          "name": "stderr"
        }
      ]
    },
    {
      "cell_type": "code",
      "metadata": {
        "id": "kI4DECLy4XUu",
        "colab_type": "code",
        "outputId": "9f7520af-41fc-4ad4-e7c0-65f5263a4659",
        "colab": {
          "base_uri": "https://localhost:8080/",
          "height": 221
        }
      },
      "source": [
        "print(\"accuracy:\", metrics.accuracy_score(y_true=y_test_choose, y_pred=y_pred_choose), \"\\n\")\n",
        "print(metrics.confusion_matrix(y_true=y_test_choose, y_pred=y_pred_choose))"
      ],
      "execution_count": 0,
      "outputs": [
        {
          "output_type": "stream",
          "text": [
            "accuracy: 0.93 \n",
            "\n",
            "[[ 9  0  0  0  0  0  0  0  0  0]\n",
            " [ 0  9  0  0  0  0  0  0  0  0]\n",
            " [ 0  0  5  0  0  0  0  0  1  0]\n",
            " [ 1  0  0 11  0  0  0  0  0  0]\n",
            " [ 0  0  0  0 10  0  0  0  0  0]\n",
            " [ 1  1  0  0  0 12  0  0  0  0]\n",
            " [ 0  0  0  0  0  0 13  0  0  0]\n",
            " [ 0  0  0  0  0  0  0  6  0  1]\n",
            " [ 0  1  0  0  0  0  0  0  8  0]\n",
            " [ 0  0  0  0  0  0  0  0  1 10]]\n"
          ],
          "name": "stdout"
        }
      ]
    },
    {
      "cell_type": "code",
      "metadata": {
        "id": "fMzgSu4G4XO_",
        "colab_type": "code",
        "outputId": "3c1e48c1-7302-4f39-a3ee-d48ce444934d",
        "colab": {
          "base_uri": "https://localhost:8080/",
          "height": 255
        }
      },
      "source": [
        "# creating a KFold object with 5 splits \n",
        "folds = KFold(n_splits = 5, shuffle = True, random_state = 10)\n",
        "# specify range of hyperparameters\n",
        "# Set the parameters by cross-validation\n",
        "hyper_params = [{'gamma': [1e-2, 1e-3, 1e-4], 'C': [5,10]}]\n",
        "# specify model\n",
        "model = SVC(kernel=\"rbf\")\n",
        "model_cv = GridSearchCV(estimator = model, param_grid = hyper_params, scoring= 'accuracy', cv = folds, verbose = 1, return_train_score=True)  \n",
        "# fit the model\n",
        "model_cv.fit(x_train_choose, y_train_choose)"
      ],
      "execution_count": 0,
      "outputs": [
        {
          "output_type": "stream",
          "text": [
            "Fitting 5 folds for each of 6 candidates, totalling 30 fits\n"
          ],
          "name": "stdout"
        },
        {
          "output_type": "stream",
          "text": [
            "[Parallel(n_jobs=1)]: Using backend SequentialBackend with 1 concurrent workers.\n",
            "[Parallel(n_jobs=1)]: Done  30 out of  30 | elapsed:  2.7min finished\n"
          ],
          "name": "stderr"
        },
        {
          "output_type": "execute_result",
          "data": {
            "text/plain": [
              "GridSearchCV(cv=KFold(n_splits=5, random_state=10, shuffle=True),\n",
              "             error_score='raise-deprecating',\n",
              "             estimator=SVC(C=1.0, cache_size=200, class_weight=None, coef0=0.0,\n",
              "                           decision_function_shape='ovr', degree=3,\n",
              "                           gamma='auto_deprecated', kernel='rbf', max_iter=-1,\n",
              "                           probability=False, random_state=None, shrinking=True,\n",
              "                           tol=0.001, verbose=False),\n",
              "             iid='warn', n_jobs=None,\n",
              "             param_grid=[{'C': [5, 10], 'gamma': [0.01, 0.001, 0.0001]}],\n",
              "             pre_dispatch='2*n_jobs', refit=True, return_train_score=True,\n",
              "             scoring='accuracy', verbose=1)"
            ]
          },
          "metadata": {
            "tags": []
          },
          "execution_count": 27
        }
      ]
    },
    {
      "cell_type": "code",
      "metadata": {
        "id": "z0V8OrAD47lY",
        "colab_type": "code",
        "outputId": "05def06a-1c18-4cd9-8204-ffec6f1cb7fb",
        "colab": {
          "base_uri": "https://localhost:8080/",
          "height": 459
        }
      },
      "source": [
        "# cv results\n",
        "cv_results = pd.DataFrame(model_cv.cv_results_)\n",
        "cv_results"
      ],
      "execution_count": 0,
      "outputs": [
        {
          "output_type": "execute_result",
          "data": {
            "text/html": [
              "<div>\n",
              "<style scoped>\n",
              "    .dataframe tbody tr th:only-of-type {\n",
              "        vertical-align: middle;\n",
              "    }\n",
              "\n",
              "    .dataframe tbody tr th {\n",
              "        vertical-align: top;\n",
              "    }\n",
              "\n",
              "    .dataframe thead th {\n",
              "        text-align: right;\n",
              "    }\n",
              "</style>\n",
              "<table border=\"1\" class=\"dataframe\">\n",
              "  <thead>\n",
              "    <tr style=\"text-align: right;\">\n",
              "      <th></th>\n",
              "      <th>mean_fit_time</th>\n",
              "      <th>std_fit_time</th>\n",
              "      <th>mean_score_time</th>\n",
              "      <th>std_score_time</th>\n",
              "      <th>param_C</th>\n",
              "      <th>param_gamma</th>\n",
              "      <th>params</th>\n",
              "      <th>split0_test_score</th>\n",
              "      <th>split1_test_score</th>\n",
              "      <th>split2_test_score</th>\n",
              "      <th>split3_test_score</th>\n",
              "      <th>split4_test_score</th>\n",
              "      <th>mean_test_score</th>\n",
              "      <th>std_test_score</th>\n",
              "      <th>rank_test_score</th>\n",
              "      <th>split0_train_score</th>\n",
              "      <th>split1_train_score</th>\n",
              "      <th>split2_train_score</th>\n",
              "      <th>split3_train_score</th>\n",
              "      <th>split4_train_score</th>\n",
              "      <th>mean_train_score</th>\n",
              "      <th>std_train_score</th>\n",
              "    </tr>\n",
              "  </thead>\n",
              "  <tbody>\n",
              "    <tr>\n",
              "      <th>0</th>\n",
              "      <td>4.632373</td>\n",
              "      <td>0.063362</td>\n",
              "      <td>0.583687</td>\n",
              "      <td>0.003300</td>\n",
              "      <td>5</td>\n",
              "      <td>0.01</td>\n",
              "      <td>{'C': 5, 'gamma': 0.01}</td>\n",
              "      <td>0.905</td>\n",
              "      <td>0.930</td>\n",
              "      <td>0.885</td>\n",
              "      <td>0.930</td>\n",
              "      <td>0.935</td>\n",
              "      <td>0.917</td>\n",
              "      <td>0.019131</td>\n",
              "      <td>1</td>\n",
              "      <td>1.00000</td>\n",
              "      <td>1.00000</td>\n",
              "      <td>1.00000</td>\n",
              "      <td>1.00000</td>\n",
              "      <td>1.00000</td>\n",
              "      <td>1.00000</td>\n",
              "      <td>0.000000</td>\n",
              "    </tr>\n",
              "    <tr>\n",
              "      <th>1</th>\n",
              "      <td>1.479051</td>\n",
              "      <td>0.019037</td>\n",
              "      <td>0.427787</td>\n",
              "      <td>0.009170</td>\n",
              "      <td>5</td>\n",
              "      <td>0.001</td>\n",
              "      <td>{'C': 5, 'gamma': 0.001}</td>\n",
              "      <td>0.900</td>\n",
              "      <td>0.935</td>\n",
              "      <td>0.895</td>\n",
              "      <td>0.905</td>\n",
              "      <td>0.915</td>\n",
              "      <td>0.910</td>\n",
              "      <td>0.014142</td>\n",
              "      <td>4</td>\n",
              "      <td>0.98500</td>\n",
              "      <td>0.98750</td>\n",
              "      <td>0.98875</td>\n",
              "      <td>0.98625</td>\n",
              "      <td>0.98375</td>\n",
              "      <td>0.98625</td>\n",
              "      <td>0.001768</td>\n",
              "    </tr>\n",
              "    <tr>\n",
              "      <th>2</th>\n",
              "      <td>2.517927</td>\n",
              "      <td>0.165199</td>\n",
              "      <td>0.610589</td>\n",
              "      <td>0.040935</td>\n",
              "      <td>5</td>\n",
              "      <td>0.0001</td>\n",
              "      <td>{'C': 5, 'gamma': 0.0001}</td>\n",
              "      <td>0.840</td>\n",
              "      <td>0.915</td>\n",
              "      <td>0.830</td>\n",
              "      <td>0.855</td>\n",
              "      <td>0.865</td>\n",
              "      <td>0.861</td>\n",
              "      <td>0.029563</td>\n",
              "      <td>6</td>\n",
              "      <td>0.91125</td>\n",
              "      <td>0.88375</td>\n",
              "      <td>0.89875</td>\n",
              "      <td>0.90250</td>\n",
              "      <td>0.89000</td>\n",
              "      <td>0.89725</td>\n",
              "      <td>0.009598</td>\n",
              "    </tr>\n",
              "    <tr>\n",
              "      <th>3</th>\n",
              "      <td>4.731406</td>\n",
              "      <td>0.266706</td>\n",
              "      <td>0.593586</td>\n",
              "      <td>0.040805</td>\n",
              "      <td>10</td>\n",
              "      <td>0.01</td>\n",
              "      <td>{'C': 10, 'gamma': 0.01}</td>\n",
              "      <td>0.905</td>\n",
              "      <td>0.930</td>\n",
              "      <td>0.885</td>\n",
              "      <td>0.930</td>\n",
              "      <td>0.935</td>\n",
              "      <td>0.917</td>\n",
              "      <td>0.019131</td>\n",
              "      <td>1</td>\n",
              "      <td>1.00000</td>\n",
              "      <td>1.00000</td>\n",
              "      <td>1.00000</td>\n",
              "      <td>1.00000</td>\n",
              "      <td>1.00000</td>\n",
              "      <td>1.00000</td>\n",
              "      <td>0.000000</td>\n",
              "    </tr>\n",
              "    <tr>\n",
              "      <th>4</th>\n",
              "      <td>1.382461</td>\n",
              "      <td>0.025234</td>\n",
              "      <td>0.409885</td>\n",
              "      <td>0.013182</td>\n",
              "      <td>10</td>\n",
              "      <td>0.001</td>\n",
              "      <td>{'C': 10, 'gamma': 0.001}</td>\n",
              "      <td>0.920</td>\n",
              "      <td>0.925</td>\n",
              "      <td>0.895</td>\n",
              "      <td>0.900</td>\n",
              "      <td>0.935</td>\n",
              "      <td>0.915</td>\n",
              "      <td>0.015166</td>\n",
              "      <td>3</td>\n",
              "      <td>0.99625</td>\n",
              "      <td>0.99875</td>\n",
              "      <td>1.00000</td>\n",
              "      <td>0.99875</td>\n",
              "      <td>0.99875</td>\n",
              "      <td>0.99850</td>\n",
              "      <td>0.001225</td>\n",
              "    </tr>\n",
              "    <tr>\n",
              "      <th>5</th>\n",
              "      <td>2.010562</td>\n",
              "      <td>0.168429</td>\n",
              "      <td>0.532775</td>\n",
              "      <td>0.043830</td>\n",
              "      <td>10</td>\n",
              "      <td>0.0001</td>\n",
              "      <td>{'C': 10, 'gamma': 0.0001}</td>\n",
              "      <td>0.855</td>\n",
              "      <td>0.925</td>\n",
              "      <td>0.865</td>\n",
              "      <td>0.875</td>\n",
              "      <td>0.880</td>\n",
              "      <td>0.880</td>\n",
              "      <td>0.024083</td>\n",
              "      <td>5</td>\n",
              "      <td>0.93000</td>\n",
              "      <td>0.91625</td>\n",
              "      <td>0.92500</td>\n",
              "      <td>0.92500</td>\n",
              "      <td>0.92500</td>\n",
              "      <td>0.92425</td>\n",
              "      <td>0.004444</td>\n",
              "    </tr>\n",
              "  </tbody>\n",
              "</table>\n",
              "</div>"
            ],
            "text/plain": [
              "   mean_fit_time  std_fit_time  ...  mean_train_score  std_train_score\n",
              "0       4.632373      0.063362  ...           1.00000         0.000000\n",
              "1       1.479051      0.019037  ...           0.98625         0.001768\n",
              "2       2.517927      0.165199  ...           0.89725         0.009598\n",
              "3       4.731406      0.266706  ...           1.00000         0.000000\n",
              "4       1.382461      0.025234  ...           0.99850         0.001225\n",
              "5       2.010562      0.168429  ...           0.92425         0.004444\n",
              "\n",
              "[6 rows x 22 columns]"
            ]
          },
          "metadata": {
            "tags": []
          },
          "execution_count": 28
        }
      ]
    },
    {
      "cell_type": "code",
      "metadata": {
        "id": "L9dpYJmI56Vq",
        "colab_type": "code",
        "outputId": "e68ec7ef-6064-402a-f41f-b442a35ba055",
        "colab": {
          "base_uri": "https://localhost:8080/",
          "height": 517
        }
      },
      "source": [
        "# converting C to numeric type for plotting on x-axis\n",
        "cv_results['param_C'] = cv_results['param_C'].astype('int')\n",
        "\n",
        "# # plotting\n",
        "plt.figure(figsize=(16,8))\n",
        "\n",
        "# subplot 1/3\n",
        "plt.subplot(131)\n",
        "gamma_01 = cv_results[cv_results['param_gamma']==0.01]\n",
        "\n",
        "plt.plot(gamma_01[\"param_C\"], gamma_01[\"mean_test_score\"])\n",
        "plt.plot(gamma_01[\"param_C\"], gamma_01[\"mean_train_score\"])\n",
        "plt.xlabel('C')\n",
        "plt.ylabel('Accuracy')\n",
        "plt.title(\"Gamma=0.01\")\n",
        "plt.ylim([0.60, 1])\n",
        "plt.legend(['test accuracy', 'train accuracy'], loc='upper left')\n",
        "plt.xscale('log')\n",
        "\n",
        "# subplot 2/3\n",
        "plt.subplot(132)\n",
        "gamma_001 = cv_results[cv_results['param_gamma']==0.001]\n",
        "\n",
        "plt.plot(gamma_001[\"param_C\"], gamma_001[\"mean_test_score\"])\n",
        "plt.plot(gamma_001[\"param_C\"], gamma_001[\"mean_train_score\"])\n",
        "plt.xlabel('C')\n",
        "plt.ylabel('Accuracy')\n",
        "plt.title(\"Gamma=0.001\")\n",
        "plt.ylim([0.60, 1])\n",
        "plt.legend(['test accuracy', 'train accuracy'], loc='upper left')\n",
        "plt.xscale('log')\n",
        "\n",
        "\n",
        "# subplot 3/3\n",
        "plt.subplot(133)\n",
        "gamma_0001 = cv_results[cv_results['param_gamma']==0.0001]\n",
        "\n",
        "plt.plot(gamma_0001[\"param_C\"], gamma_0001[\"mean_test_score\"])\n",
        "plt.plot(gamma_0001[\"param_C\"], gamma_0001[\"mean_train_score\"])\n",
        "plt.xlabel('C')\n",
        "plt.ylabel('Accuracy')\n",
        "plt.title(\"Gamma=0.0001\")\n",
        "plt.ylim([0.60, 1])\n",
        "plt.legend(['test accuracy', 'train accuracy'], loc='upper left')\n",
        "plt.xscale('log')\n"
      ],
      "execution_count": 0,
      "outputs": [
        {
          "output_type": "display_data",
          "data": {
            "image/png": "[encoded data removed]",
            "text/plain": [
              "<Figure size 1152x576 with 3 Axes>"
            ]
          },
          "metadata": {
            "tags": []
          }
        }
      ]
    },
    {
      "cell_type": "code",
      "metadata": {
        "id": "oVLFCu-y6iKN",
        "colab_type": "code",
        "outputId": "85ef006a-e6f9-478f-99d3-6f11873daec3",
        "colab": {
          "base_uri": "https://localhost:8080/",
          "height": 34
        }
      },
      "source": [
        "best_score = model_cv.best_score_\n",
        "best_hyperparams = model_cv.best_params_\n",
        "\n",
        "print(\"The best test score is {0} corresponding to hyperparameters {1}\".format(best_score, best_hyperparams))"
      ],
      "execution_count": 0,
      "outputs": [
        {
          "output_type": "stream",
          "text": [
            "The best test score is 0.917 corresponding to hyperparameters {'C': 5, 'gamma': 0.01}\n"
          ],
          "name": "stdout"
        }
      ]
    },
    {
      "cell_type": "code",
      "metadata": {
        "id": "okAJZbl-6mx9",
        "colab_type": "code",
        "outputId": "1be3d2c0-1d1e-4142-bfc1-67fa44b8878f",
        "colab": {
          "base_uri": "https://localhost:8080/",
          "height": 238
        }
      },
      "source": [
        "# model\n",
        "model = SVC(C=5, gamma=0.01, kernel=\"rbf\")\n",
        "\n",
        "model.fit(x_train_choose, y_train_choose)\n",
        "y_pred_choose = model.predict(x_test_choose)\n",
        "\n",
        "# metrics\n",
        "print(\"accuracy\", metrics.accuracy_score(y_test_choose, y_pred_choose), \"\\n\")\n",
        "print(metrics.confusion_matrix(y_test_choose, y_pred_choose), \"\\n\")"
      ],
      "execution_count": 0,
      "outputs": [
        {
          "output_type": "stream",
          "text": [
            "accuracy 0.95 \n",
            "\n",
            "[[ 9  0  0  0  0  0  0  0  0  0]\n",
            " [ 0  9  0  0  0  0  0  0  0  0]\n",
            " [ 0  0  5  0  0  0  0  0  1  0]\n",
            " [ 0  0  1 11  0  0  0  0  0  0]\n",
            " [ 0  0  0  0 10  0  0  0  0  0]\n",
            " [ 0  0  0  0  0 14  0  0  0  0]\n",
            " [ 0  0  1  0  0  1 11  0  0  0]\n",
            " [ 0  0  0  0  0  0  0  7  0  0]\n",
            " [ 0  1  0  0  0  0  0  0  8  0]\n",
            " [ 0  0  0  0  0  0  0  0  0 11]] \n",
            "\n"
          ],
          "name": "stdout"
        }
      ]
    },
    {
      "cell_type": "markdown",
      "metadata": {
        "id": "Q1Fhwb90AwHV",
        "colab_type": "text"
      },
      "source": [
        "# Decision Tree"
      ]
    },
    {
      "cell_type": "markdown",
      "metadata": {
        "id": "wS66Xi8rKxeA",
        "colab_type": "text"
      },
      "source": [
        "## Tree"
      ]
    },
    {
      "cell_type": "code",
      "metadata": {
        "id": "QSQSDMIgGDgf",
        "colab_type": "code",
        "colab": {}
      },
      "source": [
        "def visualize_tree(tree, feature_names, class_names):  # Used from Mirjana Maljkovic site\n",
        "    with open(\"dt.dot\", \"w\") as f:\n",
        "        export_graphviz(tree, out_file=f, feature_names=feature_names, class_names=class_names, filled=True, rounded=True)\n",
        "    f.close()\n",
        "\n",
        "    subprocess.call(\"dot -Tpng dt.dot -o tree.png\", shell=True)"
      ],
      "execution_count": 0,
      "outputs": []
    },
    {
      "cell_type": "code",
      "metadata": {
        "id": "zbtkTnXQE6rE",
        "colab_type": "code",
        "outputId": "94f66c91-307c-4075-8e24-0b120139f875",
        "colab": {
          "base_uri": "https://localhost:8080/",
          "height": 68
        }
      },
      "source": [
        "clf = tree.DecisionTreeClassifier()\n",
        "clf = clf.fit(x_train_choose, y_train_choose)\n",
        "y_pred_choose = clf.predict(x_test_choose)\n",
        "print(y_pred_choose[0:20], \"...\")\n",
        "print(y_test_choose[0:20], \"...\")\n",
        "print(metrics.accuracy_score(y_test_choose, y_pred_choose))"
      ],
      "execution_count": 0,
      "outputs": [
        {
          "output_type": "stream",
          "text": [
            "[1 1 6 2 8 0 6 9 2 0 5 4 4 9 0 9 3 4 6 9] ...\n",
            "[1 3 6 2 8 0 6 9 8 0 5 6 4 9 0 9 3 4 2 9] ...\n",
            "0.74\n"
          ],
          "name": "stdout"
        }
      ]
    },
    {
      "cell_type": "code",
      "metadata": {
        "id": "vQJMIj-SK-wd",
        "colab_type": "code",
        "colab": {
          "base_uri": "https://localhost:8080/",
          "height": 102
        },
        "outputId": "64a3d5ab-ed9f-487d-c9a5-9dd50fe45e8f"
      },
      "source": [
        "%%time\n",
        "\n",
        "clf = tree.DecisionTreeClassifier()\n",
        "clf = clf.fit(x_train_full, y_train)\n",
        "y_pred = clf.predict(x_test_full)\n",
        "print(y_pred[0:20], \".....\")\n",
        "print(y_test[0:20], \".....\")\n",
        "print(metrics.accuracy_score(y_test, y_pred))"
      ],
      "execution_count": 15,
      "outputs": [
        {
          "output_type": "stream",
          "text": [
            "[1 3 6 2 8 0 6 9 8 0 3 6 4 3 0 9 3 4 2 9] .....\n",
            "[1, 3, 6, 2, 8, 0, 6, 9, 8, 0, 5, 6, 4, 9, 0, 9, 3, 4, 2, 9] .....\n",
            "0.91385\n",
            "CPU times: user 13min 19s, sys: 780 ms, total: 13min 20s\n",
            "Wall time: 13min 20s\n"
          ],
          "name": "stdout"
        }
      ]
    },
    {
      "cell_type": "markdown",
      "metadata": {
        "id": "DFSOnH1EK0U5",
        "colab_type": "text"
      },
      "source": [
        "## Visualisation"
      ]
    },
    {
      "cell_type": "code",
      "metadata": {
        "id": "2gSqAtXGE6lA",
        "colab_type": "code",
        "colab": {}
      },
      "source": [
        "visualize_tree(clf,['pixel '+str((i,j)) for i in range(56) for j in range(56)], ['0','1','2','3','4','5','6','7','8','9'])"
      ],
      "execution_count": 0,
      "outputs": []
    },
    {
      "cell_type": "code",
      "metadata": {
        "id": "R4UBvWVCE6fE",
        "colab_type": "code",
        "outputId": "387ebb2d-821a-429c-e854-637a64fbb786",
        "colab": {
          "base_uri": "https://localhost:8080/",
          "height": 34
        }
      },
      "source": [
        "len([(i,j) for i in range(56) for j in range(56)])"
      ],
      "execution_count": 0,
      "outputs": [
        {
          "output_type": "execute_result",
          "data": {
            "text/plain": [
              "3136"
            ]
          },
          "metadata": {
            "tags": []
          },
          "execution_count": 40
        }
      ]
    },
    {
      "cell_type": "code",
      "metadata": {
        "id": "kLNXjv1cE6XU",
        "colab_type": "code",
        "outputId": "6736b8fd-be67-40a8-d756-09c20bb0a840",
        "colab": {
          "base_uri": "https://localhost:8080/",
          "height": 1105
        }
      },
      "source": [
        "print('feature (pixel) importances:', '\\n')  # Interpretability of decision tree\n",
        "pd.Series(clf.feature_importances_, index=['pixel '+str((i,j)) for i in range(56) for j in range(56)]).sort_values(ascending=False)"
      ],
      "execution_count": 0,
      "outputs": [
        {
          "output_type": "stream",
          "text": [
            "feature (pixel) importances: \n",
            "\n"
          ],
          "name": "stdout"
        },
        {
          "output_type": "execute_result",
          "data": {
            "text/plain": [
              "pixel (5, 30)     0.069163\n",
              "pixel (10, 17)    0.058156\n",
              "pixel (24, 16)    0.056897\n",
              "pixel (24, 46)    0.055479\n",
              "pixel (44, 12)    0.054088\n",
              "pixel (37, 18)    0.047680\n",
              "pixel (37, 8)     0.041545\n",
              "pixel (41, 41)    0.040623\n",
              "pixel (13, 44)    0.039743\n",
              "pixel (21, 22)    0.030483\n",
              "pixel (19, 36)    0.019648\n",
              "pixel (25, 24)    0.018332\n",
              "pixel (39, 21)    0.016954\n",
              "pixel (24, 36)    0.015251\n",
              "pixel (23, 31)    0.014366\n",
              "pixel (51, 21)    0.013361\n",
              "pixel (19, 15)    0.013141\n",
              "pixel (34, 20)    0.013012\n",
              "pixel (26, 25)    0.012508\n",
              "pixel (35, 17)    0.010771\n",
              "pixel (18, 20)    0.010528\n",
              "pixel (17, 39)    0.009801\n",
              "pixel (35, 11)    0.009329\n",
              "pixel (41, 21)    0.008313\n",
              "pixel (28, 43)    0.007761\n",
              "pixel (53, 33)    0.007656\n",
              "pixel (48, 28)    0.007515\n",
              "pixel (52, 27)    0.007418\n",
              "pixel (43, 45)    0.007161\n",
              "pixel (26, 37)    0.006979\n",
              "                    ...   \n",
              "pixel (36, 27)    0.000000\n",
              "pixel (36, 26)    0.000000\n",
              "pixel (36, 25)    0.000000\n",
              "pixel (36, 24)    0.000000\n",
              "pixel (36, 23)    0.000000\n",
              "pixel (36, 22)    0.000000\n",
              "pixel (36, 44)    0.000000\n",
              "pixel (36, 45)    0.000000\n",
              "pixel (36, 46)    0.000000\n",
              "pixel (36, 47)    0.000000\n",
              "pixel (37, 11)    0.000000\n",
              "pixel (37, 10)    0.000000\n",
              "pixel (37, 9)     0.000000\n",
              "pixel (37, 7)     0.000000\n",
              "pixel (37, 6)     0.000000\n",
              "pixel (37, 5)     0.000000\n",
              "pixel (37, 4)     0.000000\n",
              "pixel (37, 3)     0.000000\n",
              "pixel (37, 2)     0.000000\n",
              "pixel (37, 1)     0.000000\n",
              "pixel (37, 0)     0.000000\n",
              "pixel (36, 55)    0.000000\n",
              "pixel (36, 54)    0.000000\n",
              "pixel (36, 53)    0.000000\n",
              "pixel (36, 52)    0.000000\n",
              "pixel (36, 51)    0.000000\n",
              "pixel (36, 50)    0.000000\n",
              "pixel (36, 49)    0.000000\n",
              "pixel (36, 48)    0.000000\n",
              "pixel (0, 0)      0.000000\n",
              "Length: 3136, dtype: float64"
            ]
          },
          "metadata": {
            "tags": []
          },
          "execution_count": 54
        }
      ]
    },
    {
      "cell_type": "markdown",
      "metadata": {
        "id": "mj_gSvgtK2ZO",
        "colab_type": "text"
      },
      "source": [
        "## Random forests"
      ]
    },
    {
      "cell_type": "code",
      "metadata": {
        "id": "1nYB97JyAxzF",
        "colab_type": "code",
        "colab": {}
      },
      "source": [
        "clf = RandomForestClassifier(n_estimators=100)"
      ],
      "execution_count": 0,
      "outputs": []
    },
    {
      "cell_type": "code",
      "metadata": {
        "id": "6Kx8JQL5KbZk",
        "colab_type": "code",
        "outputId": "c7a7c6b6-d0f3-40a4-a756-a2c60a3ee47e",
        "colab": {
          "base_uri": "https://localhost:8080/",
          "height": 170
        }
      },
      "source": [
        "%%time\n",
        "\n",
        "clf.fit(x_train_full, y_train)"
      ],
      "execution_count": 33,
      "outputs": [
        {
          "output_type": "stream",
          "text": [
            "CPU times: user 11min 56s, sys: 102 ms, total: 11min 56s\n",
            "Wall time: 11min 56s\n"
          ],
          "name": "stdout"
        },
        {
          "output_type": "execute_result",
          "data": {
            "text/plain": [
              "RandomForestClassifier(bootstrap=True, class_weight=None, criterion='gini',\n",
              "                       max_depth=None, max_features='auto', max_leaf_nodes=None,\n",
              "                       min_impurity_decrease=0.0, min_impurity_split=None,\n",
              "                       min_samples_leaf=1, min_samples_split=2,\n",
              "                       min_weight_fraction_leaf=0.0, n_estimators=100,\n",
              "                       n_jobs=None, oob_score=False, random_state=None,\n",
              "                       verbose=0, warm_start=False)"
            ]
          },
          "metadata": {
            "tags": []
          },
          "execution_count": 33
        }
      ]
    },
    {
      "cell_type": "code",
      "metadata": {
        "id": "11tMw9r0KbPs",
        "colab_type": "code",
        "outputId": "06f288ca-0f4b-4ec3-99f6-f15f8f320d9f",
        "colab": {
          "base_uri": "https://localhost:8080/",
          "height": 68
        }
      },
      "source": [
        "y_pred = clf.predict(x_test_full)\n",
        "print(y_pred_choose[0:10], \"...\")\n",
        "print(y_test_choose[0:10], \"...\")\n",
        "print(metrics.accuracy_score(y_test, y_pred))"
      ],
      "execution_count": 36,
      "outputs": [
        {
          "output_type": "stream",
          "text": [
            "[1 3 6 2 8 0 6 9 8 0] ...\n",
            "[1 3 6 2 8 0 6 9 8 0] ...\n",
            "0.9743\n"
          ],
          "name": "stdout"
        }
      ]
    },
    {
      "cell_type": "markdown",
      "metadata": {
        "id": "LCLHBslWAyrS",
        "colab_type": "text"
      },
      "source": [
        "# Deep Neural Network"
      ]
    },
    {
      "cell_type": "code",
      "metadata": {
        "id": "R1iM1uhx3XC5",
        "colab_type": "code",
        "colab": {}
      },
      "source": [
        "BOX_SIZE = 56                        \n",
        "image_shape = (BOX_SIZE, BOX_SIZE, 1)  \n",
        "labels = ['0', '1', '2', '3', '4', '5', '6', '7', '8', '9']\n",
        "number_of_classes = len(labels)        "
      ],
      "execution_count": 0,
      "outputs": []
    },
    {
      "cell_type": "code",
      "metadata": {
        "id": "s_tWHo0W3W-6",
        "colab_type": "code",
        "colab": {}
      },
      "source": [
        "x_input = Input(shape=image_shape)  \n",
        "\n",
        "x = Conv2D(filters=32, kernel_size=(3,3), strides=(1,1), activation='relu', padding='valid')(x_input)\n",
        "x = Conv2D(filters=32, kernel_size=(3,3), strides=(1,1), activation='relu', padding='valid')(x) \n",
        "x = BatchNormalization()(x)\n",
        "x = MaxPool2D(pool_size=(2,2), padding='valid')(x)                                                      \n",
        "x = Conv2D(filters=48, kernel_size=(3,3), strides=(1,1), activation='relu', padding='valid')(x)        \n",
        "x = Conv2D(filters=48, kernel_size=(3,3), strides=(1,1), activation='relu', padding='valid')(x) \n",
        "x = BatchNormalization()(x)\n",
        "x = MaxPool2D(pool_size=(2,2), padding='valid')(x)                                                      \n",
        "x = Conv2D(filters=64, kernel_size=(3,3), strides=(1,1), activation='relu', padding='valid')(x)        \n",
        "x = Conv2D(filters=64, kernel_size=(3,3), strides=(1,1), activation='relu', padding='valid')(x) \n",
        "x = BatchNormalization()(x)\n",
        "x = MaxPool2D(pool_size=(3, 3), padding='valid')(x)                                                    \n",
        "x = Flatten()(x)                                                                                       \n",
        "\n",
        "x = Dense(units=768, activation='relu')(x)         \n",
        "x = Dropout(rate=0.25)(x)                          \n",
        "x = Dense(units=256, name='next_to_last')(x)                           \n",
        "x = Dropout(rate=0.25)(x)                          \n",
        "\n",
        "y_output = Dense(units=number_of_classes, activation='softmax')(x)  "
      ],
      "execution_count": 0,
      "outputs": []
    },
    {
      "cell_type": "code",
      "metadata": {
        "id": "QogcEfLg3W6W",
        "colab_type": "code",
        "colab": {}
      },
      "source": [
        "recognizer = Model(inputs=x_input, outputs=y_output, name='recognizer')"
      ],
      "execution_count": 0,
      "outputs": []
    },
    {
      "cell_type": "code",
      "metadata": {
        "id": "s4MicEWv3W2C",
        "colab_type": "code",
        "outputId": "412c940a-6a15-4288-983b-3dc540b6cace",
        "colab": {
          "base_uri": "https://localhost:8080/",
          "height": 782
        }
      },
      "source": [
        "recognizer.summary()"
      ],
      "execution_count": 0,
      "outputs": [
        {
          "output_type": "stream",
          "text": [
            "_________________________________________________________________\n",
            "Layer (type)                 Output Shape              Param #   \n",
            "=================================================================\n",
            "input_3 (InputLayer)         (None, 56, 56, 1)         0         \n",
            "_________________________________________________________________\n",
            "conv2d_13 (Conv2D)           (None, 54, 54, 32)        320       \n",
            "_________________________________________________________________\n",
            "conv2d_14 (Conv2D)           (None, 52, 52, 32)        9248      \n",
            "_________________________________________________________________\n",
            "batch_normalization_7 (Batch (None, 52, 52, 32)        128       \n",
            "_________________________________________________________________\n",
            "max_pooling2d_7 (MaxPooling2 (None, 26, 26, 32)        0         \n",
            "_________________________________________________________________\n",
            "conv2d_15 (Conv2D)           (None, 24, 24, 48)        13872     \n",
            "_________________________________________________________________\n",
            "conv2d_16 (Conv2D)           (None, 22, 22, 48)        20784     \n",
            "_________________________________________________________________\n",
            "batch_normalization_8 (Batch (None, 22, 22, 48)        192       \n",
            "_________________________________________________________________\n",
            "max_pooling2d_8 (MaxPooling2 (None, 11, 11, 48)        0         \n",
            "_________________________________________________________________\n",
            "conv2d_17 (Conv2D)           (None, 9, 9, 64)          27712     \n",
            "_________________________________________________________________\n",
            "conv2d_18 (Conv2D)           (None, 7, 7, 64)          36928     \n",
            "_________________________________________________________________\n",
            "batch_normalization_9 (Batch (None, 7, 7, 64)          256       \n",
            "_________________________________________________________________\n",
            "max_pooling2d_9 (MaxPooling2 (None, 2, 2, 64)          0         \n",
            "_________________________________________________________________\n",
            "flatten_3 (Flatten)          (None, 256)               0         \n",
            "_________________________________________________________________\n",
            "dense_5 (Dense)              (None, 768)               197376    \n",
            "_________________________________________________________________\n",
            "dropout_5 (Dropout)          (None, 768)               0         \n",
            "_________________________________________________________________\n",
            "next_to_last (Dense)         (None, 256)               196864    \n",
            "_________________________________________________________________\n",
            "dropout_6 (Dropout)          (None, 256)               0         \n",
            "_________________________________________________________________\n",
            "dense_6 (Dense)              (None, 10)                2570      \n",
            "=================================================================\n",
            "Total params: 506,250\n",
            "Trainable params: 505,962\n",
            "Non-trainable params: 288\n",
            "_________________________________________________________________\n"
          ],
          "name": "stdout"
        }
      ]
    },
    {
      "cell_type": "code",
      "metadata": {
        "id": "Fd1y849V3Wwg",
        "colab_type": "code",
        "colab": {}
      },
      "source": [
        "recognizer.compile(optimizer=Adam(lr=1e-3), loss=categorical_crossentropy, metrics=['accuracy'])   # beta_1=0.9, beta_2=0.999"
      ],
      "execution_count": 0,
      "outputs": []
    },
    {
      "cell_type": "code",
      "metadata": {
        "id": "3AeNro0a3Wr4",
        "colab_type": "code",
        "colab": {}
      },
      "source": [
        "reduce = ReduceLROnPlateau(monitor='val_loss', factor=0.5, patience=1, verbose=1, mode='min', #add min_delta\n",
        "                           cooldown=1, min_le=1e-8)\n",
        "\n",
        "estop = EarlyStopping(monitor='val_loss', min_delta=0, patience=4, verbose=1, mode='min')\n",
        "\n",
        "excel = CSVLogger(filename='./CNN.csv', separator=',', append=False)\n",
        "\n",
        "checkp = ModelCheckpoint('./CNN_weights.h5', monitor='val_loss', verbose=1, save_best_only=True, save_weights_only=True, mode='auto', period=1)"
      ],
      "execution_count": 0,
      "outputs": []
    },
    {
      "cell_type": "code",
      "metadata": {
        "id": "q0UPLP2vf9wG",
        "colab_type": "code",
        "colab": {}
      },
      "source": [
        "class SequenceGenerator(Sequence):\n",
        "  # infodisk - [(path, label, writer)]\n",
        "  # batch_size - size of batch\n",
        "  \n",
        "    def __init__(self, xs, ys, batch_size):\n",
        "      self.xs = np.array(xs)\n",
        "      self.ys = np.array(ys)\n",
        "      self.batch_size = batch_size\n",
        "    \n",
        "    def __len__(self):\n",
        "      return int(np.ceil(len(self.xs)/float(self.batch_size)))\n",
        "  \n",
        "    def __getitem__(self, index):\n",
        "      _xs = self.xs[index*self.batch_size: (index+1)*self.batch_size]\n",
        "      _ys = self.ys[index*self.batch_size: (index+1)*self.batch_size]\n",
        "    \n",
        "      return np.array([(x.reshape(BOX_SIZE, BOX_SIZE, 1))/255.0 for x in _xs]), to_categorical(_ys, number_of_classes)\n",
        "  \n",
        "    def on_epoch_end(self):\n",
        "      self.xs, self.ys = shuffle(self.xs, self.ys)"
      ],
      "execution_count": 0,
      "outputs": []
    },
    {
      "cell_type": "code",
      "metadata": {
        "id": "aWUQYwu_gLQv",
        "colab_type": "code",
        "outputId": "1e11914c-57df-4eab-dd76-6d63ea0bfdc8",
        "colab": {
          "base_uri": "https://localhost:8080/",
          "height": 51
        }
      },
      "source": [
        "test = SequenceGenerator(x_train, y_train, 50)\n",
        "x, y = test.__getitem__(0)\n",
        "print(x.shape)\n",
        "print(y.shape)"
      ],
      "execution_count": 0,
      "outputs": [
        {
          "output_type": "stream",
          "text": [
            "(50, 56, 56, 1)\n",
            "(50, 10)\n"
          ],
          "name": "stdout"
        }
      ]
    },
    {
      "cell_type": "code",
      "metadata": {
        "id": "ik_uZavUjHD8",
        "colab_type": "code",
        "outputId": "be27ddd7-273b-4d27-fa89-4864c77d679e",
        "colab": {
          "base_uri": "https://localhost:8080/",
          "height": 34
        }
      },
      "source": [
        "np.array(x_train).shape"
      ],
      "execution_count": 0,
      "outputs": [
        {
          "output_type": "execute_result",
          "data": {
            "text/plain": [
              "(120000, 56, 56)"
            ]
          },
          "metadata": {
            "tags": []
          },
          "execution_count": 60
        }
      ]
    },
    {
      "cell_type": "code",
      "metadata": {
        "id": "XNjdHiUZhTEU",
        "colab_type": "code",
        "colab": {}
      },
      "source": [
        "train_generator = SequenceGenerator(x_train[:100_000], y_train[:100_000], 1000)\n",
        "validation_generator = SequenceGenerator(x_train[100_000:], y_train[100_000:], 1000)"
      ],
      "execution_count": 0,
      "outputs": []
    },
    {
      "cell_type": "code",
      "metadata": {
        "id": "mU_GMd3Q3WlE",
        "colab_type": "code",
        "outputId": "4b91955b-427e-4441-dd73-5a9755a741ea",
        "colab": {
          "base_uri": "https://localhost:8080/",
          "height": 918
        }
      },
      "source": [
        "history = recognizer.fit_generator(generator=train_generator, epochs=10, verbose=1,\n",
        "                                   use_multiprocessing=False, workers=2, validation_data=validation_generator,\n",
        "                                   callbacks=[reduce, estop, excel, checkp])"
      ],
      "execution_count": 0,
      "outputs": [
        {
          "output_type": "stream",
          "text": [
            "Epoch 1/10\n",
            "100/100 [==============================] - 23s 228ms/step - loss: 0.0159 - acc: 0.9952 - val_loss: 0.0277 - val_acc: 0.9921\n",
            "\n",
            "Epoch 00001: val_loss improved from 0.03119 to 0.02772, saving model to ./CNN_weights.h5\n",
            "Epoch 2/10\n",
            "100/100 [==============================] - 23s 231ms/step - loss: 0.0146 - acc: 0.9955 - val_loss: 0.0372 - val_acc: 0.9887\n",
            "\n",
            "Epoch 00002: ReduceLROnPlateau reducing learning rate to 0.0002500000118743628.\n",
            "\n",
            "Epoch 00002: val_loss did not improve from 0.02772\n",
            "Epoch 3/10\n",
            "100/100 [==============================] - 23s 226ms/step - loss: 0.0100 - acc: 0.9971 - val_loss: 0.0233 - val_acc: 0.9929\n",
            "\n",
            "Epoch 00003: val_loss improved from 0.02772 to 0.02334, saving model to ./CNN_weights.h5\n",
            "Epoch 4/10\n",
            "100/100 [==============================] - 22s 225ms/step - loss: 0.0083 - acc: 0.9977 - val_loss: 0.0226 - val_acc: 0.9933\n",
            "\n",
            "Epoch 00004: val_loss improved from 0.02334 to 0.02256, saving model to ./CNN_weights.h5\n",
            "Epoch 5/10\n",
            "100/100 [==============================] - 23s 225ms/step - loss: 0.0077 - acc: 0.9976 - val_loss: 0.0250 - val_acc: 0.9929\n",
            "\n",
            "Epoch 00005: ReduceLROnPlateau reducing learning rate to 0.0001250000059371814.\n",
            "\n",
            "Epoch 00005: val_loss did not improve from 0.02256\n",
            "Epoch 6/10\n",
            "100/100 [==============================] - 23s 227ms/step - loss: 0.0059 - acc: 0.9983 - val_loss: 0.0214 - val_acc: 0.9937\n",
            "\n",
            "Epoch 00006: val_loss improved from 0.02256 to 0.02139, saving model to ./CNN_weights.h5\n",
            "Epoch 7/10\n",
            "100/100 [==============================] - 23s 227ms/step - loss: 0.0052 - acc: 0.9987 - val_loss: 0.0245 - val_acc: 0.9932\n",
            "\n",
            "Epoch 00007: ReduceLROnPlateau reducing learning rate to 6.25000029685907e-05.\n",
            "\n",
            "Epoch 00007: val_loss did not improve from 0.02139\n",
            "Epoch 8/10\n",
            "100/100 [==============================] - 22s 224ms/step - loss: 0.0041 - acc: 0.9990 - val_loss: 0.0226 - val_acc: 0.9936\n",
            "\n",
            "Epoch 00008: ReduceLROnPlateau reducing learning rate to 3.125000148429535e-05.\n",
            "\n",
            "Epoch 00008: val_loss did not improve from 0.02139\n",
            "Epoch 9/10\n",
            "100/100 [==============================] - 23s 226ms/step - loss: 0.0041 - acc: 0.9990 - val_loss: 0.0226 - val_acc: 0.9937\n",
            "\n",
            "Epoch 00009: ReduceLROnPlateau reducing learning rate to 1.5625000742147677e-05.\n",
            "\n",
            "Epoch 00009: val_loss did not improve from 0.02139\n",
            "Epoch 10/10\n",
            "100/100 [==============================] - 23s 226ms/step - loss: 0.0037 - acc: 0.9992 - val_loss: 0.0224 - val_acc: 0.9939\n",
            "\n",
            "Epoch 00010: ReduceLROnPlateau reducing learning rate to 7.812500371073838e-06.\n",
            "\n",
            "Epoch 00010: val_loss did not improve from 0.02139\n",
            "Epoch 00010: early stopping\n"
          ],
          "name": "stdout"
        }
      ]
    },
    {
      "cell_type": "code",
      "metadata": {
        "id": "uA7yxHvonx4a",
        "colab_type": "code",
        "outputId": "23729450-5de6-4309-c9aa-1914f35b293f",
        "colab": {
          "base_uri": "https://localhost:8080/",
          "height": 51
        }
      },
      "source": [
        "recognizer.evaluate(x=(np.array(x_test)/255.0).reshape(len(x_test), BOX_SIZE, BOX_SIZE, 1), y=to_categorical(np.array(y_test), number_of_classes), batch_size=256, verbose=1)"
      ],
      "execution_count": 0,
      "outputs": [
        {
          "output_type": "stream",
          "text": [
            "20000/20000 [==============================] - 2s 96us/step\n"
          ],
          "name": "stdout"
        },
        {
          "output_type": "execute_result",
          "data": {
            "text/plain": [
              "[0.025394510033074767, 0.9937]"
            ]
          },
          "metadata": {
            "tags": []
          },
          "execution_count": 66
        }
      ]
    },
    {
      "cell_type": "code",
      "metadata": {
        "id": "NdRLlsCZoIFi",
        "colab_type": "code",
        "colab": {}
      },
      "source": [
        "recognizer.save_weights('./CNN_weights.h5') \n",
        "recognizer.save('./CNN_model.h5') "
      ],
      "execution_count": 0,
      "outputs": []
    },
    {
      "cell_type": "code",
      "metadata": {
        "id": "xDViU7k4oUtd",
        "colab_type": "code",
        "outputId": "768a2942-f1ca-49d8-eb43-7e45e1b65a73",
        "colab": {
          "base_uri": "https://localhost:8080/",
          "height": 295
        }
      },
      "source": [
        "epochs = history.epoch\n",
        "loss = history.history['loss']\n",
        "val_loss = history.history['val_loss']\n",
        "\n",
        "plt.title('Loss/Val loss curve')\n",
        "plt.xlabel('epochs')\n",
        "plt.ylabel('loss')\n",
        "plt.plot(epochs, loss, color='red', label='training')\n",
        "plt.plot(epochs, val_loss, color='orange', label='validation')\n",
        "plt.legend()\n",
        "plt.show()"
      ],
      "execution_count": 0,
      "outputs": [
        {
          "output_type": "display_data",
          "data": {
            "image/png": "[encoded data removed]",
            "text/plain": [
              "<Figure size 432x288 with 1 Axes>"
            ]
          },
          "metadata": {
            "tags": []
          }
        }
      ]
    },
    {
      "cell_type": "code",
      "metadata": {
        "id": "g8_iwADnoYHL",
        "colab_type": "code",
        "outputId": "8df1a4ad-a6e4-47e6-feb0-ab7f728fce4f",
        "colab": {
          "base_uri": "https://localhost:8080/",
          "height": 295
        }
      },
      "source": [
        "acc = history.history['acc']\n",
        "val_acc = history.history['val_acc']\n",
        "\n",
        "plt.title('Acc/Val acc curve')\n",
        "plt.xlabel('epochs')\n",
        "plt.ylabel('accuracy')\n",
        "plt.plot(epochs, acc, color='red', label='training')\n",
        "plt.plot(epochs, val_acc, color='orange', label='validation')\n",
        "plt.legend()\n",
        "plt.show()"
      ],
      "execution_count": 0,
      "outputs": [
        {
          "output_type": "display_data",
          "data": {
            "image/png": "[encoded data removed]",
            "text/plain": [
              "<Figure size 432x288 with 1 Axes>"
            ]
          },
          "metadata": {
            "tags": []
          }
        }
      ]
    },
    {
      "cell_type": "code",
      "metadata": {
        "id": "1YkLNYx7odDL",
        "colab_type": "code",
        "outputId": "72d9c9a5-0c96-4a0b-d998-e494aa7d544d",
        "colab": {
          "base_uri": "https://localhost:8080/",
          "height": 357
        }
      },
      "source": [
        "from sklearn.metrics import accuracy_score\n",
        "from sklearn.metrics import classification_report\n",
        "\n",
        "y_predicted = np.argmax(recognizer.predict((np.array(x_test)/255.0).reshape(len(x_test), BOX_SIZE, BOX_SIZE, 1)), axis=1)\n",
        "print('predicted: ', y_predicted[0:5])\n",
        "print('test: ', y_test[0:5])\n",
        "acc = accuracy_score(y_test, y_predicted)\n",
        "print(acc*100.0)\n",
        "report = classification_report(y_test, y_predicted)\n",
        "print(report)"
      ],
      "execution_count": 0,
      "outputs": [
        {
          "output_type": "stream",
          "text": [
            "predicted:  [1 3 6 2 8]\n",
            "test:  [1, 3, 6, 2, 8]\n",
            "99.37\n",
            "              precision    recall  f1-score   support\n",
            "\n",
            "           0       1.00      1.00      1.00      2000\n",
            "           1       0.99      1.00      0.99      2000\n",
            "           2       0.99      0.99      0.99      2000\n",
            "           3       1.00      0.99      0.99      2000\n",
            "           4       0.99      0.99      0.99      2000\n",
            "           5       1.00      1.00      1.00      2000\n",
            "           6       1.00      0.99      1.00      2000\n",
            "           7       0.99      0.99      0.99      2000\n",
            "           8       0.99      0.99      0.99      2000\n",
            "           9       0.99      0.99      0.99      2000\n",
            "\n",
            "    accuracy                           0.99     20000\n",
            "   macro avg       0.99      0.99      0.99     20000\n",
            "weighted avg       0.99      0.99      0.99     20000\n",
            "\n"
          ],
          "name": "stdout"
        }
      ]
    },
    {
      "cell_type": "code",
      "metadata": {
        "id": "BChzMP9apOt7",
        "colab_type": "code",
        "outputId": "7415cd56-b9f9-4902-90a3-cc4df268d211",
        "colab": {
          "base_uri": "https://localhost:8080/",
          "height": 238
        }
      },
      "source": [
        "from sklearn.metrics import confusion_matrix\n",
        "\n",
        "M = confusion_matrix(y_test, y_predicted)\n",
        "display(M)\n",
        "recall = np.diag(M) / np.sum(M, axis = 1)\n",
        "print(recall)\n",
        "precision = np.diag(M) / np.sum(M, axis = 0)\n",
        "print(precision)"
      ],
      "execution_count": 0,
      "outputs": [
        {
          "output_type": "display_data",
          "data": {
            "text/plain": [
              "array([[1994,    0,    2,    0,    1,    1,    1,    0,    0,    1],\n",
              "       [   0, 1992,    6,    0,    0,    0,    0,    2,    0,    0],\n",
              "       [   2,    1, 1987,    1,    0,    0,    1,    2,    5,    1],\n",
              "       [   0,    0,    7, 1983,    0,    4,    0,    3,    3,    0],\n",
              "       [   1,    1,    0,    0, 1985,    0,    2,    2,    1,    8],\n",
              "       [   0,    0,    1,    4,    1, 1991,    0,    0,    2,    1],\n",
              "       [   3,    3,    0,    0,    0,    2, 1989,    0,    3,    0],\n",
              "       [   0,    7,    5,    0,    4,    0,    0, 1983,    0,    1],\n",
              "       [   1,    1,    3,    0,    3,    2,    1,    0, 1985,    4],\n",
              "       [   3,    0,    0,    0,    5,    0,    0,    3,    4, 1985]])"
            ]
          },
          "metadata": {
            "tags": []
          }
        },
        {
          "output_type": "stream",
          "text": [
            "[0.997  0.996  0.9935 0.9915 0.9925 0.9955 0.9945 0.9915 0.9925 0.9925]\n",
            "[0.99500998 0.99351621 0.98806564 0.99748491 0.9929965  0.9955\n",
            " 0.99749248 0.99398496 0.99101348 0.992004  ]\n"
          ],
          "name": "stdout"
        }
      ]
    },
    {
      "cell_type": "code",
      "metadata": {
        "id": "gNyzAcsvpSYY",
        "colab_type": "code",
        "outputId": "a6078390-92b7-4eab-f632-f4bce060dc1a",
        "colab": {
          "base_uri": "https://localhost:8080/",
          "height": 350
        }
      },
      "source": [
        "import seaborn as sns\n",
        "\n",
        "fig, ax = plt.subplots(figsize=(5,5))\n",
        "sns.heatmap(M, annot=False, ax = ax)\n",
        "\n",
        "# By definition a confusion matrix C is such that Cij is equal to the number of observations known to be in group i but predicted to be in group j.\n",
        "ax.set_xlabel('Predicted labels')\n",
        "ax.set_ylabel('True labels')\n",
        "ax.set_title('Confusion Matrix');\n",
        "ax.xaxis.set_ticklabels(labels)\n",
        "ax.yaxis.set_ticklabels(labels)\n",
        "\n",
        "fig.savefig('confusion_matrix.png')\n",
        "plt.show()"
      ],
      "execution_count": 0,
      "outputs": [
        {
          "output_type": "display_data",
          "data": {
            "image/png": "[encoded data removed]",
            "text/plain": [
              "<Figure size 360x360 with 2 Axes>"
            ]
          },
          "metadata": {
            "tags": []
          }
        }
      ]
    },
    {
      "cell_type": "code",
      "metadata": {
        "id": "dGuTML2pp0ua",
        "colab_type": "code",
        "outputId": "a4aa7138-d8fd-4747-c6a3-0621240999a3",
        "colab": {
          "base_uri": "https://localhost:8080/",
          "height": 204
        }
      },
      "source": [
        "# Manually print confusion matrix\n",
        "print('  ', end='  ')\n",
        "print('0    ', end='')\n",
        "for j in labels[1:]:\n",
        "    print(str(j), end='   ')\n",
        "print()\n",
        "for idx, i in enumerate(M):\n",
        "    print(str(labels[idx]), end=' ')\n",
        "    for j in i:\n",
        "        print('%3d' % (j), end=' ')\n",
        "    print()"
      ],
      "execution_count": 0,
      "outputs": [
        {
          "output_type": "stream",
          "text": [
            "    0    1   2   3   4   5   6   7   8   9   \n",
            "0 1994   0   2   0   1   1   1   0   0   1 \n",
            "1   0 1992   6   0   0   0   0   2   0   0 \n",
            "2   2   1 1987   1   0   0   1   2   5   1 \n",
            "3   0   0   7 1983   0   4   0   3   3   0 \n",
            "4   1   1   0   0 1985   0   2   2   1   8 \n",
            "5   0   0   1   4   1 1991   0   0   2   1 \n",
            "6   3   3   0   0   0   2 1989   0   3   0 \n",
            "7   0   7   5   0   4   0   0 1983   0   1 \n",
            "8   1   1   3   0   3   2   1   0 1985   4 \n",
            "9   3   0   0   0   5   0   0   3   4 1985 \n"
          ],
          "name": "stdout"
        }
      ]
    },
    {
      "cell_type": "code",
      "metadata": {
        "id": "i8Dq-b2Fq2La",
        "colab_type": "code",
        "outputId": "aeae32a8-33e6-4cdd-8285-daf7163458b8",
        "colab": {
          "base_uri": "https://localhost:8080/",
          "height": 2877
        }
      },
      "source": [
        "# Visualise missclassified examples \n",
        "indexes = y_test!=y_predicted\n",
        "n = sum(indexes)  # 126\n",
        "x_test_wrong = np.array(x_test)[indexes]\n",
        "y_test_wrong = np.array(y_test)[indexes]\n",
        "y_predicted_wrong = np.array(y_predicted)[indexes]\n",
        "for i in range(10):\n",
        "  print('true label: ', y_test_wrong[i])\n",
        "  print('predicted label: ', y_predicted_wrong[i])\n",
        "  plt.imshow(x_test_wrong[i], cmap='gray')\n",
        "  plt.show()"
      ],
      "execution_count": 0,
      "outputs": [
        {
          "output_type": "stream",
          "text": [
            "true label:  1\n",
            "predicted label:  2\n"
          ],
          "name": "stdout"
        },
        {
          "output_type": "display_data",
          "data": {
            "image/png": "[encoded data removed]",
            "text/plain": [
              "<Figure size 432x288 with 1 Axes>"
            ]
          },
          "metadata": {
            "tags": []
          }
        },
        {
          "output_type": "stream",
          "text": [
            "true label:  2\n",
            "predicted label:  8\n"
          ],
          "name": "stdout"
        },
        {
          "output_type": "display_data",
          "data": {
            "image/png": "[encoded data removed]",
            "text/plain": [
              "<Figure size 432x288 with 1 Axes>"
            ]
          },
          "metadata": {
            "tags": []
          }
        },
        {
          "output_type": "stream",
          "text": [
            "true label:  5\n",
            "predicted label:  4\n"
          ],
          "name": "stdout"
        },
        {
          "output_type": "display_data",
          "data": {
            "image/png": "[encoded data removed]",
            "text/plain": [
              "<Figure size 432x288 with 1 Axes>"
            ]
          },
          "metadata": {
            "tags": []
          }
        },
        {
          "output_type": "stream",
          "text": [
            "true label:  7\n",
            "predicted label:  2\n"
          ],
          "name": "stdout"
        },
        {
          "output_type": "display_data",
          "data": {
            "image/png": "[encoded data removed]",
            "text/plain": [
              "<Figure size 432x288 with 1 Axes>"
            ]
          },
          "metadata": {
            "tags": []
          }
        },
        {
          "output_type": "stream",
          "text": [
            "true label:  8\n",
            "predicted label:  4\n"
          ],
          "name": "stdout"
        },
        {
          "output_type": "display_data",
          "data": {
            "image/png": "[encoded data removed]",
            "text/plain": [
              "<Figure size 432x288 with 1 Axes>"
            ]
          },
          "metadata": {
            "tags": []
          }
        },
        {
          "output_type": "stream",
          "text": [
            "true label:  8\n",
            "predicted label:  2\n"
          ],
          "name": "stdout"
        },
        {
          "output_type": "display_data",
          "data": {
            "image/png": "[encoded data removed]",
            "text/plain": [
              "<Figure size 432x288 with 1 Axes>"
            ]
          },
          "metadata": {
            "tags": []
          }
        },
        {
          "output_type": "stream",
          "text": [
            "true label:  2\n",
            "predicted label:  7\n"
          ],
          "name": "stdout"
        },
        {
          "output_type": "display_data",
          "data": {
            "image/png": "[encoded data removed]",
            "text/plain": [
              "<Figure size 432x288 with 1 Axes>"
            ]
          },
          "metadata": {
            "tags": []
          }
        },
        {
          "output_type": "stream",
          "text": [
            "true label:  6\n",
            "predicted label:  5\n"
          ],
          "name": "stdout"
        },
        {
          "output_type": "display_data",
          "data": {
            "image/png": "[encoded data removed]",
            "text/plain": [
              "<Figure size 432x288 with 1 Axes>"
            ]
          },
          "metadata": {
            "tags": []
          }
        },
        {
          "output_type": "stream",
          "text": [
            "true label:  5\n",
            "predicted label:  3\n"
          ],
          "name": "stdout"
        },
        {
          "output_type": "display_data",
          "data": {
            "image/png": "[encoded data removed]",
            "text/plain": [
              "<Figure size 432x288 with 1 Axes>"
            ]
          },
          "metadata": {
            "tags": []
          }
        },
        {
          "output_type": "stream",
          "text": [
            "true label:  8\n",
            "predicted label:  6\n"
          ],
          "name": "stdout"
        },
        {
          "output_type": "display_data",
          "data": {
            "image/png": "[encoded data removed]",
            "text/plain": [
              "<Figure size 432x288 with 1 Axes>"
            ]
          },
          "metadata": {
            "tags": []
          }
        }
      ]
    }
  ]
}