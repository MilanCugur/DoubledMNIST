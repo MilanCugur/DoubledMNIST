{
  "nbformat": 4,
  "nbformat_minor": 0,
  "metadata": {
    "colab": {
      "name": "DoubledMNIST_Classification_Tasks.ipynb",
      "version": "0.3.2",
      "provenance": [],
      "collapsed_sections": [
        "Q1Fhwb90AwHV",
        "LCLHBslWAyrS"
      ],
      "include_colab_link": true
    },
    "kernelspec": {
      "name": "python3",
      "display_name": "Python 3"
    },
    "accelerator": "GPU"
  },
  "cells": [
    {
      "cell_type": "markdown",
      "metadata": {
        "id": "view-in-github",
        "colab_type": "text"
      },
      "source": [
        "<a href=\"https://colab.research.google.com/github/MilanCugur/DoubledMNIST/blob/master/DoubledMNIST_Classification_Tasks.ipynb\" target=\"_parent\"><img src=\"https://colab.research.google.com/assets/colab-badge.svg\" alt=\"Open In Colab\"/></a>"
      ]
    },
    {
      "cell_type": "code",
      "metadata": {
        "id": "97wTa6g0zpLk",
        "colab_type": "code",
        "outputId": "3c634eae-4ae7-49ec-a6e8-64192346d669",
        "colab": {
          "base_uri": "https://localhost:8080/",
          "height": 34
        }
      },
      "source": [
        "from google.colab import drive\n",
        "drive.mount('/content/drive')"
      ],
      "execution_count": 1,
      "outputs": [
        {
          "output_type": "stream",
          "text": [
            "Drive already mounted at /content/drive; to attempt to forcibly remount, call drive.mount(\"/content/drive\", force_remount=True).\n"
          ],
          "name": "stdout"
        }
      ]
    },
    {
      "cell_type": "code",
      "metadata": {
        "id": "Y2p1ENVF1vc3",
        "colab_type": "code",
        "outputId": "5864408e-c167-4d08-f2e8-06e5918d9361",
        "colab": {
          "base_uri": "https://localhost:8080/",
          "height": 34
        }
      },
      "source": [
        "# General tools\n",
        "import matplotlib.pyplot as plt\n",
        "import numpy as np\n",
        "import pandas as pd\n",
        "import seaborn as sns\n",
        "from tqdm import tqdm\n",
        "\n",
        "# Metrics and Evaluation\n",
        "from sklearn.metrics import accuracy_score\n",
        "from sklearn.model_selection import train_test_split, GridSearchCV\n",
        "from sklearn.metrics import classification_report\n",
        "from sklearn.metrics import confusion_matrix\n",
        "from sklearn import metrics\n",
        "import sklearn.metrics as met\n",
        "\n",
        "# KNearest Neighbours\n",
        "from sklearn.cluster import KMeans\n",
        "from sklearn.neighbors import KNeighborsClassifier  \n",
        "\n",
        "# PCA\n",
        "from sklearn.decomposition import PCA, SparsePCA, MiniBatchSparsePCA\n",
        "\n",
        "# SVC\n",
        "from sklearn.svm import  SVC\n",
        "from sklearn.model_selection import validation_curve\n",
        "from sklearn.model_selection import KFold\n",
        "from sklearn.model_selection import cross_val_score\n",
        "from sklearn.model_selection import GridSearchCV\n",
        "\n",
        "# Decision Tree\n",
        "from sklearn import tree\n",
        "from sklearn.tree import  DecisionTreeClassifier, export_graphviz\n",
        "import subprocess\n",
        "from sklearn.ensemble import RandomForestClassifier\n",
        "\n",
        "# Deep Neural Network\n",
        "from keras.models import Model\n",
        "from keras.layers import Input, Conv2D, MaxPool2D, Flatten, Concatenate, Dense, Dropout, BatchNormalization\n",
        "from keras.optimizers import Adam  # First, naive approach\n",
        "from keras.losses import categorical_crossentropy\n",
        "from keras.callbacks import ModelCheckpoint, EarlyStopping, ReduceLROnPlateau, CSVLogger  # Add callbacks to model\n",
        "from keras.models import load_model  # Save model params\n",
        "from keras.layers import LeakyReLU, concatenate\n",
        "from keras.layers.advanced_activations import PReLU\n",
        "from keras.initializers import glorot_normal\n",
        "from keras.utils import to_categorical\n",
        "from keras.utils import Sequence\n",
        "from sklearn.utils import shuffle\n",
        "import keras.backend as K"
      ],
      "execution_count": 2,
      "outputs": [
        {
          "output_type": "stream",
          "text": [
            "Using TensorFlow backend.\n"
          ],
          "name": "stderr"
        }
      ]
    },
    {
      "cell_type": "markdown",
      "metadata": {
        "id": "Fk8sIaPez8hm",
        "colab_type": "text"
      },
      "source": [
        "# Load data"
      ]
    },
    {
      "cell_type": "code",
      "metadata": {
        "id": "3nqZx6Bxzwtm",
        "colab_type": "code",
        "colab": {}
      },
      "source": [
        "def extract_dataset(path):\n",
        "  \"\"\"\n",
        "  extract DoubledMNIST dataset\n",
        "  Argument: path to .zip file with the dataset\n",
        "  Return value: x_train, y_train, x_test, y_test lists of numpy arrays \n",
        "  \n",
        "  (DoubledMNIST dataset: train size 120k images 56x56, test size 20k images 56x56)\n",
        "  \"\"\"\n",
        "  # import libraries\n",
        "  import os                     # for basic os operations\n",
        "  from zipfile import ZipFile \n",
        "  from skimage import io\n",
        "  import numpy as np\n",
        "  import shutil\n",
        "  \n",
        "  if not path.endswith('.zip'):\n",
        "    raise ValueError(\"Error: path is not '.zip' file\")\n",
        "  \n",
        "  archive = ZipFile(path, 'r')  # extract\n",
        "  archive.extractall('./DoubledMNIST')\n",
        "  archive.close()\n",
        "  del archive\n",
        "  \n",
        "  x_train = []\n",
        "  y_train = []\n",
        "  x_test = []\n",
        "  y_test = []\n",
        "  \n",
        "  for file in os.listdir('./DoubledMNIST/train'):\n",
        "    img = io.imread(os.path.join('./DoubledMNIST/train', file))\n",
        "    x_train.append(np.array(img))\n",
        "    y_train.append(int(file.split('_')[1]))\n",
        "  \n",
        "  for file in os.listdir('./DoubledMNIST/test'):\n",
        "    img = io.imread(os.path.join('./DoubledMNIST/test', file))\n",
        "    x_test.append(np.array(img))\n",
        "    y_test.append(int(file.split('_')[1]))\n",
        "    \n",
        "  shutil.rmtree('./DoubledMNIST')\n",
        "  return x_train, y_train, x_test, y_test"
      ],
      "execution_count": 0,
      "outputs": []
    },
    {
      "cell_type": "code",
      "metadata": {
        "id": "5yQ4cceG0B76",
        "colab_type": "code",
        "outputId": "868180e4-adb0-4b85-fd9a-ea1953b5e8d1",
        "colab": {
          "base_uri": "https://localhost:8080/",
          "height": 51
        }
      },
      "source": [
        "%%time\n",
        "x_train, y_train, x_test, y_test = extract_dataset('./drive/My Drive/dm_sem/DoubledMNIST.zip')"
      ],
      "execution_count": 4,
      "outputs": [
        {
          "output_type": "stream",
          "text": [
            "CPU times: user 55.2 s, sys: 12.2 s, total: 1min 7s\n",
            "Wall time: 1min 8s\n"
          ],
          "name": "stdout"
        }
      ]
    },
    {
      "cell_type": "code",
      "metadata": {
        "id": "DpSqzljL0gCD",
        "colab_type": "code",
        "outputId": "0964dfcc-0fb3-4e99-fd28-e2acbd2660bb",
        "colab": {
          "base_uri": "https://localhost:8080/",
          "height": 85
        }
      },
      "source": [
        "print('No of train images: ', len(x_train))  # size check\n",
        "print('No of train labels: ', len(y_train))\n",
        "print('No of test images: ', len(x_test))\n",
        "print('No of test labels: ', len(y_test))"
      ],
      "execution_count": 5,
      "outputs": [
        {
          "output_type": "stream",
          "text": [
            "No of train images:  120000\n",
            "No of train labels:  120000\n",
            "No of test images:  20000\n",
            "No of test labels:  20000\n"
          ],
          "name": "stdout"
        }
      ]
    },
    {
      "cell_type": "code",
      "metadata": {
        "id": "Qg0QmzMZ0kFJ",
        "colab_type": "code",
        "outputId": "1dd0a1a4-2b41-462f-f528-71bee40d5734",
        "colab": {
          "base_uri": "https://localhost:8080/",
          "height": 136
        }
      },
      "source": [
        "x_train[0]  # image check; its saved as 8bit grayscale image"
      ],
      "execution_count": 6,
      "outputs": [
        {
          "output_type": "execute_result",
          "data": {
            "text/plain": [
              "array([[255, 255, 255, ..., 254, 255, 255],\n",
              "       [255, 255, 255, ..., 254, 255, 255],\n",
              "       [255, 255, 255, ..., 254, 255, 255],\n",
              "       ...,\n",
              "       [254, 254, 254, ..., 254, 254, 254],\n",
              "       [255, 255, 255, ..., 254, 255, 255],\n",
              "       [255, 255, 255, ..., 254, 255, 255]], dtype=uint8)"
            ]
          },
          "metadata": {
            "tags": []
          },
          "execution_count": 6
        }
      ]
    },
    {
      "cell_type": "code",
      "metadata": {
        "id": "ab4yiqY60mSj",
        "colab_type": "code",
        "outputId": "d570aa93-9b65-4aa4-f4d6-f75e3766f226",
        "colab": {
          "base_uri": "https://localhost:8080/",
          "height": 536
        }
      },
      "source": [
        "# Plot some examples from datbase\n",
        "print('Slucajni uzorak baze podataka: ')\n",
        "fig, ax = plt.subplots(nrows=4, ncols=10)\n",
        "fig.set_figheight(9)\n",
        "fig.set_figwidth(18)\n",
        "for row in ax:\n",
        "    for col in row:\n",
        "      i = np.random.randint(len(x_train))\n",
        "      col.imshow(x_train[i], cmap='gray')\n",
        "      \n",
        "plt.show()"
      ],
      "execution_count": 7,
      "outputs": [
        {
          "output_type": "stream",
          "text": [
            "Slucajni uzorak baze podataka: \n"
          ],
          "name": "stdout"
        },
        {
          "output_type": "display_data",
          "data": {
            "image/png": "[encoded data removed]",
            "text/plain": [
              "<Figure size 1296x648 with 40 Axes>"
            ]
          },
          "metadata": {
            "tags": []
          }
        }
      ]
    },
    {
      "cell_type": "code",
      "metadata": {
        "id": "WDWj0zlO0rxl",
        "colab_type": "code",
        "outputId": "78177d45-0266-400d-e243-04c2af326b75",
        "colab": {
          "base_uri": "https://localhost:8080/",
          "height": 34
        }
      },
      "source": [
        "x_train[0].shape  # check image shape"
      ],
      "execution_count": 8,
      "outputs": [
        {
          "output_type": "execute_result",
          "data": {
            "text/plain": [
              "(56, 56)"
            ]
          },
          "metadata": {
            "tags": []
          },
          "execution_count": 8
        }
      ]
    },
    {
      "cell_type": "code",
      "metadata": {
        "id": "r6NA-HjB0_-z",
        "colab_type": "code",
        "outputId": "57cba034-1f3e-4a8a-cbcd-32b9623374a9",
        "colab": {
          "base_uri": "https://localhost:8080/",
          "height": 34
        }
      },
      "source": [
        "type(x_train[0])  # check image type"
      ],
      "execution_count": 9,
      "outputs": [
        {
          "output_type": "execute_result",
          "data": {
            "text/plain": [
              "numpy.ndarray"
            ]
          },
          "metadata": {
            "tags": []
          },
          "execution_count": 9
        }
      ]
    },
    {
      "cell_type": "markdown",
      "metadata": {
        "id": "HvIEB8RT69RN",
        "colab_type": "text"
      },
      "source": [
        "# Data for Choosing Parameters / Final Train"
      ]
    },
    {
      "cell_type": "code",
      "metadata": {
        "id": "romqGE8R2db4",
        "colab_type": "code",
        "colab": {}
      },
      "source": [
        "# Data for evaluation\n",
        "x_train_full = np.array([img.flatten()/255.0 for img in x_train])  # image preprocessiong, convert it to [0, 1] and flatten for knn; knn dont requests normalize data?\n",
        "y_train_full = np.array(y_train)\n",
        "\n",
        "x_test_full = np.array([img.flatten()/255.0 for img in x_test])\n",
        "y_test_full = np.array(y_test)"
      ],
      "execution_count": 0,
      "outputs": []
    },
    {
      "cell_type": "code",
      "metadata": {
        "id": "IX3F_6HX4oEN",
        "colab_type": "code",
        "colab": {}
      },
      "source": [
        "# Data for parameter choosing (knn, svm, dt)\n",
        "x_train_choose = np.array([img.flatten()/255.0 for img in x_train[:1000]])  \n",
        "y_train_choose = np.array(y_train[:1000])\n",
        "x_test_choose = np.array([img.flatten()/255.0 for img in x_train[1000:2000]])  \n",
        "y_test_choose = np.array(y_train[1000:2000])"
      ],
      "execution_count": 0,
      "outputs": []
    },
    {
      "cell_type": "code",
      "metadata": {
        "id": "Ce3dZCxw768T",
        "colab_type": "code",
        "outputId": "5f6e4b4d-6b61-4260-9e8d-eac7362262d1",
        "colab": {
          "base_uri": "https://localhost:8080/",
          "height": 599
        }
      },
      "source": [
        "plt.figure(figsize=(10,10))\n",
        "print('Raspodela labela na celom skupu podataka')\n",
        "plt.pie([sum(y_train_full==y) for y in range(10)], shadow=True, startangle=90, labels = ['0','1','2','3','4','5','6','7','8','9'], autopct='%1.1f%%')\n",
        "plt.legend()\n",
        "plt.show()"
      ],
      "execution_count": 12,
      "outputs": [
        {
          "output_type": "stream",
          "text": [
            "Raspodela labela na celom skupu podataka\n"
          ],
          "name": "stdout"
        },
        {
          "output_type": "display_data",
          "data": {
            "image/png": "[encoded data removed]",
            "text/plain": [
              "<Figure size 720x720 with 1 Axes>"
            ]
          },
          "metadata": {
            "tags": []
          }
        }
      ]
    },
    {
      "cell_type": "code",
      "metadata": {
        "id": "580FW-ju6uLV",
        "colab_type": "code",
        "outputId": "4e14dd34-bcf5-4868-caf7-38b11304e992",
        "colab": {
          "base_uri": "https://localhost:8080/",
          "height": 599
        }
      },
      "source": [
        "plt.figure(figsize=(10,10))\n",
        "print('Raspodela labela na skupu za izbor parametara')\n",
        "plt.pie([sum(y_train_choose==y) for y in range(10)], shadow=True, startangle=90, labels = ['0','1','2','3','4','5','6','7','8','9'], autopct='%1.1f%%')\n",
        "plt.legend()\n",
        "plt.show()"
      ],
      "execution_count": 13,
      "outputs": [
        {
          "output_type": "stream",
          "text": [
            "Raspodela labela na skupu za izbor parametara\n"
          ],
          "name": "stdout"
        },
        {
          "output_type": "display_data",
          "data": {
            "image/png": "[encoded data removed]",
            "text/plain": [
              "<Figure size 720x720 with 1 Axes>"
            ]
          },
          "metadata": {
            "tags": []
          }
        }
      ]
    },
    {
      "cell_type": "code",
      "metadata": {
        "id": "tHdX8m2vFA6a",
        "colab_type": "code",
        "colab": {}
      },
      "source": [
        "labels = ['0', '1', '2', '3', '4', '5', '6', '7', '8', '9']"
      ],
      "execution_count": 0,
      "outputs": []
    },
    {
      "cell_type": "code",
      "metadata": {
        "id": "7hoE53Z59Fdd",
        "colab_type": "code",
        "outputId": "cbdcf358-027f-4b3a-a1e3-f5a474908a50",
        "colab": {
          "base_uri": "https://localhost:8080/",
          "height": 286
        }
      },
      "source": [
        "# print concrete sample for parameter choosing\n",
        "sns.countplot(y_train_choose)"
      ],
      "execution_count": 15,
      "outputs": [
        {
          "output_type": "execute_result",
          "data": {
            "text/plain": [
              "<matplotlib.axes._subplots.AxesSubplot at 0x7fc25fa1eb70>"
            ]
          },
          "metadata": {
            "tags": []
          },
          "execution_count": 15
        },
        {
          "output_type": "display_data",
          "data": {
            "image/png": "[encoded data removed]",
            "text/plain": [
              "<Figure size 432x288 with 1 Axes>"
            ]
          },
          "metadata": {
            "tags": []
          }
        }
      ]
    },
    {
      "cell_type": "code",
      "metadata": {
        "id": "BxdXp4KOn2QZ",
        "colab_type": "code",
        "colab": {
          "base_uri": "https://localhost:8080/",
          "height": 286
        },
        "outputId": "b62a526b-0b5c-4888-b6f1-42be1f7860a2"
      },
      "source": [
        "# print concrete sample for parameter choosing\n",
        "sns.countplot(y_test_choose)"
      ],
      "execution_count": 16,
      "outputs": [
        {
          "output_type": "execute_result",
          "data": {
            "text/plain": [
              "<matplotlib.axes._subplots.AxesSubplot at 0x7fc25fc1e4e0>"
            ]
          },
          "metadata": {
            "tags": []
          },
          "execution_count": 16
        },
        {
          "output_type": "display_data",
          "data": {
            "image/png": "[encoded data removed]",
            "text/plain": [
              "<Figure size 432x288 with 1 Axes>"
            ]
          },
          "metadata": {
            "tags": []
          }
        }
      ]
    },
    {
      "cell_type": "code",
      "metadata": {
        "id": "bY7YZJ369EX2",
        "colab_type": "code",
        "outputId": "e7267933-4cc6-4020-847b-d263ad63db21",
        "colab": {
          "base_uri": "https://localhost:8080/",
          "height": 346
        }
      },
      "source": [
        "# print basic statistics for any of the 56x56 pixels\n",
        "data = pd.DataFrame(np.array(x_train_choose).reshape(len(x_train_choose), -1))\n",
        "data.describe()"
      ],
      "execution_count": 17,
      "outputs": [
        {
          "output_type": "execute_result",
          "data": {
            "text/html": [
              "<div>\n",
              "<style scoped>\n",
              "    .dataframe tbody tr th:only-of-type {\n",
              "        vertical-align: middle;\n",
              "    }\n",
              "\n",
              "    .dataframe tbody tr th {\n",
              "        vertical-align: top;\n",
              "    }\n",
              "\n",
              "    .dataframe thead th {\n",
              "        text-align: right;\n",
              "    }\n",
              "</style>\n",
              "<table border=\"1\" class=\"dataframe\">\n",
              "  <thead>\n",
              "    <tr style=\"text-align: right;\">\n",
              "      <th></th>\n",
              "      <th>0</th>\n",
              "      <th>1</th>\n",
              "      <th>2</th>\n",
              "      <th>3</th>\n",
              "      <th>4</th>\n",
              "      <th>5</th>\n",
              "      <th>6</th>\n",
              "      <th>7</th>\n",
              "      <th>8</th>\n",
              "      <th>9</th>\n",
              "      <th>10</th>\n",
              "      <th>11</th>\n",
              "      <th>12</th>\n",
              "      <th>13</th>\n",
              "      <th>14</th>\n",
              "      <th>15</th>\n",
              "      <th>16</th>\n",
              "      <th>17</th>\n",
              "      <th>18</th>\n",
              "      <th>19</th>\n",
              "      <th>20</th>\n",
              "      <th>21</th>\n",
              "      <th>22</th>\n",
              "      <th>23</th>\n",
              "      <th>24</th>\n",
              "      <th>25</th>\n",
              "      <th>26</th>\n",
              "      <th>27</th>\n",
              "      <th>28</th>\n",
              "      <th>29</th>\n",
              "      <th>30</th>\n",
              "      <th>31</th>\n",
              "      <th>32</th>\n",
              "      <th>33</th>\n",
              "      <th>34</th>\n",
              "      <th>35</th>\n",
              "      <th>36</th>\n",
              "      <th>37</th>\n",
              "      <th>38</th>\n",
              "      <th>39</th>\n",
              "      <th>...</th>\n",
              "      <th>3096</th>\n",
              "      <th>3097</th>\n",
              "      <th>3098</th>\n",
              "      <th>3099</th>\n",
              "      <th>3100</th>\n",
              "      <th>3101</th>\n",
              "      <th>3102</th>\n",
              "      <th>3103</th>\n",
              "      <th>3104</th>\n",
              "      <th>3105</th>\n",
              "      <th>3106</th>\n",
              "      <th>3107</th>\n",
              "      <th>3108</th>\n",
              "      <th>3109</th>\n",
              "      <th>3110</th>\n",
              "      <th>3111</th>\n",
              "      <th>3112</th>\n",
              "      <th>3113</th>\n",
              "      <th>3114</th>\n",
              "      <th>3115</th>\n",
              "      <th>3116</th>\n",
              "      <th>3117</th>\n",
              "      <th>3118</th>\n",
              "      <th>3119</th>\n",
              "      <th>3120</th>\n",
              "      <th>3121</th>\n",
              "      <th>3122</th>\n",
              "      <th>3123</th>\n",
              "      <th>3124</th>\n",
              "      <th>3125</th>\n",
              "      <th>3126</th>\n",
              "      <th>3127</th>\n",
              "      <th>3128</th>\n",
              "      <th>3129</th>\n",
              "      <th>3130</th>\n",
              "      <th>3131</th>\n",
              "      <th>3132</th>\n",
              "      <th>3133</th>\n",
              "      <th>3134</th>\n",
              "      <th>3135</th>\n",
              "    </tr>\n",
              "  </thead>\n",
              "  <tbody>\n",
              "    <tr>\n",
              "      <th>count</th>\n",
              "      <td>1000.000000</td>\n",
              "      <td>1000.000000</td>\n",
              "      <td>1000.000000</td>\n",
              "      <td>1000.000000</td>\n",
              "      <td>1000.000000</td>\n",
              "      <td>1000.000000</td>\n",
              "      <td>1000.000000</td>\n",
              "      <td>1000.000000</td>\n",
              "      <td>1000.000000</td>\n",
              "      <td>1000.000000</td>\n",
              "      <td>1000.000000</td>\n",
              "      <td>1000.000000</td>\n",
              "      <td>1000.000000</td>\n",
              "      <td>1000.000000</td>\n",
              "      <td>1000.000000</td>\n",
              "      <td>1000.000000</td>\n",
              "      <td>1000.000000</td>\n",
              "      <td>1000.000000</td>\n",
              "      <td>1000.000000</td>\n",
              "      <td>1000.000000</td>\n",
              "      <td>1000.000000</td>\n",
              "      <td>1000.000000</td>\n",
              "      <td>1000.000000</td>\n",
              "      <td>1000.000000</td>\n",
              "      <td>1000.000000</td>\n",
              "      <td>1000.000000</td>\n",
              "      <td>1000.000000</td>\n",
              "      <td>1000.000000</td>\n",
              "      <td>1000.000000</td>\n",
              "      <td>1000.000000</td>\n",
              "      <td>1000.000000</td>\n",
              "      <td>1000.000000</td>\n",
              "      <td>1000.000000</td>\n",
              "      <td>1000.000000</td>\n",
              "      <td>1000.000000</td>\n",
              "      <td>1000.000000</td>\n",
              "      <td>1000.000000</td>\n",
              "      <td>1000.000000</td>\n",
              "      <td>1000.000000</td>\n",
              "      <td>1000.000000</td>\n",
              "      <td>...</td>\n",
              "      <td>1000.000000</td>\n",
              "      <td>1000.000000</td>\n",
              "      <td>1000.000000</td>\n",
              "      <td>1000.000000</td>\n",
              "      <td>1000.000000</td>\n",
              "      <td>1000.000000</td>\n",
              "      <td>1000.000000</td>\n",
              "      <td>1000.000000</td>\n",
              "      <td>1000.000000</td>\n",
              "      <td>1000.000000</td>\n",
              "      <td>1000.000000</td>\n",
              "      <td>1000.000000</td>\n",
              "      <td>1000.000000</td>\n",
              "      <td>1000.000000</td>\n",
              "      <td>1000.000000</td>\n",
              "      <td>1000.000000</td>\n",
              "      <td>1000.000000</td>\n",
              "      <td>1000.000000</td>\n",
              "      <td>1000.000000</td>\n",
              "      <td>1000.000000</td>\n",
              "      <td>1000.000000</td>\n",
              "      <td>1000.000000</td>\n",
              "      <td>1000.000000</td>\n",
              "      <td>1000.000000</td>\n",
              "      <td>1000.000000</td>\n",
              "      <td>1000.000000</td>\n",
              "      <td>1000.000000</td>\n",
              "      <td>1000.000000</td>\n",
              "      <td>1000.000000</td>\n",
              "      <td>1000.000000</td>\n",
              "      <td>1000.000000</td>\n",
              "      <td>1000.000000</td>\n",
              "      <td>1000.000000</td>\n",
              "      <td>1000.000000</td>\n",
              "      <td>1000.000000</td>\n",
              "      <td>1000.000000</td>\n",
              "      <td>1000.000000</td>\n",
              "      <td>1000.000000</td>\n",
              "      <td>1000.000000</td>\n",
              "      <td>1000.000000</td>\n",
              "    </tr>\n",
              "    <tr>\n",
              "      <th>mean</th>\n",
              "      <td>0.999075</td>\n",
              "      <td>0.998851</td>\n",
              "      <td>0.998071</td>\n",
              "      <td>0.997557</td>\n",
              "      <td>0.996404</td>\n",
              "      <td>0.995376</td>\n",
              "      <td>0.994039</td>\n",
              "      <td>0.992800</td>\n",
              "      <td>0.990804</td>\n",
              "      <td>0.989459</td>\n",
              "      <td>0.987471</td>\n",
              "      <td>0.985106</td>\n",
              "      <td>0.982576</td>\n",
              "      <td>0.980106</td>\n",
              "      <td>0.977373</td>\n",
              "      <td>0.974404</td>\n",
              "      <td>0.971051</td>\n",
              "      <td>0.967243</td>\n",
              "      <td>0.962855</td>\n",
              "      <td>0.958408</td>\n",
              "      <td>0.953337</td>\n",
              "      <td>0.948341</td>\n",
              "      <td>0.943231</td>\n",
              "      <td>0.938357</td>\n",
              "      <td>0.933118</td>\n",
              "      <td>0.927859</td>\n",
              "      <td>0.922788</td>\n",
              "      <td>0.917792</td>\n",
              "      <td>0.912420</td>\n",
              "      <td>0.908051</td>\n",
              "      <td>0.904165</td>\n",
              "      <td>0.901494</td>\n",
              "      <td>0.899486</td>\n",
              "      <td>0.898349</td>\n",
              "      <td>0.897914</td>\n",
              "      <td>0.898694</td>\n",
              "      <td>0.899604</td>\n",
              "      <td>0.901604</td>\n",
              "      <td>0.904337</td>\n",
              "      <td>0.908780</td>\n",
              "      <td>...</td>\n",
              "      <td>0.819043</td>\n",
              "      <td>0.806804</td>\n",
              "      <td>0.796008</td>\n",
              "      <td>0.787376</td>\n",
              "      <td>0.780639</td>\n",
              "      <td>0.776310</td>\n",
              "      <td>0.774667</td>\n",
              "      <td>0.775663</td>\n",
              "      <td>0.779212</td>\n",
              "      <td>0.784984</td>\n",
              "      <td>0.793173</td>\n",
              "      <td>0.803078</td>\n",
              "      <td>0.815976</td>\n",
              "      <td>0.828600</td>\n",
              "      <td>0.842882</td>\n",
              "      <td>0.857922</td>\n",
              "      <td>0.873102</td>\n",
              "      <td>0.887345</td>\n",
              "      <td>0.901141</td>\n",
              "      <td>0.914529</td>\n",
              "      <td>0.925843</td>\n",
              "      <td>0.936027</td>\n",
              "      <td>0.944561</td>\n",
              "      <td>0.952388</td>\n",
              "      <td>0.959243</td>\n",
              "      <td>0.965788</td>\n",
              "      <td>0.970839</td>\n",
              "      <td>0.975275</td>\n",
              "      <td>0.978992</td>\n",
              "      <td>0.982208</td>\n",
              "      <td>0.984325</td>\n",
              "      <td>0.987451</td>\n",
              "      <td>0.989549</td>\n",
              "      <td>0.991510</td>\n",
              "      <td>0.992467</td>\n",
              "      <td>0.994376</td>\n",
              "      <td>0.995969</td>\n",
              "      <td>0.996706</td>\n",
              "      <td>0.997525</td>\n",
              "      <td>0.999071</td>\n",
              "    </tr>\n",
              "    <tr>\n",
              "      <th>std</th>\n",
              "      <td>0.005645</td>\n",
              "      <td>0.007142</td>\n",
              "      <td>0.009929</td>\n",
              "      <td>0.013426</td>\n",
              "      <td>0.017884</td>\n",
              "      <td>0.022137</td>\n",
              "      <td>0.027082</td>\n",
              "      <td>0.031174</td>\n",
              "      <td>0.035427</td>\n",
              "      <td>0.039547</td>\n",
              "      <td>0.043424</td>\n",
              "      <td>0.047260</td>\n",
              "      <td>0.050655</td>\n",
              "      <td>0.054020</td>\n",
              "      <td>0.057581</td>\n",
              "      <td>0.060948</td>\n",
              "      <td>0.064407</td>\n",
              "      <td>0.068423</td>\n",
              "      <td>0.072644</td>\n",
              "      <td>0.077152</td>\n",
              "      <td>0.080729</td>\n",
              "      <td>0.084001</td>\n",
              "      <td>0.086708</td>\n",
              "      <td>0.089388</td>\n",
              "      <td>0.092370</td>\n",
              "      <td>0.095064</td>\n",
              "      <td>0.097742</td>\n",
              "      <td>0.100684</td>\n",
              "      <td>0.103399</td>\n",
              "      <td>0.105748</td>\n",
              "      <td>0.107362</td>\n",
              "      <td>0.108397</td>\n",
              "      <td>0.108794</td>\n",
              "      <td>0.109296</td>\n",
              "      <td>0.109255</td>\n",
              "      <td>0.109105</td>\n",
              "      <td>0.108355</td>\n",
              "      <td>0.107549</td>\n",
              "      <td>0.106448</td>\n",
              "      <td>0.104251</td>\n",
              "      <td>...</td>\n",
              "      <td>0.214731</td>\n",
              "      <td>0.218071</td>\n",
              "      <td>0.219702</td>\n",
              "      <td>0.221237</td>\n",
              "      <td>0.221859</td>\n",
              "      <td>0.222425</td>\n",
              "      <td>0.221917</td>\n",
              "      <td>0.221162</td>\n",
              "      <td>0.220544</td>\n",
              "      <td>0.219422</td>\n",
              "      <td>0.217714</td>\n",
              "      <td>0.215210</td>\n",
              "      <td>0.210564</td>\n",
              "      <td>0.205428</td>\n",
              "      <td>0.197324</td>\n",
              "      <td>0.187384</td>\n",
              "      <td>0.175413</td>\n",
              "      <td>0.164333</td>\n",
              "      <td>0.154184</td>\n",
              "      <td>0.145025</td>\n",
              "      <td>0.137072</td>\n",
              "      <td>0.129163</td>\n",
              "      <td>0.121254</td>\n",
              "      <td>0.112373</td>\n",
              "      <td>0.103098</td>\n",
              "      <td>0.094327</td>\n",
              "      <td>0.086251</td>\n",
              "      <td>0.081254</td>\n",
              "      <td>0.076113</td>\n",
              "      <td>0.071155</td>\n",
              "      <td>0.066124</td>\n",
              "      <td>0.058698</td>\n",
              "      <td>0.053048</td>\n",
              "      <td>0.047251</td>\n",
              "      <td>0.040708</td>\n",
              "      <td>0.034531</td>\n",
              "      <td>0.027577</td>\n",
              "      <td>0.019798</td>\n",
              "      <td>0.014666</td>\n",
              "      <td>0.010362</td>\n",
              "    </tr>\n",
              "    <tr>\n",
              "      <th>min</th>\n",
              "      <td>0.894118</td>\n",
              "      <td>0.894118</td>\n",
              "      <td>0.862745</td>\n",
              "      <td>0.819608</td>\n",
              "      <td>0.772549</td>\n",
              "      <td>0.733333</td>\n",
              "      <td>0.705882</td>\n",
              "      <td>0.701961</td>\n",
              "      <td>0.686275</td>\n",
              "      <td>0.678431</td>\n",
              "      <td>0.674510</td>\n",
              "      <td>0.670588</td>\n",
              "      <td>0.670588</td>\n",
              "      <td>0.670588</td>\n",
              "      <td>0.670588</td>\n",
              "      <td>0.670588</td>\n",
              "      <td>0.670588</td>\n",
              "      <td>0.670588</td>\n",
              "      <td>0.674510</td>\n",
              "      <td>0.670588</td>\n",
              "      <td>0.650980</td>\n",
              "      <td>0.647059</td>\n",
              "      <td>0.643137</td>\n",
              "      <td>0.643137</td>\n",
              "      <td>0.647059</td>\n",
              "      <td>0.650980</td>\n",
              "      <td>0.662745</td>\n",
              "      <td>0.662745</td>\n",
              "      <td>0.654902</td>\n",
              "      <td>0.650980</td>\n",
              "      <td>0.650980</td>\n",
              "      <td>0.647059</td>\n",
              "      <td>0.643137</td>\n",
              "      <td>0.658824</td>\n",
              "      <td>0.654902</td>\n",
              "      <td>0.647059</td>\n",
              "      <td>0.643137</td>\n",
              "      <td>0.650980</td>\n",
              "      <td>0.662745</td>\n",
              "      <td>0.662745</td>\n",
              "      <td>...</td>\n",
              "      <td>0.352941</td>\n",
              "      <td>0.352941</td>\n",
              "      <td>0.352941</td>\n",
              "      <td>0.352941</td>\n",
              "      <td>0.352941</td>\n",
              "      <td>0.352941</td>\n",
              "      <td>0.352941</td>\n",
              "      <td>0.352941</td>\n",
              "      <td>0.352941</td>\n",
              "      <td>0.356863</td>\n",
              "      <td>0.356863</td>\n",
              "      <td>0.352941</td>\n",
              "      <td>0.352941</td>\n",
              "      <td>0.352941</td>\n",
              "      <td>0.360784</td>\n",
              "      <td>0.356863</td>\n",
              "      <td>0.360784</td>\n",
              "      <td>0.376471</td>\n",
              "      <td>0.376471</td>\n",
              "      <td>0.372549</td>\n",
              "      <td>0.380392</td>\n",
              "      <td>0.380392</td>\n",
              "      <td>0.384314</td>\n",
              "      <td>0.388235</td>\n",
              "      <td>0.407843</td>\n",
              "      <td>0.407843</td>\n",
              "      <td>0.392157</td>\n",
              "      <td>0.376471</td>\n",
              "      <td>0.388235</td>\n",
              "      <td>0.403922</td>\n",
              "      <td>0.431373</td>\n",
              "      <td>0.431373</td>\n",
              "      <td>0.443137</td>\n",
              "      <td>0.482353</td>\n",
              "      <td>0.498039</td>\n",
              "      <td>0.521569</td>\n",
              "      <td>0.560784</td>\n",
              "      <td>0.631373</td>\n",
              "      <td>0.666667</td>\n",
              "      <td>0.698039</td>\n",
              "    </tr>\n",
              "    <tr>\n",
              "      <th>25%</th>\n",
              "      <td>1.000000</td>\n",
              "      <td>1.000000</td>\n",
              "      <td>1.000000</td>\n",
              "      <td>1.000000</td>\n",
              "      <td>0.996078</td>\n",
              "      <td>0.996078</td>\n",
              "      <td>0.996078</td>\n",
              "      <td>0.996078</td>\n",
              "      <td>0.996078</td>\n",
              "      <td>0.996078</td>\n",
              "      <td>0.996078</td>\n",
              "      <td>0.996078</td>\n",
              "      <td>0.996078</td>\n",
              "      <td>0.996078</td>\n",
              "      <td>0.996078</td>\n",
              "      <td>0.992157</td>\n",
              "      <td>0.988235</td>\n",
              "      <td>0.984314</td>\n",
              "      <td>0.976471</td>\n",
              "      <td>0.964706</td>\n",
              "      <td>0.949020</td>\n",
              "      <td>0.933333</td>\n",
              "      <td>0.917647</td>\n",
              "      <td>0.898039</td>\n",
              "      <td>0.885294</td>\n",
              "      <td>0.874510</td>\n",
              "      <td>0.858824</td>\n",
              "      <td>0.853922</td>\n",
              "      <td>0.843137</td>\n",
              "      <td>0.831373</td>\n",
              "      <td>0.823529</td>\n",
              "      <td>0.819608</td>\n",
              "      <td>0.815686</td>\n",
              "      <td>0.823529</td>\n",
              "      <td>0.815686</td>\n",
              "      <td>0.811765</td>\n",
              "      <td>0.814706</td>\n",
              "      <td>0.811765</td>\n",
              "      <td>0.815686</td>\n",
              "      <td>0.823529</td>\n",
              "      <td>...</td>\n",
              "      <td>0.627451</td>\n",
              "      <td>0.606863</td>\n",
              "      <td>0.600000</td>\n",
              "      <td>0.583333</td>\n",
              "      <td>0.576471</td>\n",
              "      <td>0.568627</td>\n",
              "      <td>0.572549</td>\n",
              "      <td>0.576471</td>\n",
              "      <td>0.588235</td>\n",
              "      <td>0.599020</td>\n",
              "      <td>0.607843</td>\n",
              "      <td>0.618627</td>\n",
              "      <td>0.643137</td>\n",
              "      <td>0.674510</td>\n",
              "      <td>0.705882</td>\n",
              "      <td>0.737255</td>\n",
              "      <td>0.776471</td>\n",
              "      <td>0.803922</td>\n",
              "      <td>0.850980</td>\n",
              "      <td>0.890196</td>\n",
              "      <td>0.925490</td>\n",
              "      <td>0.952941</td>\n",
              "      <td>0.972549</td>\n",
              "      <td>0.984314</td>\n",
              "      <td>0.988235</td>\n",
              "      <td>0.996078</td>\n",
              "      <td>0.996078</td>\n",
              "      <td>0.996078</td>\n",
              "      <td>0.996078</td>\n",
              "      <td>0.996078</td>\n",
              "      <td>0.996078</td>\n",
              "      <td>0.996078</td>\n",
              "      <td>0.996078</td>\n",
              "      <td>0.996078</td>\n",
              "      <td>0.996078</td>\n",
              "      <td>0.996078</td>\n",
              "      <td>0.996078</td>\n",
              "      <td>0.996078</td>\n",
              "      <td>0.996078</td>\n",
              "      <td>1.000000</td>\n",
              "    </tr>\n",
              "    <tr>\n",
              "      <th>50%</th>\n",
              "      <td>1.000000</td>\n",
              "      <td>1.000000</td>\n",
              "      <td>1.000000</td>\n",
              "      <td>1.000000</td>\n",
              "      <td>1.000000</td>\n",
              "      <td>1.000000</td>\n",
              "      <td>1.000000</td>\n",
              "      <td>1.000000</td>\n",
              "      <td>0.996078</td>\n",
              "      <td>1.000000</td>\n",
              "      <td>1.000000</td>\n",
              "      <td>0.996078</td>\n",
              "      <td>0.996078</td>\n",
              "      <td>0.996078</td>\n",
              "      <td>0.996078</td>\n",
              "      <td>0.996078</td>\n",
              "      <td>0.996078</td>\n",
              "      <td>0.996078</td>\n",
              "      <td>0.996078</td>\n",
              "      <td>0.996078</td>\n",
              "      <td>0.996078</td>\n",
              "      <td>0.996078</td>\n",
              "      <td>0.996078</td>\n",
              "      <td>0.992157</td>\n",
              "      <td>0.988235</td>\n",
              "      <td>0.984314</td>\n",
              "      <td>0.980392</td>\n",
              "      <td>0.976471</td>\n",
              "      <td>0.972549</td>\n",
              "      <td>0.962745</td>\n",
              "      <td>0.956863</td>\n",
              "      <td>0.949020</td>\n",
              "      <td>0.945098</td>\n",
              "      <td>0.945098</td>\n",
              "      <td>0.943137</td>\n",
              "      <td>0.945098</td>\n",
              "      <td>0.949020</td>\n",
              "      <td>0.949020</td>\n",
              "      <td>0.958824</td>\n",
              "      <td>0.964706</td>\n",
              "      <td>...</td>\n",
              "      <td>0.954902</td>\n",
              "      <td>0.929412</td>\n",
              "      <td>0.898039</td>\n",
              "      <td>0.870588</td>\n",
              "      <td>0.852941</td>\n",
              "      <td>0.850980</td>\n",
              "      <td>0.833333</td>\n",
              "      <td>0.829412</td>\n",
              "      <td>0.843137</td>\n",
              "      <td>0.866667</td>\n",
              "      <td>0.884314</td>\n",
              "      <td>0.903922</td>\n",
              "      <td>0.925490</td>\n",
              "      <td>0.941176</td>\n",
              "      <td>0.956863</td>\n",
              "      <td>0.968627</td>\n",
              "      <td>0.980392</td>\n",
              "      <td>0.988235</td>\n",
              "      <td>0.994118</td>\n",
              "      <td>0.996078</td>\n",
              "      <td>0.996078</td>\n",
              "      <td>0.996078</td>\n",
              "      <td>0.996078</td>\n",
              "      <td>0.996078</td>\n",
              "      <td>0.996078</td>\n",
              "      <td>0.996078</td>\n",
              "      <td>0.996078</td>\n",
              "      <td>0.996078</td>\n",
              "      <td>0.996078</td>\n",
              "      <td>1.000000</td>\n",
              "      <td>0.996078</td>\n",
              "      <td>1.000000</td>\n",
              "      <td>1.000000</td>\n",
              "      <td>1.000000</td>\n",
              "      <td>1.000000</td>\n",
              "      <td>1.000000</td>\n",
              "      <td>1.000000</td>\n",
              "      <td>1.000000</td>\n",
              "      <td>1.000000</td>\n",
              "      <td>1.000000</td>\n",
              "    </tr>\n",
              "    <tr>\n",
              "      <th>75%</th>\n",
              "      <td>1.000000</td>\n",
              "      <td>1.000000</td>\n",
              "      <td>1.000000</td>\n",
              "      <td>1.000000</td>\n",
              "      <td>1.000000</td>\n",
              "      <td>1.000000</td>\n",
              "      <td>1.000000</td>\n",
              "      <td>1.000000</td>\n",
              "      <td>1.000000</td>\n",
              "      <td>1.000000</td>\n",
              "      <td>1.000000</td>\n",
              "      <td>1.000000</td>\n",
              "      <td>1.000000</td>\n",
              "      <td>1.000000</td>\n",
              "      <td>1.000000</td>\n",
              "      <td>1.000000</td>\n",
              "      <td>1.000000</td>\n",
              "      <td>1.000000</td>\n",
              "      <td>0.996078</td>\n",
              "      <td>1.000000</td>\n",
              "      <td>0.996078</td>\n",
              "      <td>0.996078</td>\n",
              "      <td>0.996078</td>\n",
              "      <td>0.996078</td>\n",
              "      <td>0.996078</td>\n",
              "      <td>0.996078</td>\n",
              "      <td>0.996078</td>\n",
              "      <td>0.996078</td>\n",
              "      <td>0.996078</td>\n",
              "      <td>0.996078</td>\n",
              "      <td>0.996078</td>\n",
              "      <td>0.996078</td>\n",
              "      <td>0.996078</td>\n",
              "      <td>0.996078</td>\n",
              "      <td>0.996078</td>\n",
              "      <td>0.996078</td>\n",
              "      <td>0.996078</td>\n",
              "      <td>0.996078</td>\n",
              "      <td>0.996078</td>\n",
              "      <td>0.996078</td>\n",
              "      <td>...</td>\n",
              "      <td>0.996078</td>\n",
              "      <td>0.996078</td>\n",
              "      <td>0.996078</td>\n",
              "      <td>0.996078</td>\n",
              "      <td>0.996078</td>\n",
              "      <td>0.996078</td>\n",
              "      <td>0.996078</td>\n",
              "      <td>0.996078</td>\n",
              "      <td>0.996078</td>\n",
              "      <td>0.996078</td>\n",
              "      <td>0.996078</td>\n",
              "      <td>0.996078</td>\n",
              "      <td>0.996078</td>\n",
              "      <td>0.996078</td>\n",
              "      <td>0.996078</td>\n",
              "      <td>0.996078</td>\n",
              "      <td>0.996078</td>\n",
              "      <td>0.996078</td>\n",
              "      <td>0.996078</td>\n",
              "      <td>1.000000</td>\n",
              "      <td>0.996078</td>\n",
              "      <td>1.000000</td>\n",
              "      <td>1.000000</td>\n",
              "      <td>1.000000</td>\n",
              "      <td>1.000000</td>\n",
              "      <td>1.000000</td>\n",
              "      <td>1.000000</td>\n",
              "      <td>1.000000</td>\n",
              "      <td>1.000000</td>\n",
              "      <td>1.000000</td>\n",
              "      <td>1.000000</td>\n",
              "      <td>1.000000</td>\n",
              "      <td>1.000000</td>\n",
              "      <td>1.000000</td>\n",
              "      <td>1.000000</td>\n",
              "      <td>1.000000</td>\n",
              "      <td>1.000000</td>\n",
              "      <td>1.000000</td>\n",
              "      <td>1.000000</td>\n",
              "      <td>1.000000</td>\n",
              "    </tr>\n",
              "    <tr>\n",
              "      <th>max</th>\n",
              "      <td>1.000000</td>\n",
              "      <td>1.000000</td>\n",
              "      <td>1.000000</td>\n",
              "      <td>1.000000</td>\n",
              "      <td>1.000000</td>\n",
              "      <td>1.000000</td>\n",
              "      <td>1.000000</td>\n",
              "      <td>1.000000</td>\n",
              "      <td>1.000000</td>\n",
              "      <td>1.000000</td>\n",
              "      <td>1.000000</td>\n",
              "      <td>1.000000</td>\n",
              "      <td>1.000000</td>\n",
              "      <td>1.000000</td>\n",
              "      <td>1.000000</td>\n",
              "      <td>1.000000</td>\n",
              "      <td>1.000000</td>\n",
              "      <td>1.000000</td>\n",
              "      <td>1.000000</td>\n",
              "      <td>1.000000</td>\n",
              "      <td>1.000000</td>\n",
              "      <td>1.000000</td>\n",
              "      <td>1.000000</td>\n",
              "      <td>1.000000</td>\n",
              "      <td>1.000000</td>\n",
              "      <td>1.000000</td>\n",
              "      <td>1.000000</td>\n",
              "      <td>1.000000</td>\n",
              "      <td>1.000000</td>\n",
              "      <td>1.000000</td>\n",
              "      <td>1.000000</td>\n",
              "      <td>1.000000</td>\n",
              "      <td>1.000000</td>\n",
              "      <td>1.000000</td>\n",
              "      <td>1.000000</td>\n",
              "      <td>1.000000</td>\n",
              "      <td>1.000000</td>\n",
              "      <td>1.000000</td>\n",
              "      <td>1.000000</td>\n",
              "      <td>1.000000</td>\n",
              "      <td>...</td>\n",
              "      <td>1.000000</td>\n",
              "      <td>1.000000</td>\n",
              "      <td>1.000000</td>\n",
              "      <td>1.000000</td>\n",
              "      <td>1.000000</td>\n",
              "      <td>1.000000</td>\n",
              "      <td>1.000000</td>\n",
              "      <td>1.000000</td>\n",
              "      <td>1.000000</td>\n",
              "      <td>1.000000</td>\n",
              "      <td>1.000000</td>\n",
              "      <td>1.000000</td>\n",
              "      <td>1.000000</td>\n",
              "      <td>1.000000</td>\n",
              "      <td>1.000000</td>\n",
              "      <td>1.000000</td>\n",
              "      <td>1.000000</td>\n",
              "      <td>1.000000</td>\n",
              "      <td>1.000000</td>\n",
              "      <td>1.000000</td>\n",
              "      <td>1.000000</td>\n",
              "      <td>1.000000</td>\n",
              "      <td>1.000000</td>\n",
              "      <td>1.000000</td>\n",
              "      <td>1.000000</td>\n",
              "      <td>1.000000</td>\n",
              "      <td>1.000000</td>\n",
              "      <td>1.000000</td>\n",
              "      <td>1.000000</td>\n",
              "      <td>1.000000</td>\n",
              "      <td>1.000000</td>\n",
              "      <td>1.000000</td>\n",
              "      <td>1.000000</td>\n",
              "      <td>1.000000</td>\n",
              "      <td>1.000000</td>\n",
              "      <td>1.000000</td>\n",
              "      <td>1.000000</td>\n",
              "      <td>1.000000</td>\n",
              "      <td>1.000000</td>\n",
              "      <td>1.000000</td>\n",
              "    </tr>\n",
              "  </tbody>\n",
              "</table>\n",
              "<p>8 rows × 3136 columns</p>\n",
              "</div>"
            ],
            "text/plain": [
              "              0            1     ...         3134         3135\n",
              "count  1000.000000  1000.000000  ...  1000.000000  1000.000000\n",
              "mean      0.999075     0.998851  ...     0.997525     0.999071\n",
              "std       0.005645     0.007142  ...     0.014666     0.010362\n",
              "min       0.894118     0.894118  ...     0.666667     0.698039\n",
              "25%       1.000000     1.000000  ...     0.996078     1.000000\n",
              "50%       1.000000     1.000000  ...     1.000000     1.000000\n",
              "75%       1.000000     1.000000  ...     1.000000     1.000000\n",
              "max       1.000000     1.000000  ...     1.000000     1.000000\n",
              "\n",
              "[8 rows x 3136 columns]"
            ]
          },
          "metadata": {
            "tags": []
          },
          "execution_count": 17
        }
      ]
    },
    {
      "cell_type": "markdown",
      "metadata": {
        "id": "E3DgR_Fr1E4d",
        "colab_type": "text"
      },
      "source": [
        "# KNearest Neighbours"
      ]
    },
    {
      "cell_type": "markdown",
      "metadata": {
        "id": "VRi4nYT74lAf",
        "colab_type": "text"
      },
      "source": [
        "## Choose parameters"
      ]
    },
    {
      "cell_type": "code",
      "metadata": {
        "id": "tiOKtoIW3UG_",
        "colab_type": "code",
        "outputId": "6e5dbe66-fc91-4aa4-9290-3c89dc8994fa",
        "colab": {
          "base_uri": "https://localhost:8080/",
          "height": 799
        }
      },
      "source": [
        "%%time\n",
        "\n",
        "ks = [1,2,3,4,5,6,7,8,9,10,30]  # choose appropriate k\n",
        "ps = [1, 2]\n",
        "ws = ['uniform', 'distance']\n",
        "\n",
        "max_params = {'k':0, 'p':0, 'w':0}\n",
        "max_score = 0\n",
        "for k in ks:\n",
        "  for p in ps:\n",
        "    for w in ws:\n",
        "      knn = KNeighborsClassifier(n_neighbors=k, p=p, weights=w)  # approx ~ 1nn\n",
        "      knn.fit(x_train_choose, y_train_choose)\n",
        "  \n",
        "      score = accuracy_score(y_test_choose, knn.predict(x_test_choose))  # check acc score\n",
        "      print(f\"knn(k={k}, p={p}, weights={w}) : {score}\")\n",
        "      if score>max_score:  # Okamov zilet\n",
        "        max_params['k'] = k\n",
        "        max_params['p'] = p\n",
        "        max_params['w'] = w\n",
        "        max_score = score\n",
        "      del knn"
      ],
      "execution_count": 0,
      "outputs": [
        {
          "output_type": "stream",
          "text": [
            "knn(k=1, p=1, weights=uniform) : 0.886\n",
            "knn(k=1, p=1, weights=distance) : 0.886\n",
            "knn(k=1, p=2, weights=uniform) : 0.904\n",
            "knn(k=1, p=2, weights=distance) : 0.904\n",
            "knn(k=2, p=1, weights=uniform) : 0.853\n",
            "knn(k=2, p=1, weights=distance) : 0.886\n",
            "knn(k=2, p=2, weights=uniform) : 0.87\n",
            "knn(k=2, p=2, weights=distance) : 0.904\n",
            "knn(k=3, p=1, weights=uniform) : 0.874\n",
            "knn(k=3, p=1, weights=distance) : 0.886\n",
            "knn(k=3, p=2, weights=uniform) : 0.897\n",
            "knn(k=3, p=2, weights=distance) : 0.904\n",
            "knn(k=4, p=1, weights=uniform) : 0.866\n",
            "knn(k=4, p=1, weights=distance) : 0.889\n",
            "knn(k=4, p=2, weights=uniform) : 0.891\n",
            "knn(k=4, p=2, weights=distance) : 0.904\n",
            "knn(k=5, p=1, weights=uniform) : 0.873\n",
            "knn(k=5, p=1, weights=distance) : 0.89\n",
            "knn(k=5, p=2, weights=uniform) : 0.893\n",
            "knn(k=5, p=2, weights=distance) : 0.898\n",
            "knn(k=6, p=1, weights=uniform) : 0.872\n",
            "knn(k=6, p=1, weights=distance) : 0.883\n",
            "knn(k=6, p=2, weights=uniform) : 0.887\n",
            "knn(k=6, p=2, weights=distance) : 0.898\n",
            "knn(k=7, p=1, weights=uniform) : 0.873\n",
            "knn(k=7, p=1, weights=distance) : 0.882\n",
            "knn(k=7, p=2, weights=uniform) : 0.883\n",
            "knn(k=7, p=2, weights=distance) : 0.891\n",
            "knn(k=8, p=1, weights=uniform) : 0.873\n",
            "knn(k=8, p=1, weights=distance) : 0.885\n",
            "knn(k=8, p=2, weights=uniform) : 0.884\n",
            "knn(k=8, p=2, weights=distance) : 0.893\n",
            "knn(k=9, p=1, weights=uniform) : 0.87\n",
            "knn(k=9, p=1, weights=distance) : 0.881\n",
            "knn(k=9, p=2, weights=uniform) : 0.886\n",
            "knn(k=9, p=2, weights=distance) : 0.892\n",
            "knn(k=10, p=1, weights=uniform) : 0.867\n",
            "knn(k=10, p=1, weights=distance) : 0.876\n",
            "knn(k=10, p=2, weights=uniform) : 0.883\n",
            "knn(k=10, p=2, weights=distance) : 0.894\n",
            "knn(k=30, p=1, weights=uniform) : 0.796\n",
            "knn(k=30, p=1, weights=distance) : 0.81\n",
            "knn(k=30, p=2, weights=uniform) : 0.822\n",
            "knn(k=30, p=2, weights=distance) : 0.837\n",
            "CPU times: user 5min 6s, sys: 111 ms, total: 5min 6s\n",
            "Wall time: 5min 7s\n"
          ],
          "name": "stdout"
        }
      ]
    },
    {
      "cell_type": "code",
      "metadata": {
        "id": "M9WrmEUC6VdC",
        "colab_type": "code",
        "outputId": "29f42b4a-7be1-46c6-98f6-bfebdca27524",
        "colab": {
          "base_uri": "https://localhost:8080/",
          "height": 51
        }
      },
      "source": [
        "print(max_params)\n",
        "print(max_score)"
      ],
      "execution_count": 0,
      "outputs": [
        {
          "output_type": "stream",
          "text": [
            "{'k': 1, 'p': 2, 'w': 'uniform'}\n",
            "0.904\n"
          ],
          "name": "stdout"
        }
      ]
    },
    {
      "cell_type": "markdown",
      "metadata": {
        "id": "iT34BibX6kO6",
        "colab_type": "text"
      },
      "source": [
        "## Evaluate on best params"
      ]
    },
    {
      "cell_type": "code",
      "metadata": {
        "id": "vbBEVhf87Q2U",
        "colab_type": "code",
        "colab": {}
      },
      "source": [
        "k = max_params['k']\n",
        "p = max_params['p']\n",
        "w = max_params['w']"
      ],
      "execution_count": 0,
      "outputs": []
    },
    {
      "cell_type": "code",
      "metadata": {
        "id": "F3mFWwgT1Y2m",
        "colab_type": "code",
        "outputId": "029b283f-ad74-4bf6-f7b6-e9a801ac9399",
        "colab": {
          "base_uri": "https://localhost:8080/",
          "height": 51
        }
      },
      "source": [
        "%%time\n",
        "\n",
        "knn = KNeighborsClassifier(n_neighbors=k, p=p, weights=w)  # approx ~ 1nn\n",
        "knn.fit(x_train_full, y_train_full)  "
      ],
      "execution_count": 0,
      "outputs": [
        {
          "output_type": "stream",
          "text": [
            "CPU times: user 58.6 s, sys: 123 ms, total: 58.8 s\n",
            "Wall time: 58.6 s\n"
          ],
          "name": "stdout"
        }
      ]
    },
    {
      "cell_type": "code",
      "metadata": {
        "id": "D1iCT3Px4anO",
        "colab_type": "code",
        "outputId": "8a69a8ca-ea01-4b2c-b53b-e6c3bc95b94d",
        "colab": {
          "base_uri": "https://localhost:8080/",
          "height": 34
        }
      },
      "source": [
        "%%time\n",
        "\n",
        "Mconfusion = np.zeros((10, 10))  # [true, predicted]\n",
        "y_predicted = []\n",
        "\n",
        "for i in tqdm(range(len(y_test_full))):\n",
        "  prediction = knn.predict([x_test_full[i]])[0]\n",
        "  y_predicted.append(prediction)\n",
        "  Mconfusion[y_test_full[i], prediction] += 1"
      ],
      "execution_count": 0,
      "outputs": [
        {
          "output_type": "stream",
          "text": [
            " 21%|██        | 4206/20000 [41:45<3:00:28,  1.46it/s]"
          ],
          "name": "stderr"
        }
      ]
    },
    {
      "cell_type": "code",
      "metadata": {
        "id": "vOBjxemYEt3Q",
        "colab_type": "code",
        "colab": {}
      },
      "source": [
        "_all = np.sum(np.sum(Mconfusion))\n",
        "_true = np.sum([Mconfusion[i][i] for i in range(10)])\n",
        "\n",
        "print('KNN accuracy: ', _true/_all)"
      ],
      "execution_count": 0,
      "outputs": []
    },
    {
      "cell_type": "code",
      "metadata": {
        "id": "qTGDTIZTHGtN",
        "colab_type": "code",
        "colab": {}
      },
      "source": [
        "report = classification_report(y_test_full, y_predicted)\n",
        "print(report)"
      ],
      "execution_count": 0,
      "outputs": []
    },
    {
      "cell_type": "code",
      "metadata": {
        "id": "oYpkQdrcEtsy",
        "colab_type": "code",
        "colab": {}
      },
      "source": [
        "fig, ax = plt.subplots(figsize=(8,8))\n",
        "sns.heatmap(Mconfusion, annot=False, ax = ax)\n",
        "\n",
        "# By definition a confusion matrix C is such that Cij is equal to the number of observations known to be in group i but predicted to be in group j.\n",
        "ax.set_xlabel('Predicted labels')\n",
        "ax.set_ylabel('True labels')\n",
        "ax.set_title('Confusion Matrix');\n",
        "ax.xaxis.set_ticklabels(labels)\n",
        "ax.yaxis.set_ticklabels(labels)\n",
        "\n",
        "fig.savefig('KNN_confusion_matrix.png')\n",
        "plt.show()"
      ],
      "execution_count": 0,
      "outputs": []
    },
    {
      "cell_type": "markdown",
      "metadata": {
        "id": "ZR630WA6ApNE",
        "colab_type": "text"
      },
      "source": [
        "# Support Vector Machine (SVC)"
      ]
    },
    {
      "cell_type": "code",
      "metadata": {
        "id": "ZwmYHLyR8prf",
        "colab_type": "code",
        "outputId": "dec1707d-ba9c-4333-8bfd-d09f5da39350",
        "colab": {
          "base_uri": "https://localhost:8080/",
          "height": 85
        }
      },
      "source": [
        "print(x_train_choose.shape)\n",
        "print(y_train_choose.shape)\n",
        "print(x_test_choose.shape)\n",
        "print(y_test_choose.shape)"
      ],
      "execution_count": 17,
      "outputs": [
        {
          "output_type": "stream",
          "text": [
            "(1000, 3136)\n",
            "(1000,)\n",
            "(1000, 3136)\n",
            "(1000,)\n"
          ],
          "name": "stdout"
        }
      ]
    },
    {
      "cell_type": "code",
      "metadata": {
        "id": "Gof372OW8uvi",
        "colab_type": "code",
        "outputId": "2c71ae85-b473-45c4-98a1-26fe11d245ce",
        "colab": {
          "base_uri": "https://localhost:8080/",
          "height": 989
        }
      },
      "source": [
        "for i in range(56):  # print values of image!\n",
        "  for j in range(56):\n",
        "    print(\"%.2f \" % x_train_choose[0][56*i+j], end='')\n",
        "  print()"
      ],
      "execution_count": 18,
      "outputs": [
        {
          "output_type": "stream",
          "text": [
            "1.00 1.00 1.00 1.00 1.00 1.00 1.00 1.00 1.00 1.00 1.00 1.00 1.00 1.00 1.00 1.00 1.00 1.00 0.99 0.98 0.98 0.96 0.95 0.94 0.92 0.89 0.87 0.85 0.84 0.84 0.86 0.89 0.91 0.94 0.96 0.97 0.98 0.99 0.99 1.00 1.00 1.00 1.00 1.00 1.00 1.00 1.00 1.00 1.00 1.00 1.00 1.00 1.00 1.00 1.00 1.00 \n",
            "1.00 1.00 1.00 1.00 1.00 1.00 1.00 1.00 1.00 1.00 1.00 1.00 1.00 1.00 1.00 1.00 0.99 0.99 0.98 0.97 0.95 0.93 0.91 0.88 0.85 0.82 0.78 0.76 0.75 0.75 0.78 0.81 0.85 0.89 0.91 0.94 0.96 0.97 0.98 0.99 0.99 1.00 1.00 1.00 1.00 1.00 1.00 1.00 1.00 1.00 1.00 1.00 1.00 1.00 1.00 1.00 \n",
            "1.00 1.00 1.00 1.00 1.00 1.00 1.00 1.00 1.00 1.00 1.00 1.00 1.00 1.00 1.00 0.99 0.98 0.97 0.95 0.93 0.89 0.85 0.81 0.77 0.73 0.68 0.64 0.60 0.59 0.60 0.63 0.67 0.73 0.78 0.82 0.86 0.89 0.93 0.95 0.97 0.98 0.99 1.00 1.00 1.00 1.00 1.00 1.00 1.00 1.00 1.00 1.00 1.00 1.00 1.00 1.00 \n",
            "1.00 1.00 1.00 1.00 1.00 1.00 1.00 1.00 1.00 1.00 1.00 1.00 1.00 0.99 0.99 0.98 0.96 0.93 0.90 0.85 0.79 0.72 0.66 0.61 0.56 0.51 0.46 0.42 0.41 0.42 0.45 0.50 0.56 0.62 0.68 0.74 0.79 0.84 0.89 0.93 0.96 0.98 0.99 0.99 1.00 1.00 1.00 1.00 1.00 1.00 1.00 1.00 1.00 1.00 1.00 1.00 \n",
            "1.00 1.00 1.00 1.00 1.00 1.00 1.00 1.00 1.00 1.00 1.00 1.00 0.99 0.99 0.97 0.95 0.91 0.87 0.80 0.73 0.65 0.56 0.49 0.43 0.38 0.33 0.29 0.26 0.25 0.26 0.29 0.34 0.39 0.45 0.51 0.58 0.64 0.71 0.78 0.85 0.91 0.95 0.97 0.99 0.99 1.00 1.00 1.00 1.00 1.00 1.00 1.00 1.00 1.00 1.00 1.00 \n",
            "1.00 1.00 1.00 1.00 1.00 1.00 1.00 1.00 1.00 1.00 1.00 0.99 0.99 0.97 0.94 0.90 0.84 0.76 0.67 0.58 0.49 0.40 0.33 0.27 0.23 0.20 0.17 0.16 0.15 0.16 0.18 0.22 0.25 0.30 0.35 0.40 0.47 0.56 0.65 0.75 0.83 0.90 0.95 0.98 0.99 1.00 1.00 1.00 1.00 1.00 1.00 1.00 1.00 1.00 1.00 1.00 \n",
            "1.00 1.00 1.00 1.00 1.00 1.00 1.00 1.00 1.00 1.00 1.00 0.99 0.97 0.95 0.89 0.82 0.73 0.62 0.52 0.43 0.34 0.26 0.20 0.16 0.15 0.14 0.13 0.14 0.14 0.15 0.16 0.18 0.20 0.21 0.23 0.26 0.32 0.40 0.50 0.62 0.73 0.83 0.91 0.96 0.98 1.00 1.00 1.00 1.00 1.00 1.00 1.00 1.00 1.00 1.00 1.00 \n",
            "1.00 1.00 1.00 1.00 1.00 1.00 1.00 1.00 1.00 1.00 1.00 0.97 0.95 0.90 0.82 0.72 0.60 0.48 0.38 0.30 0.23 0.18 0.15 0.13 0.14 0.16 0.18 0.20 0.22 0.23 0.24 0.23 0.22 0.20 0.18 0.18 0.21 0.27 0.36 0.48 0.62 0.75 0.86 0.93 0.96 1.00 1.00 1.00 1.00 1.00 1.00 1.00 1.00 1.00 1.00 1.00 \n",
            "1.00 1.00 1.00 1.00 1.00 1.00 1.00 1.00 1.00 1.00 1.00 0.95 0.91 0.84 0.73 0.60 0.47 0.35 0.27 0.21 0.18 0.16 0.16 0.17 0.20 0.24 0.29 0.33 0.36 0.37 0.37 0.35 0.31 0.26 0.21 0.17 0.16 0.18 0.25 0.37 0.52 0.67 0.80 0.89 0.95 1.00 1.00 1.00 1.00 1.00 1.00 1.00 1.00 1.00 1.00 1.00 \n",
            "1.00 1.00 1.00 1.00 1.00 1.00 1.00 1.00 1.00 1.00 1.00 0.91 0.85 0.76 0.62 0.48 0.35 0.25 0.19 0.17 0.18 0.19 0.22 0.26 0.31 0.38 0.45 0.50 0.53 0.55 0.54 0.51 0.45 0.36 0.28 0.20 0.15 0.15 0.19 0.28 0.42 0.59 0.74 0.85 0.92 1.00 1.00 1.00 1.00 1.00 1.00 1.00 1.00 1.00 1.00 1.00 \n",
            "1.00 1.00 1.00 1.00 1.00 1.00 1.00 1.00 1.00 1.00 1.00 0.87 0.78 0.67 0.52 0.37 0.25 0.17 0.15 0.16 0.20 0.25 0.31 0.38 0.45 0.53 0.60 0.65 0.68 0.69 0.67 0.63 0.56 0.46 0.35 0.25 0.17 0.13 0.15 0.22 0.35 0.51 0.67 0.79 0.88 1.00 1.00 1.00 1.00 1.00 1.00 1.00 1.00 1.00 1.00 1.00 \n",
            "1.00 1.00 1.00 1.00 1.00 1.00 1.00 1.00 1.00 1.00 1.00 0.83 0.72 0.58 0.43 0.28 0.17 0.12 0.12 0.16 0.23 0.32 0.40 0.48 0.56 0.64 0.69 0.73 0.75 0.75 0.73 0.68 0.60 0.50 0.38 0.27 0.18 0.13 0.12 0.16 0.27 0.42 0.58 0.72 0.83 1.00 1.00 1.00 1.00 1.00 1.00 1.00 1.00 1.00 1.00 1.00 \n",
            "1.00 1.00 1.00 1.00 1.00 1.00 1.00 1.00 1.00 1.00 1.00 0.80 0.68 0.53 0.37 0.23 0.13 0.09 0.10 0.15 0.24 0.35 0.45 0.54 0.61 0.67 0.70 0.72 0.73 0.71 0.68 0.63 0.55 0.46 0.36 0.25 0.16 0.11 0.09 0.12 0.21 0.35 0.50 0.64 0.76 1.00 1.00 1.00 1.00 1.00 1.00 1.00 1.00 1.00 1.00 1.00 \n",
            "1.00 1.00 1.00 1.00 1.00 1.00 1.00 1.00 1.00 1.00 1.00 0.80 0.67 0.53 0.36 0.22 0.12 0.08 0.09 0.14 0.22 0.32 0.43 0.51 0.57 0.61 0.62 0.62 0.61 0.59 0.55 0.50 0.44 0.36 0.27 0.20 0.13 0.08 0.06 0.09 0.16 0.27 0.42 0.55 0.69 1.00 1.00 1.00 1.00 1.00 1.00 1.00 1.00 1.00 1.00 1.00 \n",
            "1.00 1.00 1.00 1.00 1.00 1.00 1.00 1.00 1.00 1.00 1.00 0.82 0.70 0.56 0.40 0.25 0.15 0.09 0.09 0.11 0.18 0.26 0.35 0.42 0.46 0.47 0.47 0.46 0.44 0.42 0.39 0.35 0.30 0.24 0.19 0.14 0.09 0.06 0.05 0.06 0.11 0.21 0.34 0.46 0.63 1.00 1.00 1.00 1.00 1.00 1.00 1.00 1.00 1.00 1.00 1.00 \n",
            "1.00 1.00 1.00 1.00 1.00 1.00 1.00 1.00 1.00 1.00 1.00 0.85 0.75 0.63 0.48 0.33 0.22 0.14 0.10 0.11 0.14 0.19 0.24 0.29 0.32 0.32 0.31 0.30 0.28 0.27 0.25 0.22 0.20 0.17 0.14 0.11 0.09 0.06 0.05 0.05 0.09 0.17 0.28 0.40 0.57 1.00 1.00 1.00 1.00 1.00 1.00 1.00 1.00 1.00 1.00 1.00 \n",
            "1.00 1.00 1.00 1.00 1.00 1.00 1.00 1.00 1.00 1.00 1.00 0.90 0.82 0.72 0.59 0.45 0.32 0.22 0.16 0.13 0.13 0.14 0.17 0.19 0.20 0.20 0.20 0.18 0.18 0.17 0.17 0.17 0.16 0.16 0.16 0.15 0.13 0.10 0.07 0.06 0.08 0.15 0.25 0.35 0.53 1.00 1.00 1.00 1.00 1.00 1.00 1.00 1.00 1.00 1.00 1.00 \n",
            "1.00 1.00 1.00 1.00 1.00 1.00 1.00 1.00 1.00 1.00 1.00 0.94 0.89 0.81 0.70 0.58 0.45 0.34 0.26 0.20 0.17 0.16 0.16 0.16 0.16 0.16 0.15 0.15 0.16 0.17 0.18 0.20 0.22 0.24 0.25 0.25 0.22 0.17 0.12 0.08 0.09 0.13 0.23 0.33 0.51 1.00 1.00 1.00 1.00 1.00 1.00 1.00 1.00 1.00 1.00 1.00 \n",
            "1.00 1.00 1.00 1.00 1.00 1.00 1.00 1.00 1.00 1.00 1.00 0.96 0.93 0.88 0.81 0.71 0.60 0.49 0.40 0.33 0.28 0.25 0.22 0.21 0.20 0.20 0.20 0.21 0.23 0.25 0.28 0.31 0.35 0.38 0.40 0.39 0.35 0.27 0.18 0.12 0.10 0.13 0.22 0.32 0.51 1.00 1.00 1.00 1.00 1.00 1.00 1.00 1.00 1.00 1.00 1.00 \n",
            "1.00 1.00 1.00 1.00 1.00 1.00 1.00 1.00 1.00 1.00 1.00 0.98 0.96 0.94 0.89 0.82 0.74 0.65 0.57 0.50 0.44 0.40 0.36 0.34 0.33 0.32 0.33 0.35 0.37 0.40 0.44 0.48 0.52 0.55 0.56 0.55 0.47 0.36 0.24 0.15 0.11 0.14 0.22 0.32 0.51 1.00 1.00 1.00 1.00 1.00 1.00 1.00 1.00 1.00 1.00 1.00 \n",
            "1.00 1.00 1.00 1.00 1.00 1.00 1.00 1.00 1.00 1.00 1.00 0.99 0.98 0.97 0.94 0.90 0.85 0.79 0.73 0.67 0.62 0.57 0.54 0.51 0.50 0.49 0.51 0.52 0.55 0.58 0.62 0.66 0.69 0.72 0.71 0.67 0.58 0.44 0.29 0.18 0.13 0.15 0.24 0.34 0.52 1.00 1.00 1.00 1.00 1.00 1.00 1.00 1.00 1.00 1.00 1.00 \n",
            "1.00 1.00 1.00 1.00 1.00 1.00 1.00 1.00 1.00 1.00 1.00 1.00 0.99 0.98 0.97 0.95 0.93 0.89 0.85 0.82 0.78 0.74 0.71 0.69 0.67 0.67 0.68 0.70 0.72 0.75 0.78 0.81 0.83 0.84 0.82 0.75 0.64 0.48 0.31 0.19 0.14 0.17 0.26 0.36 0.54 1.00 1.00 1.00 1.00 1.00 1.00 1.00 1.00 1.00 1.00 1.00 \n",
            "1.00 1.00 1.00 1.00 1.00 1.00 1.00 1.00 1.00 1.00 1.00 1.00 1.00 0.99 0.99 0.98 0.97 0.95 0.93 0.91 0.89 0.87 0.85 0.83 0.82 0.82 0.83 0.84 0.85 0.87 0.89 0.91 0.91 0.91 0.87 0.78 0.65 0.48 0.31 0.20 0.16 0.20 0.30 0.41 0.58 1.00 1.00 1.00 1.00 1.00 1.00 1.00 1.00 1.00 1.00 1.00 \n",
            "1.00 1.00 1.00 1.00 1.00 1.00 1.00 1.00 1.00 1.00 1.00 1.00 1.00 1.00 1.00 0.99 0.99 0.98 0.97 0.96 0.95 0.94 0.93 0.92 0.92 0.92 0.92 0.93 0.94 0.95 0.95 0.96 0.95 0.93 0.87 0.78 0.63 0.45 0.30 0.20 0.17 0.23 0.35 0.47 0.64 1.00 1.00 1.00 1.00 1.00 1.00 1.00 1.00 1.00 1.00 1.00 \n",
            "1.00 1.00 1.00 1.00 1.00 1.00 1.00 1.00 1.00 1.00 1.00 1.00 1.00 1.00 1.00 1.00 1.00 0.99 0.99 0.99 0.98 0.98 0.97 0.97 0.97 0.97 0.97 0.97 0.98 0.98 0.98 0.98 0.96 0.92 0.85 0.73 0.58 0.41 0.27 0.19 0.20 0.28 0.42 0.55 0.69 1.00 1.00 1.00 1.00 1.00 1.00 1.00 1.00 1.00 1.00 1.00 \n",
            "1.00 1.00 1.00 1.00 1.00 1.00 1.00 1.00 1.00 1.00 1.00 1.00 1.00 1.00 1.00 1.00 1.00 1.00 1.00 1.00 0.99 0.99 0.99 0.99 0.99 0.99 0.99 0.99 0.99 0.99 0.99 0.98 0.95 0.89 0.80 0.66 0.50 0.35 0.24 0.19 0.24 0.35 0.49 0.63 0.76 1.00 1.00 1.00 1.00 1.00 1.00 1.00 1.00 1.00 1.00 1.00 \n",
            "1.00 1.00 1.00 1.00 1.00 1.00 1.00 1.00 1.00 1.00 1.00 1.00 1.00 1.00 1.00 1.00 1.00 1.00 1.00 1.00 1.00 1.00 1.00 1.00 1.00 1.00 1.00 1.00 1.00 0.99 0.99 0.97 0.93 0.85 0.73 0.58 0.42 0.28 0.20 0.20 0.28 0.42 0.57 0.71 0.82 1.00 1.00 1.00 1.00 1.00 1.00 1.00 1.00 1.00 1.00 1.00 \n",
            "1.00 1.00 1.00 1.00 1.00 1.00 1.00 1.00 1.00 1.00 1.00 1.00 1.00 1.00 1.00 1.00 1.00 1.00 1.00 1.00 1.00 1.00 1.00 1.00 1.00 1.00 1.00 1.00 1.00 0.99 0.98 0.96 0.90 0.80 0.66 0.49 0.34 0.23 0.18 0.22 0.33 0.49 0.65 0.78 0.87 1.00 1.00 1.00 1.00 1.00 1.00 1.00 1.00 1.00 1.00 1.00 \n",
            "1.00 1.00 1.00 1.00 1.00 1.00 1.00 1.00 1.00 1.00 1.00 1.00 1.00 1.00 1.00 1.00 1.00 1.00 1.00 1.00 1.00 1.00 1.00 1.00 1.00 1.00 1.00 1.00 1.00 0.99 0.98 0.94 0.86 0.75 0.59 0.42 0.27 0.18 0.17 0.25 0.38 0.55 0.71 0.83 0.91 1.00 1.00 1.00 1.00 1.00 1.00 1.00 1.00 1.00 1.00 1.00 \n",
            "1.00 1.00 1.00 1.00 1.00 1.00 1.00 1.00 1.00 1.00 1.00 1.00 1.00 1.00 1.00 1.00 1.00 1.00 1.00 1.00 1.00 1.00 1.00 1.00 1.00 1.00 1.00 1.00 1.00 0.98 0.96 0.91 0.82 0.69 0.52 0.35 0.22 0.16 0.17 0.27 0.42 0.60 0.76 0.87 0.94 1.00 1.00 1.00 1.00 1.00 1.00 1.00 1.00 1.00 1.00 1.00 \n",
            "1.00 1.00 1.00 1.00 1.00 1.00 1.00 1.00 1.00 1.00 1.00 1.00 1.00 1.00 1.00 1.00 1.00 1.00 1.00 1.00 1.00 1.00 1.00 1.00 1.00 1.00 1.00 1.00 0.99 0.98 0.95 0.88 0.77 0.63 0.45 0.30 0.18 0.14 0.18 0.29 0.45 0.64 0.79 0.89 0.95 1.00 1.00 1.00 1.00 1.00 1.00 1.00 1.00 1.00 1.00 1.00 \n",
            "1.00 1.00 1.00 1.00 1.00 1.00 1.00 1.00 1.00 1.00 1.00 1.00 1.00 1.00 1.00 1.00 1.00 1.00 1.00 1.00 1.00 1.00 1.00 1.00 1.00 1.00 1.00 0.99 0.98 0.96 0.91 0.83 0.71 0.55 0.38 0.24 0.16 0.14 0.20 0.32 0.49 0.67 0.82 0.91 0.96 1.00 1.00 1.00 1.00 1.00 1.00 1.00 1.00 1.00 1.00 1.00 \n",
            "1.00 1.00 1.00 1.00 1.00 1.00 1.00 1.00 1.00 1.00 1.00 1.00 1.00 1.00 1.00 1.00 1.00 1.00 1.00 1.00 1.00 1.00 1.00 1.00 1.00 1.00 1.00 0.99 0.97 0.94 0.87 0.77 0.62 0.46 0.31 0.20 0.14 0.15 0.23 0.37 0.54 0.71 0.84 0.93 0.97 1.00 1.00 1.00 1.00 1.00 1.00 1.00 1.00 1.00 1.00 1.00 \n",
            "1.00 1.00 1.00 1.00 1.00 1.00 1.00 1.00 1.00 1.00 1.00 1.00 1.00 1.00 1.00 1.00 1.00 1.00 1.00 1.00 1.00 1.00 1.00 1.00 1.00 1.00 0.99 0.98 0.96 0.91 0.82 0.69 0.53 0.38 0.24 0.16 0.15 0.19 0.30 0.44 0.61 0.76 0.87 0.94 0.98 1.00 1.00 1.00 1.00 1.00 1.00 1.00 1.00 1.00 1.00 1.00 \n",
            "1.00 1.00 1.00 1.00 1.00 1.00 1.00 1.00 1.00 1.00 1.00 1.00 1.00 1.00 1.00 1.00 1.00 1.00 1.00 1.00 1.00 1.00 1.00 1.00 1.00 1.00 0.99 0.97 0.93 0.86 0.75 0.60 0.44 0.29 0.19 0.15 0.16 0.25 0.38 0.54 0.69 0.82 0.91 0.96 0.98 1.00 1.00 1.00 1.00 1.00 1.00 1.00 1.00 1.00 1.00 1.00 \n",
            "1.00 1.00 1.00 1.00 1.00 1.00 1.00 1.00 1.00 1.00 1.00 1.00 1.00 1.00 1.00 1.00 1.00 1.00 1.00 1.00 1.00 1.00 1.00 1.00 1.00 0.99 0.98 0.95 0.89 0.80 0.67 0.51 0.35 0.22 0.15 0.15 0.21 0.33 0.48 0.64 0.77 0.87 0.94 0.97 0.99 1.00 1.00 1.00 1.00 1.00 1.00 1.00 1.00 1.00 1.00 1.00 \n",
            "1.00 1.00 1.00 1.00 1.00 1.00 1.00 1.00 1.00 1.00 1.00 1.00 1.00 1.00 1.00 1.00 1.00 1.00 1.00 1.00 1.00 1.00 1.00 1.00 1.00 0.98 0.96 0.92 0.84 0.72 0.57 0.42 0.27 0.17 0.13 0.16 0.26 0.40 0.57 0.72 0.84 0.92 0.96 0.98 0.99 1.00 1.00 1.00 1.00 1.00 1.00 1.00 1.00 1.00 1.00 1.00 \n",
            "1.00 1.00 1.00 1.00 1.00 1.00 1.00 1.00 1.00 1.00 1.00 1.00 1.00 1.00 1.00 1.00 1.00 1.00 1.00 1.00 1.00 1.00 1.00 1.00 0.99 0.98 0.94 0.88 0.77 0.64 0.47 0.32 0.20 0.14 0.13 0.20 0.32 0.48 0.65 0.79 0.89 0.95 0.98 0.99 1.00 1.00 1.00 1.00 1.00 1.00 1.00 1.00 1.00 1.00 1.00 1.00 \n",
            "1.00 1.00 1.00 1.00 1.00 1.00 1.00 1.00 1.00 1.00 1.00 1.00 1.00 1.00 1.00 1.00 1.00 1.00 1.00 1.00 1.00 1.00 1.00 1.00 0.98 0.96 0.91 0.83 0.70 0.55 0.38 0.24 0.15 0.12 0.16 0.25 0.39 0.56 0.72 0.85 0.93 0.97 0.99 1.00 1.00 1.00 1.00 1.00 1.00 1.00 1.00 1.00 1.00 1.00 1.00 1.00 \n",
            "1.00 1.00 1.00 1.00 1.00 1.00 1.00 1.00 1.00 1.00 1.00 1.00 1.00 1.00 1.00 1.00 1.00 1.00 1.00 1.00 1.00 1.00 1.00 0.99 0.98 0.95 0.88 0.77 0.62 0.45 0.30 0.18 0.13 0.13 0.20 0.32 0.47 0.64 0.78 0.89 0.95 0.98 0.99 1.00 1.00 1.00 1.00 1.00 1.00 1.00 1.00 1.00 1.00 1.00 1.00 1.00 \n",
            "1.00 1.00 1.00 1.00 1.00 1.00 1.00 1.00 1.00 1.00 1.00 1.00 1.00 1.00 1.00 1.00 1.00 1.00 1.00 1.00 1.00 1.00 0.99 0.98 0.96 0.92 0.84 0.71 0.55 0.38 0.24 0.15 0.13 0.16 0.26 0.40 0.56 0.72 0.84 0.92 0.97 0.99 1.00 1.00 1.00 1.00 1.00 1.00 1.00 1.00 1.00 1.00 1.00 1.00 1.00 1.00 \n",
            "1.00 1.00 1.00 1.00 1.00 1.00 1.00 1.00 1.00 1.00 1.00 1.00 1.00 1.00 1.00 1.00 1.00 1.00 1.00 1.00 1.00 1.00 0.99 0.97 0.94 0.88 0.78 0.63 0.47 0.31 0.19 0.13 0.14 0.22 0.35 0.50 0.66 0.79 0.89 0.95 0.98 0.99 1.00 1.00 1.00 1.00 1.00 1.00 1.00 1.00 1.00 1.00 1.00 1.00 1.00 1.00 \n",
            "1.00 1.00 1.00 1.00 1.00 1.00 1.00 1.00 1.00 1.00 1.00 1.00 1.00 1.00 1.00 1.00 1.00 1.00 1.00 1.00 1.00 0.99 0.98 0.96 0.91 0.82 0.70 0.55 0.38 0.25 0.16 0.13 0.18 0.28 0.44 0.60 0.75 0.85 0.93 0.97 0.99 1.00 1.00 1.00 1.00 1.00 1.00 1.00 1.00 1.00 1.00 1.00 1.00 1.00 1.00 1.00 \n",
            "1.00 1.00 1.00 1.00 1.00 1.00 1.00 1.00 1.00 1.00 1.00 1.00 1.00 1.00 1.00 1.00 1.00 1.00 1.00 1.00 1.00 0.99 0.97 0.93 0.85 0.75 0.60 0.45 0.30 0.19 0.13 0.15 0.22 0.36 0.52 0.68 0.82 0.91 0.96 0.98 0.99 1.00 1.00 1.00 1.00 1.00 1.00 1.00 1.00 1.00 1.00 1.00 1.00 1.00 1.00 1.00 \n",
            "1.00 1.00 1.00 1.00 1.00 1.00 1.00 1.00 1.00 1.00 1.00 1.00 1.00 1.00 1.00 1.00 1.00 1.00 1.00 1.00 0.99 0.98 0.95 0.89 0.79 0.66 0.50 0.35 0.22 0.15 0.13 0.17 0.27 0.43 0.60 0.75 0.87 0.94 0.97 0.99 1.00 1.00 1.00 1.00 1.00 1.00 1.00 1.00 1.00 1.00 1.00 1.00 1.00 1.00 1.00 1.00 \n",
            "1.00 1.00 1.00 1.00 1.00 1.00 1.00 1.00 1.00 1.00 1.00 1.00 1.00 1.00 1.00 1.00 1.00 1.00 1.00 0.99 0.98 0.96 0.92 0.84 0.72 0.56 0.40 0.26 0.16 0.12 0.14 0.21 0.34 0.51 0.67 0.81 0.91 0.96 0.98 0.99 1.00 1.00 1.00 1.00 1.00 1.00 1.00 1.00 1.00 1.00 1.00 1.00 1.00 1.00 1.00 1.00 \n",
            "1.00 1.00 1.00 1.00 1.00 1.00 1.00 1.00 1.00 1.00 1.00 1.00 1.00 1.00 1.00 1.00 1.00 1.00 1.00 0.99 0.97 0.94 0.88 0.78 0.64 0.48 0.32 0.20 0.14 0.13 0.18 0.28 0.42 0.59 0.74 0.86 0.93 0.97 0.99 1.00 1.00 1.00 1.00 1.00 1.00 1.00 1.00 1.00 1.00 1.00 1.00 1.00 1.00 1.00 1.00 1.00 \n",
            "1.00 1.00 1.00 1.00 1.00 1.00 1.00 1.00 1.00 1.00 1.00 1.00 1.00 1.00 1.00 1.00 1.00 1.00 0.99 0.98 0.95 0.90 0.82 0.69 0.55 0.39 0.26 0.17 0.14 0.16 0.25 0.37 0.52 0.67 0.81 0.90 0.96 0.98 0.99 1.00 1.00 1.00 1.00 1.00 1.00 1.00 1.00 1.00 1.00 1.00 1.00 1.00 1.00 1.00 1.00 1.00 \n",
            "1.00 1.00 1.00 1.00 1.00 1.00 1.00 1.00 1.00 1.00 1.00 1.00 1.00 1.00 1.00 1.00 1.00 0.99 0.98 0.96 0.91 0.84 0.73 0.60 0.45 0.31 0.21 0.16 0.17 0.24 0.35 0.48 0.63 0.76 0.87 0.93 0.97 0.99 1.00 1.00 1.00 1.00 1.00 1.00 1.00 1.00 1.00 1.00 1.00 1.00 1.00 1.00 1.00 1.00 1.00 1.00 \n",
            "1.00 1.00 1.00 1.00 1.00 1.00 1.00 1.00 1.00 1.00 1.00 1.00 1.00 1.00 1.00 1.00 1.00 0.99 0.97 0.93 0.87 0.76 0.63 0.49 0.36 0.25 0.20 0.20 0.25 0.34 0.47 0.60 0.73 0.84 0.91 0.96 0.98 0.99 1.00 1.00 1.00 1.00 1.00 1.00 1.00 1.00 1.00 1.00 1.00 1.00 1.00 1.00 1.00 1.00 1.00 1.00 \n",
            "1.00 1.00 1.00 1.00 1.00 1.00 1.00 1.00 1.00 1.00 1.00 1.00 1.00 1.00 1.00 1.00 1.00 0.98 0.96 0.91 0.82 0.69 0.54 0.40 0.29 0.23 0.22 0.27 0.35 0.47 0.60 0.72 0.82 0.90 0.95 0.98 0.99 1.00 1.00 1.00 1.00 1.00 1.00 1.00 1.00 1.00 1.00 1.00 1.00 1.00 1.00 1.00 1.00 1.00 1.00 1.00 \n",
            "1.00 1.00 1.00 1.00 1.00 1.00 1.00 1.00 1.00 1.00 1.00 1.00 1.00 1.00 1.00 1.00 0.99 0.98 0.95 0.88 0.78 0.64 0.49 0.36 0.29 0.27 0.30 0.38 0.48 0.60 0.72 0.82 0.89 0.95 0.97 0.99 1.00 1.00 1.00 1.00 1.00 1.00 1.00 1.00 1.00 1.00 1.00 1.00 1.00 1.00 1.00 1.00 1.00 1.00 1.00 1.00 \n",
            "1.00 1.00 1.00 1.00 1.00 1.00 1.00 1.00 1.00 1.00 1.00 1.00 1.00 1.00 1.00 1.00 0.99 0.98 0.95 0.87 0.77 0.63 0.49 0.39 0.35 0.36 0.42 0.52 0.62 0.73 0.82 0.89 0.95 0.97 0.99 0.99 1.00 1.00 1.00 1.00 1.00 1.00 1.00 1.00 1.00 1.00 1.00 1.00 1.00 1.00 1.00 1.00 1.00 1.00 1.00 1.00 \n",
            "1.00 1.00 1.00 1.00 1.00 1.00 1.00 1.00 1.00 1.00 1.00 1.00 1.00 1.00 1.00 1.00 0.99 0.98 0.95 0.89 0.78 0.66 0.55 0.47 0.46 0.50 0.57 0.66 0.75 0.84 0.90 0.95 0.97 0.99 0.99 1.00 1.00 1.00 1.00 1.00 1.00 1.00 1.00 1.00 1.00 1.00 1.00 1.00 1.00 1.00 1.00 1.00 1.00 1.00 1.00 1.00 \n",
            "1.00 1.00 1.00 1.00 1.00 1.00 1.00 1.00 1.00 1.00 1.00 1.00 1.00 1.00 1.00 1.00 0.99 0.98 0.96 0.91 0.82 0.72 0.62 0.57 0.58 0.63 0.71 0.78 0.85 0.91 0.95 0.97 0.99 0.99 1.00 1.00 1.00 1.00 1.00 1.00 1.00 1.00 1.00 1.00 1.00 1.00 1.00 1.00 1.00 1.00 1.00 1.00 1.00 1.00 1.00 1.00 \n",
            "1.00 1.00 1.00 1.00 1.00 1.00 1.00 1.00 1.00 1.00 1.00 1.00 1.00 1.00 1.00 1.00 1.00 0.98 0.96 0.92 0.85 0.76 0.68 0.65 0.66 0.71 0.78 0.85 0.90 0.94 0.97 0.98 0.99 1.00 1.00 1.00 1.00 1.00 1.00 1.00 1.00 1.00 1.00 1.00 1.00 1.00 1.00 1.00 1.00 1.00 1.00 1.00 1.00 1.00 1.00 1.00 \n"
          ],
          "name": "stdout"
        }
      ]
    },
    {
      "cell_type": "markdown",
      "metadata": {
        "id": "Rp2J-5vsqlgS",
        "colab_type": "text"
      },
      "source": [
        "## Linearni kernel"
      ]
    },
    {
      "cell_type": "code",
      "metadata": {
        "id": "qgTD2PJSvG7A",
        "colab_type": "code",
        "outputId": "b6366e40-4083-454c-b556-1bcea9f38603",
        "colab": {
          "base_uri": "https://localhost:8080/",
          "height": 51
        }
      },
      "source": [
        "%%time\n",
        "# linear SVC\n",
        "model_linear = SVC(kernel='linear')\n",
        "model_linear.fit(x_train_full[:24_000], y_train_full[:24_000])"
      ],
      "execution_count": 24,
      "outputs": [
        {
          "output_type": "stream",
          "text": [
            "CPU times: user 5min 42s, sys: 65.9 ms, total: 5min 42s\n",
            "Wall time: 5min 42s\n"
          ],
          "name": "stdout"
        }
      ]
    },
    {
      "cell_type": "code",
      "metadata": {
        "id": "JWGIL3anvG2H",
        "colab_type": "code",
        "colab": {
          "base_uri": "https://localhost:8080/",
          "height": 34
        },
        "outputId": "757cc4de-77b7-4d2f-91c1-a96169d42223"
      },
      "source": [
        "# y_pred_choose = model_linear.predict(x_test_full)\n",
        "y_predicted = []\n",
        "for i in tqdm(range(len(x_test_full))):\n",
        "  y_predicted.append(model_linear.predict([x_test_full[i]])[0])"
      ],
      "execution_count": 25,
      "outputs": [
        {
          "output_type": "stream",
          "text": [
            "100%|██████████| 20000/20000 [06:22<00:00, 52.25it/s]\n"
          ],
          "name": "stderr"
        }
      ]
    },
    {
      "cell_type": "code",
      "metadata": {
        "id": "Wh6g8gMvvGvD",
        "colab_type": "code",
        "outputId": "8d4922e2-1e24-46c9-ecea-69253d5fe17c",
        "colab": {
          "base_uri": "https://localhost:8080/",
          "height": 221
        }
      },
      "source": [
        "print(\"accuracy:\", metrics.accuracy_score(y_true=y_test_full, y_pred=y_predicted), \"\\n\")\n",
        "print(metrics.confusion_matrix(y_true=y_test_full, y_pred=y_predicted))"
      ],
      "execution_count": 27,
      "outputs": [
        {
          "output_type": "stream",
          "text": [
            "accuracy: 0.94025 \n",
            "\n",
            "[[1924    3    8    6   10   32    8    4    4    1]\n",
            " [   1 1971    3    1    1    7    0    2   14    0]\n",
            " [  18   13 1868   22   29   14    9    4   22    1]\n",
            " [   6    5   34 1883    5   32    1   13   12    9]\n",
            " [  11   20   11    1 1885    4   13    9    8   38]\n",
            " [  18    6   16   82   14 1825    9    4   22    4]\n",
            " [  25   12   14    2   17   14 1913    0    3    0]\n",
            " [   2   10    4   13    9    5    0 1912    6   39]\n",
            " [  22   26   32   48   19   68    2    5 1772    6]\n",
            " [   9    5    3   10   31   10    0   59   21 1852]]\n"
          ],
          "name": "stdout"
        }
      ]
    },
    {
      "cell_type": "code",
      "metadata": {
        "id": "g46U7YwL7_I-",
        "colab_type": "code",
        "colab": {
          "base_uri": "https://localhost:8080/",
          "height": 306
        },
        "outputId": "cecd61ca-fe4f-4f2c-e32c-b61a0d91cb4c"
      },
      "source": [
        "report = classification_report(y_test_full, y_predicted)\n",
        "print(report)"
      ],
      "execution_count": 28,
      "outputs": [
        {
          "output_type": "stream",
          "text": [
            "              precision    recall  f1-score   support\n",
            "\n",
            "           0       0.94      0.96      0.95      2000\n",
            "           1       0.95      0.99      0.97      2000\n",
            "           2       0.94      0.93      0.94      2000\n",
            "           3       0.91      0.94      0.93      2000\n",
            "           4       0.93      0.94      0.94      2000\n",
            "           5       0.91      0.91      0.91      2000\n",
            "           6       0.98      0.96      0.97      2000\n",
            "           7       0.95      0.96      0.95      2000\n",
            "           8       0.94      0.89      0.91      2000\n",
            "           9       0.95      0.93      0.94      2000\n",
            "\n",
            "    accuracy                           0.94     20000\n",
            "   macro avg       0.94      0.94      0.94     20000\n",
            "weighted avg       0.94      0.94      0.94     20000\n",
            "\n"
          ],
          "name": "stdout"
        }
      ]
    },
    {
      "cell_type": "code",
      "metadata": {
        "id": "V-MGjNTa8fGq",
        "colab_type": "code",
        "colab": {
          "base_uri": "https://localhost:8080/",
          "height": 513
        },
        "outputId": "9aea45c2-125d-4a8f-c2ce-0875a24614e7"
      },
      "source": [
        "fig, ax = plt.subplots(figsize=(8,8))\n",
        "sns.heatmap(metrics.confusion_matrix(y_true=y_test_full, y_pred=y_predicted), annot=False, ax = ax)\n",
        "\n",
        "# By definition a confusion matrix C is such that Cij is equal to the number of observations known to be in group i but predicted to be in group j.\n",
        "ax.set_xlabel('Predicted labels')\n",
        "ax.set_ylabel('True labels')\n",
        "ax.set_title('Confusion Matrix');\n",
        "ax.xaxis.set_ticklabels(labels)\n",
        "ax.yaxis.set_ticklabels(labels)\n",
        "\n",
        "fig.savefig('KNN_confusion_matrix.png')\n",
        "plt.show()"
      ],
      "execution_count": 30,
      "outputs": [
        {
          "output_type": "display_data",
          "data": {
            "image/png": "[encoded data removed]",
            "text/plain": [
              "<Figure size 576x576 with 2 Axes>"
            ]
          },
          "metadata": {
            "tags": []
          }
        }
      ]
    },
    {
      "cell_type": "markdown",
      "metadata": {
        "id": "yLGOuiZPs_SW",
        "colab_type": "text"
      },
      "source": [
        "## Nelinearni kernel"
      ]
    },
    {
      "cell_type": "code",
      "metadata": {
        "id": "YtE2nVNi-9Zo",
        "colab_type": "code",
        "colab": {
          "base_uri": "https://localhost:8080/",
          "height": 85
        },
        "outputId": "9e1a9b5a-dc6e-4399-8a19-a7337283bb13"
      },
      "source": [
        "parameters = [{'C': [0.01, 0.1, 1, 5, 10, 100, 1000], 'kernel' : ['linear']},  \n",
        "              {'C': [0.01, 0.1, 1, 5, 10, 100, 1000], 'kernel': ['poly'], 'degree': [2, 4, 6], 'gamma': np.arange(0.1, 1.1, 0.1), 'coef0': [0, 0.5, 1, 1.5, 2]},\n",
        "              {'C': [0.01, 0.1, 1, 5, 10, 100, 1000], 'kernel' : ['rbf'], 'gamma': np.arange(0.1, 1.1, 0.1), },\n",
        "              {'C': [0.01, 0.1, 1, 5, 10, 100, 1000], 'kernel' : ['sigmoid'], 'gamma': np.arange(0.1, 1.1, 0.1), 'coef0': [0, 0.5, 1, 1.5, 2]}]\n",
        "for p in parameters:\n",
        "  print(p)"
      ],
      "execution_count": 33,
      "outputs": [
        {
          "output_type": "stream",
          "text": [
            "{'C': [0.01, 0.1, 1, 5, 10, 100, 1000], 'kernel': ['linear']}\n",
            "{'C': [0.01, 0.1, 1, 5, 10, 100, 1000], 'kernel': ['poly'], 'degree': [2, 4, 6], 'gamma': array([0.1, 0.2, 0.3, 0.4, 0.5, 0.6, 0.7, 0.8, 0.9, 1. ]), 'coef0': [0, 0.5, 1, 1.5, 2]}\n",
            "{'C': [0.01, 0.1, 1, 5, 10, 100, 1000], 'kernel': ['rbf'], 'gamma': array([0.1, 0.2, 0.3, 0.4, 0.5, 0.6, 0.7, 0.8, 0.9, 1. ])}\n",
            "{'C': [0.01, 0.1, 1, 5, 10, 100, 1000], 'kernel': ['sigmoid'], 'gamma': array([0.1, 0.2, 0.3, 0.4, 0.5, 0.6, 0.7, 0.8, 0.9, 1. ]), 'coef0': [0, 0.5, 1, 1.5, 2]}\n"
          ],
          "name": "stdout"
        }
      ]
    },
    {
      "cell_type": "code",
      "metadata": {
        "id": "nnHwn8lZA6WZ",
        "colab_type": "code",
        "colab": {
          "base_uri": "https://localhost:8080/",
          "height": 51
        },
        "outputId": "ab21ad68-b2b2-41fd-96b3-e79113ae6878"
      },
      "source": [
        "%%time\n",
        "\n",
        "model = SVC()\n",
        "model_cv = GridSearchCV(estimator = model, param_grid = parameters, scoring= 'accuracy', cv = 3, verbose = 1, return_train_score=True)  \n",
        "model_cv.fit(x_train_choose, y_train_choose)"
      ],
      "execution_count": 0,
      "outputs": [
        {
          "output_type": "stream",
          "text": [
            "Fitting 3 folds for each of 1477 candidates, totalling 4431 fits\n"
          ],
          "name": "stdout"
        },
        {
          "output_type": "stream",
          "text": [
            "[Parallel(n_jobs=1)]: Using backend SequentialBackend with 1 concurrent workers.\n"
          ],
          "name": "stderr"
        }
      ]
    },
    {
      "cell_type": "code",
      "metadata": {
        "id": "z0V8OrAD47lY",
        "colab_type": "code",
        "colab": {}
      },
      "source": [
        "# cv results\n",
        "cv_results = pd.DataFrame(model_cv.cv_results_)\n",
        "cv_results"
      ],
      "execution_count": 0,
      "outputs": []
    },
    {
      "cell_type": "code",
      "metadata": {
        "id": "L9dpYJmI56Vq",
        "colab_type": "code",
        "colab": {}
      },
      "source": [
        "# converting C to numeric type for plotting on x-axis\n",
        "cv_results['param_C'] = cv_results['param_C'].astype('int')\n",
        "\n",
        "# plotting\n",
        "plt.figure(figsize=(16,8))\n",
        "\n",
        "# subplot 1/3\n",
        "plt.subplot(131)\n",
        "gamma_01 = cv_results[cv_results['param_gamma']==0.01]\n",
        "\n",
        "plt.plot(gamma_01[\"param_C\"], gamma_01[\"mean_test_score\"])\n",
        "plt.plot(gamma_01[\"param_C\"], gamma_01[\"mean_train_score\"])\n",
        "plt.xlabel('C')\n",
        "plt.ylabel('Accuracy')\n",
        "plt.title(\"Gamma=0.01\")\n",
        "plt.ylim([0.60, 1])\n",
        "plt.legend(['test accuracy', 'train accuracy'], loc='upper left')\n",
        "plt.xscale('log')\n",
        "\n",
        "# subplot 2/3\n",
        "plt.subplot(132)\n",
        "gamma_001 = cv_results[cv_results['param_gamma']==0.001]\n",
        "\n",
        "plt.plot(gamma_001[\"param_C\"], gamma_001[\"mean_test_score\"])\n",
        "plt.plot(gamma_001[\"param_C\"], gamma_001[\"mean_train_score\"])\n",
        "plt.xlabel('C')\n",
        "plt.ylabel('Accuracy')\n",
        "plt.title(\"Gamma=0.001\")\n",
        "plt.ylim([0.60, 1])\n",
        "plt.legend(['test accuracy', 'train accuracy'], loc='upper left')\n",
        "plt.xscale('log')\n",
        "\n",
        "\n",
        "# subplot 3/3\n",
        "plt.subplot(133)\n",
        "gamma_0001 = cv_results[cv_results['param_gamma']==0.0001]\n",
        "\n",
        "plt.plot(gamma_0001[\"param_C\"], gamma_0001[\"mean_test_score\"])\n",
        "plt.plot(gamma_0001[\"param_C\"], gamma_0001[\"mean_train_score\"])\n",
        "plt.xlabel('C')\n",
        "plt.ylabel('Accuracy')\n",
        "plt.title(\"Gamma=0.0001\")\n",
        "plt.ylim([0.60, 1])\n",
        "plt.legend(['test accuracy', 'train accuracy'], loc='upper left')\n",
        "plt.xscale('log')"
      ],
      "execution_count": 0,
      "outputs": []
    },
    {
      "cell_type": "code",
      "metadata": {
        "id": "oVLFCu-y6iKN",
        "colab_type": "code",
        "outputId": "85ef006a-e6f9-478f-99d3-6f11873daec3",
        "colab": {
          "base_uri": "https://localhost:8080/",
          "height": 34
        }
      },
      "source": [
        "best_score = model_cv.best_score_\n",
        "best_hyperparams = model_cv.best_params_\n",
        "\n",
        "print(\"The best test score is {0} corresponding to hyperparameters {1}\".format(best_score, best_hyperparams))"
      ],
      "execution_count": 0,
      "outputs": [
        {
          "output_type": "stream",
          "text": [
            "The best test score is 0.917 corresponding to hyperparameters {'C': 5, 'gamma': 0.01}\n"
          ],
          "name": "stdout"
        }
      ]
    },
    {
      "cell_type": "code",
      "metadata": {
        "id": "okAJZbl-6mx9",
        "colab_type": "code",
        "colab": {}
      },
      "source": [
        "# model\n",
        "model = SVC(C=5, gamma=0.01, kernel=\"rbf\")\n",
        "\n",
        "model.fit(x_train_choose, y_train_choose)\n",
        "y_pred_choose = model.predict(x_test_choose)\n",
        "\n",
        "# metrics\n",
        "print(\"accuracy\", metrics.accuracy_score(y_test_choose, y_pred_choose), \"\\n\")\n",
        "print(metrics.confusion_matrix(y_test_choose, y_pred_choose), \"\\n\")"
      ],
      "execution_count": 0,
      "outputs": []
    },
    {
      "cell_type": "code",
      "metadata": {
        "id": "4OXpirPi4Kox",
        "colab_type": "code",
        "outputId": "bd137a90-855a-4d8b-938c-f85fa3bdf28a",
        "colab": {
          "base_uri": "https://localhost:8080/",
          "height": 71
        }
      },
      "source": [
        "# non-linear model\n",
        "# using rbf kernel, C=1, default value of gamma\n",
        "non_linear_model = SVC(kernel='rbf')\n",
        "non_linear_model.fit(x_train_choose, y_train_choose)\n",
        "y_pred_choose = non_linear_model.predict(x_test_choose)"
      ],
      "execution_count": 0,
      "outputs": [
        {
          "output_type": "stream",
          "text": [
            "/usr/local/lib/python3.6/dist-packages/sklearn/svm/base.py:193: FutureWarning: The default value of gamma will change from 'auto' to 'scale' in version 0.22 to account better for unscaled features. Set gamma explicitly to 'auto' or 'scale' to avoid this warning.\n",
            "  \"avoid this warning.\", FutureWarning)\n"
          ],
          "name": "stderr"
        }
      ]
    },
    {
      "cell_type": "code",
      "metadata": {
        "id": "kI4DECLy4XUu",
        "colab_type": "code",
        "colab": {}
      },
      "source": [
        "print(\"accuracy:\", metrics.accuracy_score(y_true=y_test_choose, y_pred=y_pred_choose), \"\\n\")\n",
        "print(metrics.confusion_matrix(y_true=y_test_choose, y_pred=y_pred_choose))"
      ],
      "execution_count": 0,
      "outputs": []
    },
    {
      "cell_type": "markdown",
      "metadata": {
        "id": "Q1Fhwb90AwHV",
        "colab_type": "text"
      },
      "source": [
        "# Decision Tree"
      ]
    },
    {
      "cell_type": "markdown",
      "metadata": {
        "id": "wS66Xi8rKxeA",
        "colab_type": "text"
      },
      "source": [
        "## Tree"
      ]
    },
    {
      "cell_type": "code",
      "metadata": {
        "id": "QSQSDMIgGDgf",
        "colab_type": "code",
        "colab": {}
      },
      "source": [
        "def visualize_tree(tree, feature_names, class_names):  # Used from Mirjana Maljkovic site\n",
        "    with open(\"dt.dot\", \"w\") as f:\n",
        "        export_graphviz(tree, out_file=f, feature_names=feature_names, class_names=class_names, filled=True, rounded=True)\n",
        "    f.close()\n",
        "\n",
        "    subprocess.call(\"dot -Tpng dt.dot -o tree.png\", shell=True)"
      ],
      "execution_count": 0,
      "outputs": []
    },
    {
      "cell_type": "code",
      "metadata": {
        "id": "zbtkTnXQE6rE",
        "colab_type": "code",
        "outputId": "94f66c91-307c-4075-8e24-0b120139f875",
        "colab": {
          "base_uri": "https://localhost:8080/",
          "height": 68
        }
      },
      "source": [
        "clf = tree.DecisionTreeClassifier()\n",
        "clf = clf.fit(x_train_choose, y_train_choose)\n",
        "y_pred_choose = clf.predict(x_test_choose)\n",
        "print(y_pred_choose[0:20], \"...\")\n",
        "print(y_test_choose[0:20], \"...\")\n",
        "print(metrics.accuracy_score(y_test_choose, y_pred_choose))"
      ],
      "execution_count": 0,
      "outputs": [
        {
          "output_type": "stream",
          "text": [
            "[1 1 6 2 8 0 6 9 2 0 5 4 4 9 0 9 3 4 6 9] ...\n",
            "[1 3 6 2 8 0 6 9 8 0 5 6 4 9 0 9 3 4 2 9] ...\n",
            "0.74\n"
          ],
          "name": "stdout"
        }
      ]
    },
    {
      "cell_type": "code",
      "metadata": {
        "id": "vQJMIj-SK-wd",
        "colab_type": "code",
        "outputId": "64a3d5ab-ed9f-487d-c9a5-9dd50fe45e8f",
        "colab": {
          "base_uri": "https://localhost:8080/",
          "height": 102
        }
      },
      "source": [
        "%%time\n",
        "\n",
        "clf = tree.DecisionTreeClassifier()\n",
        "clf = clf.fit(x_train_full, y_train)\n",
        "y_pred = clf.predict(x_test_full)\n",
        "print(y_pred[0:20], \".....\")\n",
        "print(y_test[0:20], \".....\")\n",
        "print(metrics.accuracy_score(y_test, y_pred))"
      ],
      "execution_count": 0,
      "outputs": [
        {
          "output_type": "stream",
          "text": [
            "[1 3 6 2 8 0 6 9 8 0 3 6 4 3 0 9 3 4 2 9] .....\n",
            "[1, 3, 6, 2, 8, 0, 6, 9, 8, 0, 5, 6, 4, 9, 0, 9, 3, 4, 2, 9] .....\n",
            "0.91385\n",
            "CPU times: user 13min 19s, sys: 780 ms, total: 13min 20s\n",
            "Wall time: 13min 20s\n"
          ],
          "name": "stdout"
        }
      ]
    },
    {
      "cell_type": "markdown",
      "metadata": {
        "id": "DFSOnH1EK0U5",
        "colab_type": "text"
      },
      "source": [
        "## Visualisation"
      ]
    },
    {
      "cell_type": "code",
      "metadata": {
        "id": "2gSqAtXGE6lA",
        "colab_type": "code",
        "colab": {}
      },
      "source": [
        "visualize_tree(clf,['pixel '+str((i,j)) for i in range(56) for j in range(56)], ['0','1','2','3','4','5','6','7','8','9'])"
      ],
      "execution_count": 0,
      "outputs": []
    },
    {
      "cell_type": "code",
      "metadata": {
        "id": "R4UBvWVCE6fE",
        "colab_type": "code",
        "outputId": "387ebb2d-821a-429c-e854-637a64fbb786",
        "colab": {
          "base_uri": "https://localhost:8080/",
          "height": 34
        }
      },
      "source": [
        "len([(i,j) for i in range(56) for j in range(56)])"
      ],
      "execution_count": 0,
      "outputs": [
        {
          "output_type": "execute_result",
          "data": {
            "text/plain": [
              "3136"
            ]
          },
          "metadata": {
            "tags": []
          },
          "execution_count": 40
        }
      ]
    },
    {
      "cell_type": "code",
      "metadata": {
        "id": "kLNXjv1cE6XU",
        "colab_type": "code",
        "outputId": "6736b8fd-be67-40a8-d756-09c20bb0a840",
        "colab": {
          "base_uri": "https://localhost:8080/",
          "height": 1105
        }
      },
      "source": [
        "print('feature (pixel) importances:', '\\n')  # Interpretability of decision tree\n",
        "pd.Series(clf.feature_importances_, index=['pixel '+str((i,j)) for i in range(56) for j in range(56)]).sort_values(ascending=False)"
      ],
      "execution_count": 0,
      "outputs": [
        {
          "output_type": "stream",
          "text": [
            "feature (pixel) importances: \n",
            "\n"
          ],
          "name": "stdout"
        },
        {
          "output_type": "execute_result",
          "data": {
            "text/plain": [
              "pixel (5, 30)     0.069163\n",
              "pixel (10, 17)    0.058156\n",
              "pixel (24, 16)    0.056897\n",
              "pixel (24, 46)    0.055479\n",
              "pixel (44, 12)    0.054088\n",
              "pixel (37, 18)    0.047680\n",
              "pixel (37, 8)     0.041545\n",
              "pixel (41, 41)    0.040623\n",
              "pixel (13, 44)    0.039743\n",
              "pixel (21, 22)    0.030483\n",
              "pixel (19, 36)    0.019648\n",
              "pixel (25, 24)    0.018332\n",
              "pixel (39, 21)    0.016954\n",
              "pixel (24, 36)    0.015251\n",
              "pixel (23, 31)    0.014366\n",
              "pixel (51, 21)    0.013361\n",
              "pixel (19, 15)    0.013141\n",
              "pixel (34, 20)    0.013012\n",
              "pixel (26, 25)    0.012508\n",
              "pixel (35, 17)    0.010771\n",
              "pixel (18, 20)    0.010528\n",
              "pixel (17, 39)    0.009801\n",
              "pixel (35, 11)    0.009329\n",
              "pixel (41, 21)    0.008313\n",
              "pixel (28, 43)    0.007761\n",
              "pixel (53, 33)    0.007656\n",
              "pixel (48, 28)    0.007515\n",
              "pixel (52, 27)    0.007418\n",
              "pixel (43, 45)    0.007161\n",
              "pixel (26, 37)    0.006979\n",
              "                    ...   \n",
              "pixel (36, 27)    0.000000\n",
              "pixel (36, 26)    0.000000\n",
              "pixel (36, 25)    0.000000\n",
              "pixel (36, 24)    0.000000\n",
              "pixel (36, 23)    0.000000\n",
              "pixel (36, 22)    0.000000\n",
              "pixel (36, 44)    0.000000\n",
              "pixel (36, 45)    0.000000\n",
              "pixel (36, 46)    0.000000\n",
              "pixel (36, 47)    0.000000\n",
              "pixel (37, 11)    0.000000\n",
              "pixel (37, 10)    0.000000\n",
              "pixel (37, 9)     0.000000\n",
              "pixel (37, 7)     0.000000\n",
              "pixel (37, 6)     0.000000\n",
              "pixel (37, 5)     0.000000\n",
              "pixel (37, 4)     0.000000\n",
              "pixel (37, 3)     0.000000\n",
              "pixel (37, 2)     0.000000\n",
              "pixel (37, 1)     0.000000\n",
              "pixel (37, 0)     0.000000\n",
              "pixel (36, 55)    0.000000\n",
              "pixel (36, 54)    0.000000\n",
              "pixel (36, 53)    0.000000\n",
              "pixel (36, 52)    0.000000\n",
              "pixel (36, 51)    0.000000\n",
              "pixel (36, 50)    0.000000\n",
              "pixel (36, 49)    0.000000\n",
              "pixel (36, 48)    0.000000\n",
              "pixel (0, 0)      0.000000\n",
              "Length: 3136, dtype: float64"
            ]
          },
          "metadata": {
            "tags": []
          },
          "execution_count": 54
        }
      ]
    },
    {
      "cell_type": "markdown",
      "metadata": {
        "id": "mj_gSvgtK2ZO",
        "colab_type": "text"
      },
      "source": [
        "## Random forests"
      ]
    },
    {
      "cell_type": "code",
      "metadata": {
        "id": "1nYB97JyAxzF",
        "colab_type": "code",
        "colab": {}
      },
      "source": [
        "clf = RandomForestClassifier(n_estimators=100)"
      ],
      "execution_count": 0,
      "outputs": []
    },
    {
      "cell_type": "code",
      "metadata": {
        "id": "6Kx8JQL5KbZk",
        "colab_type": "code",
        "outputId": "c7a7c6b6-d0f3-40a4-a756-a2c60a3ee47e",
        "colab": {
          "base_uri": "https://localhost:8080/",
          "height": 170
        }
      },
      "source": [
        "%%time\n",
        "\n",
        "clf.fit(x_train_full, y_train)"
      ],
      "execution_count": 0,
      "outputs": [
        {
          "output_type": "stream",
          "text": [
            "CPU times: user 11min 56s, sys: 102 ms, total: 11min 56s\n",
            "Wall time: 11min 56s\n"
          ],
          "name": "stdout"
        },
        {
          "output_type": "execute_result",
          "data": {
            "text/plain": [
              "RandomForestClassifier(bootstrap=True, class_weight=None, criterion='gini',\n",
              "                       max_depth=None, max_features='auto', max_leaf_nodes=None,\n",
              "                       min_impurity_decrease=0.0, min_impurity_split=None,\n",
              "                       min_samples_leaf=1, min_samples_split=2,\n",
              "                       min_weight_fraction_leaf=0.0, n_estimators=100,\n",
              "                       n_jobs=None, oob_score=False, random_state=None,\n",
              "                       verbose=0, warm_start=False)"
            ]
          },
          "metadata": {
            "tags": []
          },
          "execution_count": 33
        }
      ]
    },
    {
      "cell_type": "code",
      "metadata": {
        "id": "11tMw9r0KbPs",
        "colab_type": "code",
        "outputId": "06f288ca-0f4b-4ec3-99f6-f15f8f320d9f",
        "colab": {
          "base_uri": "https://localhost:8080/",
          "height": 68
        }
      },
      "source": [
        "y_pred = clf.predict(x_test_full)\n",
        "print(y_pred_choose[0:10], \"...\")\n",
        "print(y_test_choose[0:10], \"...\")\n",
        "print(metrics.accuracy_score(y_test, y_pred))"
      ],
      "execution_count": 0,
      "outputs": [
        {
          "output_type": "stream",
          "text": [
            "[1 3 6 2 8 0 6 9 8 0] ...\n",
            "[1 3 6 2 8 0 6 9 8 0] ...\n",
            "0.9743\n"
          ],
          "name": "stdout"
        }
      ]
    },
    {
      "cell_type": "markdown",
      "metadata": {
        "id": "LCLHBslWAyrS",
        "colab_type": "text"
      },
      "source": [
        "# Deep Neural Network"
      ]
    },
    {
      "cell_type": "code",
      "metadata": {
        "id": "R1iM1uhx3XC5",
        "colab_type": "code",
        "colab": {}
      },
      "source": [
        "BOX_SIZE = 56                        \n",
        "image_shape = (BOX_SIZE, BOX_SIZE, 1)  \n",
        "labels = ['0', '1', '2', '3', '4', '5', '6', '7', '8', '9']\n",
        "number_of_classes = len(labels)        "
      ],
      "execution_count": 0,
      "outputs": []
    },
    {
      "cell_type": "code",
      "metadata": {
        "id": "s_tWHo0W3W-6",
        "colab_type": "code",
        "colab": {}
      },
      "source": [
        "x_input = Input(shape=image_shape)  \n",
        "\n",
        "x = Conv2D(filters=32, kernel_size=(3,3), strides=(1,1), activation='relu', padding='valid')(x_input)\n",
        "x = Conv2D(filters=32, kernel_size=(3,3), strides=(1,1), activation='relu', padding='valid')(x) \n",
        "x = BatchNormalization()(x)\n",
        "x = MaxPool2D(pool_size=(2,2), padding='valid')(x)                                                      \n",
        "x = Conv2D(filters=48, kernel_size=(3,3), strides=(1,1), activation='relu', padding='valid')(x)        \n",
        "x = Conv2D(filters=48, kernel_size=(3,3), strides=(1,1), activation='relu', padding='valid')(x) \n",
        "x = BatchNormalization()(x)\n",
        "x = MaxPool2D(pool_size=(2,2), padding='valid')(x)                                                      \n",
        "x = Conv2D(filters=64, kernel_size=(3,3), strides=(1,1), activation='relu', padding='valid')(x)        \n",
        "x = Conv2D(filters=64, kernel_size=(3,3), strides=(1,1), activation='relu', padding='valid')(x) \n",
        "x = BatchNormalization()(x)\n",
        "x = MaxPool2D(pool_size=(3, 3), padding='valid')(x)                                                    \n",
        "x = Flatten()(x)                                                                                       \n",
        "\n",
        "x = Dense(units=768, activation='relu')(x)         \n",
        "x = Dropout(rate=0.25)(x)                          \n",
        "x = Dense(units=256, name='next_to_last')(x)                           \n",
        "x = Dropout(rate=0.25)(x)                          \n",
        "\n",
        "y_output = Dense(units=number_of_classes, activation='softmax')(x)  "
      ],
      "execution_count": 0,
      "outputs": []
    },
    {
      "cell_type": "code",
      "metadata": {
        "id": "QogcEfLg3W6W",
        "colab_type": "code",
        "colab": {}
      },
      "source": [
        "recognizer = Model(inputs=x_input, outputs=y_output, name='recognizer')"
      ],
      "execution_count": 0,
      "outputs": []
    },
    {
      "cell_type": "code",
      "metadata": {
        "id": "s4MicEWv3W2C",
        "colab_type": "code",
        "outputId": "412c940a-6a15-4288-983b-3dc540b6cace",
        "colab": {
          "base_uri": "https://localhost:8080/",
          "height": 782
        }
      },
      "source": [
        "recognizer.summary()"
      ],
      "execution_count": 0,
      "outputs": [
        {
          "output_type": "stream",
          "text": [
            "_________________________________________________________________\n",
            "Layer (type)                 Output Shape              Param #   \n",
            "=================================================================\n",
            "input_3 (InputLayer)         (None, 56, 56, 1)         0         \n",
            "_________________________________________________________________\n",
            "conv2d_13 (Conv2D)           (None, 54, 54, 32)        320       \n",
            "_________________________________________________________________\n",
            "conv2d_14 (Conv2D)           (None, 52, 52, 32)        9248      \n",
            "_________________________________________________________________\n",
            "batch_normalization_7 (Batch (None, 52, 52, 32)        128       \n",
            "_________________________________________________________________\n",
            "max_pooling2d_7 (MaxPooling2 (None, 26, 26, 32)        0         \n",
            "_________________________________________________________________\n",
            "conv2d_15 (Conv2D)           (None, 24, 24, 48)        13872     \n",
            "_________________________________________________________________\n",
            "conv2d_16 (Conv2D)           (None, 22, 22, 48)        20784     \n",
            "_________________________________________________________________\n",
            "batch_normalization_8 (Batch (None, 22, 22, 48)        192       \n",
            "_________________________________________________________________\n",
            "max_pooling2d_8 (MaxPooling2 (None, 11, 11, 48)        0         \n",
            "_________________________________________________________________\n",
            "conv2d_17 (Conv2D)           (None, 9, 9, 64)          27712     \n",
            "_________________________________________________________________\n",
            "conv2d_18 (Conv2D)           (None, 7, 7, 64)          36928     \n",
            "_________________________________________________________________\n",
            "batch_normalization_9 (Batch (None, 7, 7, 64)          256       \n",
            "_________________________________________________________________\n",
            "max_pooling2d_9 (MaxPooling2 (None, 2, 2, 64)          0         \n",
            "_________________________________________________________________\n",
            "flatten_3 (Flatten)          (None, 256)               0         \n",
            "_________________________________________________________________\n",
            "dense_5 (Dense)              (None, 768)               197376    \n",
            "_________________________________________________________________\n",
            "dropout_5 (Dropout)          (None, 768)               0         \n",
            "_________________________________________________________________\n",
            "next_to_last (Dense)         (None, 256)               196864    \n",
            "_________________________________________________________________\n",
            "dropout_6 (Dropout)          (None, 256)               0         \n",
            "_________________________________________________________________\n",
            "dense_6 (Dense)              (None, 10)                2570      \n",
            "=================================================================\n",
            "Total params: 506,250\n",
            "Trainable params: 505,962\n",
            "Non-trainable params: 288\n",
            "_________________________________________________________________\n"
          ],
          "name": "stdout"
        }
      ]
    },
    {
      "cell_type": "code",
      "metadata": {
        "id": "Fd1y849V3Wwg",
        "colab_type": "code",
        "colab": {}
      },
      "source": [
        "recognizer.compile(optimizer=Adam(lr=1e-3), loss=categorical_crossentropy, metrics=['accuracy'])   # beta_1=0.9, beta_2=0.999"
      ],
      "execution_count": 0,
      "outputs": []
    },
    {
      "cell_type": "code",
      "metadata": {
        "id": "3AeNro0a3Wr4",
        "colab_type": "code",
        "colab": {}
      },
      "source": [
        "reduce = ReduceLROnPlateau(monitor='val_loss', factor=0.5, patience=1, verbose=1, mode='min', #add min_delta\n",
        "                           cooldown=1, min_le=1e-8)\n",
        "\n",
        "estop = EarlyStopping(monitor='val_loss', min_delta=0, patience=4, verbose=1, mode='min')\n",
        "\n",
        "excel = CSVLogger(filename='./CNN.csv', separator=',', append=False)\n",
        "\n",
        "checkp = ModelCheckpoint('./CNN_weights.h5', monitor='val_loss', verbose=1, save_best_only=True, save_weights_only=True, mode='auto', period=1)"
      ],
      "execution_count": 0,
      "outputs": []
    },
    {
      "cell_type": "code",
      "metadata": {
        "id": "q0UPLP2vf9wG",
        "colab_type": "code",
        "colab": {}
      },
      "source": [
        "class SequenceGenerator(Sequence):\n",
        "  # infodisk - [(path, label, writer)]\n",
        "  # batch_size - size of batch\n",
        "  \n",
        "    def __init__(self, xs, ys, batch_size):\n",
        "      self.xs = np.array(xs)\n",
        "      self.ys = np.array(ys)\n",
        "      self.batch_size = batch_size\n",
        "    \n",
        "    def __len__(self):\n",
        "      return int(np.ceil(len(self.xs)/float(self.batch_size)))\n",
        "  \n",
        "    def __getitem__(self, index):\n",
        "      _xs = self.xs[index*self.batch_size: (index+1)*self.batch_size]\n",
        "      _ys = self.ys[index*self.batch_size: (index+1)*self.batch_size]\n",
        "    \n",
        "      return np.array([(x.reshape(BOX_SIZE, BOX_SIZE, 1))/255.0 for x in _xs]), to_categorical(_ys, number_of_classes)\n",
        "  \n",
        "    def on_epoch_end(self):\n",
        "      self.xs, self.ys = shuffle(self.xs, self.ys)"
      ],
      "execution_count": 0,
      "outputs": []
    },
    {
      "cell_type": "code",
      "metadata": {
        "id": "aWUQYwu_gLQv",
        "colab_type": "code",
        "outputId": "1e11914c-57df-4eab-dd76-6d63ea0bfdc8",
        "colab": {
          "base_uri": "https://localhost:8080/",
          "height": 51
        }
      },
      "source": [
        "test = SequenceGenerator(x_train, y_train, 50)\n",
        "x, y = test.__getitem__(0)\n",
        "print(x.shape)\n",
        "print(y.shape)"
      ],
      "execution_count": 0,
      "outputs": [
        {
          "output_type": "stream",
          "text": [
            "(50, 56, 56, 1)\n",
            "(50, 10)\n"
          ],
          "name": "stdout"
        }
      ]
    },
    {
      "cell_type": "code",
      "metadata": {
        "id": "ik_uZavUjHD8",
        "colab_type": "code",
        "outputId": "be27ddd7-273b-4d27-fa89-4864c77d679e",
        "colab": {
          "base_uri": "https://localhost:8080/",
          "height": 34
        }
      },
      "source": [
        "np.array(x_train).shape"
      ],
      "execution_count": 0,
      "outputs": [
        {
          "output_type": "execute_result",
          "data": {
            "text/plain": [
              "(120000, 56, 56)"
            ]
          },
          "metadata": {
            "tags": []
          },
          "execution_count": 60
        }
      ]
    },
    {
      "cell_type": "code",
      "metadata": {
        "id": "XNjdHiUZhTEU",
        "colab_type": "code",
        "colab": {}
      },
      "source": [
        "train_generator = SequenceGenerator(x_train[:100_000], y_train[:100_000], 1000)\n",
        "validation_generator = SequenceGenerator(x_train[100_000:], y_train[100_000:], 1000)"
      ],
      "execution_count": 0,
      "outputs": []
    },
    {
      "cell_type": "code",
      "metadata": {
        "id": "mU_GMd3Q3WlE",
        "colab_type": "code",
        "outputId": "4b91955b-427e-4441-dd73-5a9755a741ea",
        "colab": {
          "base_uri": "https://localhost:8080/",
          "height": 918
        }
      },
      "source": [
        "history = recognizer.fit_generator(generator=train_generator, epochs=10, verbose=1,\n",
        "                                   use_multiprocessing=False, workers=2, validation_data=validation_generator,\n",
        "                                   callbacks=[reduce, estop, excel, checkp])"
      ],
      "execution_count": 0,
      "outputs": [
        {
          "output_type": "stream",
          "text": [
            "Epoch 1/10\n",
            "100/100 [==============================] - 23s 228ms/step - loss: 0.0159 - acc: 0.9952 - val_loss: 0.0277 - val_acc: 0.9921\n",
            "\n",
            "Epoch 00001: val_loss improved from 0.03119 to 0.02772, saving model to ./CNN_weights.h5\n",
            "Epoch 2/10\n",
            "100/100 [==============================] - 23s 231ms/step - loss: 0.0146 - acc: 0.9955 - val_loss: 0.0372 - val_acc: 0.9887\n",
            "\n",
            "Epoch 00002: ReduceLROnPlateau reducing learning rate to 0.0002500000118743628.\n",
            "\n",
            "Epoch 00002: val_loss did not improve from 0.02772\n",
            "Epoch 3/10\n",
            "100/100 [==============================] - 23s 226ms/step - loss: 0.0100 - acc: 0.9971 - val_loss: 0.0233 - val_acc: 0.9929\n",
            "\n",
            "Epoch 00003: val_loss improved from 0.02772 to 0.02334, saving model to ./CNN_weights.h5\n",
            "Epoch 4/10\n",
            "100/100 [==============================] - 22s 225ms/step - loss: 0.0083 - acc: 0.9977 - val_loss: 0.0226 - val_acc: 0.9933\n",
            "\n",
            "Epoch 00004: val_loss improved from 0.02334 to 0.02256, saving model to ./CNN_weights.h5\n",
            "Epoch 5/10\n",
            "100/100 [==============================] - 23s 225ms/step - loss: 0.0077 - acc: 0.9976 - val_loss: 0.0250 - val_acc: 0.9929\n",
            "\n",
            "Epoch 00005: ReduceLROnPlateau reducing learning rate to 0.0001250000059371814.\n",
            "\n",
            "Epoch 00005: val_loss did not improve from 0.02256\n",
            "Epoch 6/10\n",
            "100/100 [==============================] - 23s 227ms/step - loss: 0.0059 - acc: 0.9983 - val_loss: 0.0214 - val_acc: 0.9937\n",
            "\n",
            "Epoch 00006: val_loss improved from 0.02256 to 0.02139, saving model to ./CNN_weights.h5\n",
            "Epoch 7/10\n",
            "100/100 [==============================] - 23s 227ms/step - loss: 0.0052 - acc: 0.9987 - val_loss: 0.0245 - val_acc: 0.9932\n",
            "\n",
            "Epoch 00007: ReduceLROnPlateau reducing learning rate to 6.25000029685907e-05.\n",
            "\n",
            "Epoch 00007: val_loss did not improve from 0.02139\n",
            "Epoch 8/10\n",
            "100/100 [==============================] - 22s 224ms/step - loss: 0.0041 - acc: 0.9990 - val_loss: 0.0226 - val_acc: 0.9936\n",
            "\n",
            "Epoch 00008: ReduceLROnPlateau reducing learning rate to 3.125000148429535e-05.\n",
            "\n",
            "Epoch 00008: val_loss did not improve from 0.02139\n",
            "Epoch 9/10\n",
            "100/100 [==============================] - 23s 226ms/step - loss: 0.0041 - acc: 0.9990 - val_loss: 0.0226 - val_acc: 0.9937\n",
            "\n",
            "Epoch 00009: ReduceLROnPlateau reducing learning rate to 1.5625000742147677e-05.\n",
            "\n",
            "Epoch 00009: val_loss did not improve from 0.02139\n",
            "Epoch 10/10\n",
            "100/100 [==============================] - 23s 226ms/step - loss: 0.0037 - acc: 0.9992 - val_loss: 0.0224 - val_acc: 0.9939\n",
            "\n",
            "Epoch 00010: ReduceLROnPlateau reducing learning rate to 7.812500371073838e-06.\n",
            "\n",
            "Epoch 00010: val_loss did not improve from 0.02139\n",
            "Epoch 00010: early stopping\n"
          ],
          "name": "stdout"
        }
      ]
    },
    {
      "cell_type": "code",
      "metadata": {
        "id": "uA7yxHvonx4a",
        "colab_type": "code",
        "outputId": "23729450-5de6-4309-c9aa-1914f35b293f",
        "colab": {
          "base_uri": "https://localhost:8080/",
          "height": 51
        }
      },
      "source": [
        "recognizer.evaluate(x=(np.array(x_test)/255.0).reshape(len(x_test), BOX_SIZE, BOX_SIZE, 1), y=to_categorical(np.array(y_test), number_of_classes), batch_size=256, verbose=1)"
      ],
      "execution_count": 0,
      "outputs": [
        {
          "output_type": "stream",
          "text": [
            "20000/20000 [==============================] - 2s 96us/step\n"
          ],
          "name": "stdout"
        },
        {
          "output_type": "execute_result",
          "data": {
            "text/plain": [
              "[0.025394510033074767, 0.9937]"
            ]
          },
          "metadata": {
            "tags": []
          },
          "execution_count": 66
        }
      ]
    },
    {
      "cell_type": "code",
      "metadata": {
        "id": "NdRLlsCZoIFi",
        "colab_type": "code",
        "colab": {}
      },
      "source": [
        "recognizer.save_weights('./CNN_weights.h5') \n",
        "recognizer.save('./CNN_model.h5') "
      ],
      "execution_count": 0,
      "outputs": []
    },
    {
      "cell_type": "code",
      "metadata": {
        "id": "xDViU7k4oUtd",
        "colab_type": "code",
        "outputId": "768a2942-f1ca-49d8-eb43-7e45e1b65a73",
        "colab": {
          "base_uri": "https://localhost:8080/",
          "height": 295
        }
      },
      "source": [
        "epochs = history.epoch\n",
        "loss = history.history['loss']\n",
        "val_loss = history.history['val_loss']\n",
        "\n",
        "plt.title('Loss/Val loss curve')\n",
        "plt.xlabel('epochs')\n",
        "plt.ylabel('loss')\n",
        "plt.plot(epochs, loss, color='red', label='training')\n",
        "plt.plot(epochs, val_loss, color='orange', label='validation')\n",
        "plt.legend()\n",
        "plt.show()"
      ],
      "execution_count": 0,
      "outputs": [
        {
          "output_type": "display_data",
          "data": {
            "image/png": "[encoded data removed]",
            "text/plain": [
              "<Figure size 432x288 with 1 Axes>"
            ]
          },
          "metadata": {
            "tags": []
          }
        }
      ]
    },
    {
      "cell_type": "code",
      "metadata": {
        "id": "g8_iwADnoYHL",
        "colab_type": "code",
        "outputId": "8df1a4ad-a6e4-47e6-feb0-ab7f728fce4f",
        "colab": {
          "base_uri": "https://localhost:8080/",
          "height": 295
        }
      },
      "source": [
        "acc = history.history['acc']\n",
        "val_acc = history.history['val_acc']\n",
        "\n",
        "plt.title('Acc/Val acc curve')\n",
        "plt.xlabel('epochs')\n",
        "plt.ylabel('accuracy')\n",
        "plt.plot(epochs, acc, color='red', label='training')\n",
        "plt.plot(epochs, val_acc, color='orange', label='validation')\n",
        "plt.legend()\n",
        "plt.show()"
      ],
      "execution_count": 0,
      "outputs": [
        {
          "output_type": "display_data",
          "data": {
            "image/png": "[encoded data removed]",
            "text/plain": [
              "<Figure size 432x288 with 1 Axes>"
            ]
          },
          "metadata": {
            "tags": []
          }
        }
      ]
    },
    {
      "cell_type": "code",
      "metadata": {
        "id": "1YkLNYx7odDL",
        "colab_type": "code",
        "outputId": "72d9c9a5-0c96-4a0b-d998-e494aa7d544d",
        "colab": {
          "base_uri": "https://localhost:8080/",
          "height": 357
        }
      },
      "source": [
        "from sklearn.metrics import accuracy_score\n",
        "from sklearn.metrics import classification_report\n",
        "\n",
        "y_predicted = np.argmax(recognizer.predict((np.array(x_test)/255.0).reshape(len(x_test), BOX_SIZE, BOX_SIZE, 1)), axis=1)\n",
        "print('predicted: ', y_predicted[0:5])\n",
        "print('test: ', y_test[0:5])\n",
        "acc = accuracy_score(y_test, y_predicted)\n",
        "print(acc*100.0)\n",
        "report = classification_report(y_test, y_predicted)\n",
        "print(report)"
      ],
      "execution_count": 0,
      "outputs": [
        {
          "output_type": "stream",
          "text": [
            "predicted:  [1 3 6 2 8]\n",
            "test:  [1, 3, 6, 2, 8]\n",
            "99.37\n",
            "              precision    recall  f1-score   support\n",
            "\n",
            "           0       1.00      1.00      1.00      2000\n",
            "           1       0.99      1.00      0.99      2000\n",
            "           2       0.99      0.99      0.99      2000\n",
            "           3       1.00      0.99      0.99      2000\n",
            "           4       0.99      0.99      0.99      2000\n",
            "           5       1.00      1.00      1.00      2000\n",
            "           6       1.00      0.99      1.00      2000\n",
            "           7       0.99      0.99      0.99      2000\n",
            "           8       0.99      0.99      0.99      2000\n",
            "           9       0.99      0.99      0.99      2000\n",
            "\n",
            "    accuracy                           0.99     20000\n",
            "   macro avg       0.99      0.99      0.99     20000\n",
            "weighted avg       0.99      0.99      0.99     20000\n",
            "\n"
          ],
          "name": "stdout"
        }
      ]
    },
    {
      "cell_type": "code",
      "metadata": {
        "id": "BChzMP9apOt7",
        "colab_type": "code",
        "outputId": "7415cd56-b9f9-4902-90a3-cc4df268d211",
        "colab": {
          "base_uri": "https://localhost:8080/",
          "height": 238
        }
      },
      "source": [
        "from sklearn.metrics import confusion_matrix\n",
        "\n",
        "M = confusion_matrix(y_test, y_predicted)\n",
        "display(M)\n",
        "recall = np.diag(M) / np.sum(M, axis = 1)\n",
        "print(recall)\n",
        "precision = np.diag(M) / np.sum(M, axis = 0)\n",
        "print(precision)"
      ],
      "execution_count": 0,
      "outputs": [
        {
          "output_type": "display_data",
          "data": {
            "text/plain": [
              "array([[1994,    0,    2,    0,    1,    1,    1,    0,    0,    1],\n",
              "       [   0, 1992,    6,    0,    0,    0,    0,    2,    0,    0],\n",
              "       [   2,    1, 1987,    1,    0,    0,    1,    2,    5,    1],\n",
              "       [   0,    0,    7, 1983,    0,    4,    0,    3,    3,    0],\n",
              "       [   1,    1,    0,    0, 1985,    0,    2,    2,    1,    8],\n",
              "       [   0,    0,    1,    4,    1, 1991,    0,    0,    2,    1],\n",
              "       [   3,    3,    0,    0,    0,    2, 1989,    0,    3,    0],\n",
              "       [   0,    7,    5,    0,    4,    0,    0, 1983,    0,    1],\n",
              "       [   1,    1,    3,    0,    3,    2,    1,    0, 1985,    4],\n",
              "       [   3,    0,    0,    0,    5,    0,    0,    3,    4, 1985]])"
            ]
          },
          "metadata": {
            "tags": []
          }
        },
        {
          "output_type": "stream",
          "text": [
            "[0.997  0.996  0.9935 0.9915 0.9925 0.9955 0.9945 0.9915 0.9925 0.9925]\n",
            "[0.99500998 0.99351621 0.98806564 0.99748491 0.9929965  0.9955\n",
            " 0.99749248 0.99398496 0.99101348 0.992004  ]\n"
          ],
          "name": "stdout"
        }
      ]
    },
    {
      "cell_type": "code",
      "metadata": {
        "id": "gNyzAcsvpSYY",
        "colab_type": "code",
        "outputId": "a6078390-92b7-4eab-f632-f4bce060dc1a",
        "colab": {
          "base_uri": "https://localhost:8080/",
          "height": 350
        }
      },
      "source": [
        "import seaborn as sns\n",
        "\n",
        "fig, ax = plt.subplots(figsize=(5,5))\n",
        "sns.heatmap(M, annot=False, ax = ax)\n",
        "\n",
        "# By definition a confusion matrix C is such that Cij is equal to the number of observations known to be in group i but predicted to be in group j.\n",
        "ax.set_xlabel('Predicted labels')\n",
        "ax.set_ylabel('True labels')\n",
        "ax.set_title('Confusion Matrix');\n",
        "ax.xaxis.set_ticklabels(labels)\n",
        "ax.yaxis.set_ticklabels(labels)\n",
        "\n",
        "fig.savefig('confusion_matrix.png')\n",
        "plt.show()"
      ],
      "execution_count": 0,
      "outputs": [
        {
          "output_type": "display_data",
          "data": {
            "image/png": "[encoded data removed]",
            "text/plain": [
              "<Figure size 360x360 with 2 Axes>"
            ]
          },
          "metadata": {
            "tags": []
          }
        }
      ]
    },
    {
      "cell_type": "code",
      "metadata": {
        "id": "dGuTML2pp0ua",
        "colab_type": "code",
        "outputId": "a4aa7138-d8fd-4747-c6a3-0621240999a3",
        "colab": {
          "base_uri": "https://localhost:8080/",
          "height": 204
        }
      },
      "source": [
        "# Manually print confusion matrix\n",
        "print('  ', end='  ')\n",
        "print('0    ', end='')\n",
        "for j in labels[1:]:\n",
        "    print(str(j), end='   ')\n",
        "print()\n",
        "for idx, i in enumerate(M):\n",
        "    print(str(labels[idx]), end=' ')\n",
        "    for j in i:\n",
        "        print('%3d' % (j), end=' ')\n",
        "    print()"
      ],
      "execution_count": 0,
      "outputs": [
        {
          "output_type": "stream",
          "text": [
            "    0    1   2   3   4   5   6   7   8   9   \n",
            "0 1994   0   2   0   1   1   1   0   0   1 \n",
            "1   0 1992   6   0   0   0   0   2   0   0 \n",
            "2   2   1 1987   1   0   0   1   2   5   1 \n",
            "3   0   0   7 1983   0   4   0   3   3   0 \n",
            "4   1   1   0   0 1985   0   2   2   1   8 \n",
            "5   0   0   1   4   1 1991   0   0   2   1 \n",
            "6   3   3   0   0   0   2 1989   0   3   0 \n",
            "7   0   7   5   0   4   0   0 1983   0   1 \n",
            "8   1   1   3   0   3   2   1   0 1985   4 \n",
            "9   3   0   0   0   5   0   0   3   4 1985 \n"
          ],
          "name": "stdout"
        }
      ]
    },
    {
      "cell_type": "code",
      "metadata": {
        "id": "i8Dq-b2Fq2La",
        "colab_type": "code",
        "outputId": "aeae32a8-33e6-4cdd-8285-daf7163458b8",
        "colab": {
          "base_uri": "https://localhost:8080/",
          "height": 2877
        }
      },
      "source": [
        "# Visualise missclassified examples \n",
        "indexes = y_test!=y_predicted\n",
        "n = sum(indexes)  # 126\n",
        "x_test_wrong = np.array(x_test)[indexes]\n",
        "y_test_wrong = np.array(y_test)[indexes]\n",
        "y_predicted_wrong = np.array(y_predicted)[indexes]\n",
        "for i in range(10):\n",
        "  print('true label: ', y_test_wrong[i])\n",
        "  print('predicted label: ', y_predicted_wrong[i])\n",
        "  plt.imshow(x_test_wrong[i], cmap='gray')\n",
        "  plt.show()"
      ],
      "execution_count": 0,
      "outputs": [
        {
          "output_type": "stream",
          "text": [
            "true label:  1\n",
            "predicted label:  2\n"
          ],
          "name": "stdout"
        },
        {
          "output_type": "display_data",
          "data": {
            "image/png": "[encoded data removed]",
            "text/plain": [
              "<Figure size 432x288 with 1 Axes>"
            ]
          },
          "metadata": {
            "tags": []
          }
        },
        {
          "output_type": "stream",
          "text": [
            "true label:  2\n",
            "predicted label:  8\n"
          ],
          "name": "stdout"
        },
        {
          "output_type": "display_data",
          "data": {
            "image/png": "[encoded data removed]",
            "text/plain": [
              "<Figure size 432x288 with 1 Axes>"
            ]
          },
          "metadata": {
            "tags": []
          }
        },
        {
          "output_type": "stream",
          "text": [
            "true label:  5\n",
            "predicted label:  4\n"
          ],
          "name": "stdout"
        },
        {
          "output_type": "display_data",
          "data": {
            "image/png": "[encoded data removed]",
            "text/plain": [
              "<Figure size 432x288 with 1 Axes>"
            ]
          },
          "metadata": {
            "tags": []
          }
        },
        {
          "output_type": "stream",
          "text": [
            "true label:  7\n",
            "predicted label:  2\n"
          ],
          "name": "stdout"
        },
        {
          "output_type": "display_data",
          "data": {
            "image/png": "[encoded data removed]",
            "text/plain": [
              "<Figure size 432x288 with 1 Axes>"
            ]
          },
          "metadata": {
            "tags": []
          }
        },
        {
          "output_type": "stream",
          "text": [
            "true label:  8\n",
            "predicted label:  4\n"
          ],
          "name": "stdout"
        },
        {
          "output_type": "display_data",
          "data": {
            "image/png": "[encoded data removed]",
            "text/plain": [
              "<Figure size 432x288 with 1 Axes>"
            ]
          },
          "metadata": {
            "tags": []
          }
        },
        {
          "output_type": "stream",
          "text": [
            "true label:  8\n",
            "predicted label:  2\n"
          ],
          "name": "stdout"
        },
        {
          "output_type": "display_data",
          "data": {
            "image/png": "[encoded data removed]",
            "text/plain": [
              "<Figure size 432x288 with 1 Axes>"
            ]
          },
          "metadata": {
            "tags": []
          }
        },
        {
          "output_type": "stream",
          "text": [
            "true label:  2\n",
            "predicted label:  7\n"
          ],
          "name": "stdout"
        },
        {
          "output_type": "display_data",
          "data": {
            "image/png": "[encoded data removed]",
            "text/plain": [
              "<Figure size 432x288 with 1 Axes>"
            ]
          },
          "metadata": {
            "tags": []
          }
        },
        {
          "output_type": "stream",
          "text": [
            "true label:  6\n",
            "predicted label:  5\n"
          ],
          "name": "stdout"
        },
        {
          "output_type": "display_data",
          "data": {
            "image/png": "[encoded data removed]",
            "text/plain": [
              "<Figure size 432x288 with 1 Axes>"
            ]
          },
          "metadata": {
            "tags": []
          }
        },
        {
          "output_type": "stream",
          "text": [
            "true label:  5\n",
            "predicted label:  3\n"
          ],
          "name": "stdout"
        },
        {
          "output_type": "display_data",
          "data": {
            "image/png": "[encoded data removed]",
            "text/plain": [
              "<Figure size 432x288 with 1 Axes>"
            ]
          },
          "metadata": {
            "tags": []
          }
        },
        {
          "output_type": "stream",
          "text": [
            "true label:  8\n",
            "predicted label:  6\n"
          ],
          "name": "stdout"
        },
        {
          "output_type": "display_data",
          "data": {
            "image/png": "[encoded data removed]",
            "text/plain": [
              "<Figure size 432x288 with 1 Axes>"
            ]
          },
          "metadata": {
            "tags": []
          }
        }
      ]
    }
  ]
}